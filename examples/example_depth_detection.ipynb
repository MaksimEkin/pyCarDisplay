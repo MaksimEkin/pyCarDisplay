{
 "cells": [
  {
   "cell_type": "code",
   "execution_count": 1,
   "metadata": {},
   "outputs": [],
   "source": [
    "\"\"\"Compute depth maps for images in the input folder.\n",
    "\"\"\"\n",
    "import os\n",
    "import glob\n",
    "import torch\n",
    "#import utils\n",
    "import cv2\n",
    "import argparse\n",
    "from PIL import Image\n",
    "import numpy as np\n",
    "from torchvision.transforms import Compose\n",
    "from midas.midas_net import MidasNet\n",
    "from midas.midas_net_custom import MidasNet_small\n",
    "from midas.transforms import Resize, NormalizeImage, PrepareForNet\n",
    "def run(pil_image, output_path, model_path, model_type=\"large\", optimize=True):\n",
    "    \"\"\"Run MonoDepthNN to compute depth maps.\n",
    "\n",
    "    Args:\n",
    "        input_path (str): path to input folder\n",
    "        output_path (str): path to output folder\n",
    "        model_path (str): path to saved model\n",
    "    \"\"\"\n",
    "    #print(\"initialize\")\n",
    "\n",
    "    # select device\n",
    "    device = torch.device(\"cuda\" if torch.cuda.is_available() else \"cpu\")\n",
    "    #print(\"device: %s\" % device)\n",
    "\n",
    "    # load network\n",
    "    if model_type == \"large\":\n",
    "        model = MidasNet(model_path, non_negative=True)\n",
    "        net_w, net_h = 384, 384\n",
    "    elif model_type == \"small\":\n",
    "        model = MidasNet_small(model_path, features=64, backbone=\"efficientnet_lite3\", exportable=True, non_negative=True, blocks={'expand': True})\n",
    "        net_w, net_h = 256, 256\n",
    "    else:\n",
    "        print(f\"model_type '{model_type}' not implemented, use: --model_type large\")\n",
    "        assert False\n",
    "    \n",
    "    transform = Compose(\n",
    "        [\n",
    "            Resize(\n",
    "                net_w,\n",
    "                net_h,\n",
    "                resize_target=None,\n",
    "                keep_aspect_ratio=True,\n",
    "                ensure_multiple_of=32,\n",
    "                resize_method=\"upper_bound\",\n",
    "                image_interpolation_method=cv2.INTER_CUBIC,\n",
    "            ),\n",
    "            NormalizeImage(mean=[0.485, 0.456, 0.406], std=[0.229, 0.224, 0.225]),\n",
    "            PrepareForNet(),\n",
    "        ]\n",
    "    )\n",
    "\n",
    "    model.eval()\n",
    "    \n",
    "    if optimize==True:\n",
    "        rand_example = torch.rand(1, 3, net_h, net_w)\n",
    "        model(rand_example)\n",
    "        traced_script_module = torch.jit.trace(model, rand_example)\n",
    "        model = traced_script_module\n",
    "    \n",
    "        if device == torch.device(\"cuda\"):\n",
    "            model = model.to(memory_format=torch.channels_last)  \n",
    "            model = model.half()\n",
    "\n",
    "    model.to(device)\n",
    "\n",
    "    # get input\n",
    "    #img_names = glob.glob(os.path.join(input_path, \"*\"))\n",
    "    num_images = 1 #len(img_names)\n",
    "\n",
    "    # create output folder\n",
    "    os.makedirs(output_path, exist_ok=True)\n",
    "\n",
    "    #print(\"start processing\")\n",
    "\n",
    "    #for ind, img_name in enumerate(img_names):\n",
    "\n",
    "        #print(\"  processing {} ({}/{})\".format(img_name, ind + 1, num_images))\n",
    "\n",
    "        # input\n",
    "\n",
    "        #img = utils.read_image(img_name)\n",
    "    # use numpy to convert the pil_image into a numpy array\n",
    "    pil_image=np.array(pil_image)\n",
    "\n",
    "    # convert to a openCV2 image, notice the COLOR_RGB2BGR which means that \n",
    "    # the color is converted from RGB to BGR format\n",
    "    #img=cv2.cvtColor(numpy_image, cv2.COLOR_RGB2BGR)\n",
    "    img_input = transform({\"image\": pil_image})[\"image\"]\n",
    "\n",
    "    # compute\n",
    "    with torch.no_grad():\n",
    "        sample = torch.from_numpy(img_input).to(device).unsqueeze(0)\n",
    "        if optimize==True and device == torch.device(\"cuda\"):\n",
    "            sample = sample.to(memory_format=torch.channels_last)  \n",
    "            sample = sample.half()\n",
    "        prediction = model.forward(sample)\n",
    "        prediction = (\n",
    "            torch.nn.functional.interpolate(\n",
    "                prediction.unsqueeze(1),\n",
    "                size=pil_image.shape[:2],\n",
    "                mode=\"bicubic\",\n",
    "                align_corners=False,\n",
    "            )\n",
    "            .squeeze()\n",
    "            .cpu()\n",
    "            .numpy()\n",
    "        )\n",
    "\n",
    "    # output\n",
    "    #filename = os.path.join(\n",
    "    #    output_path, os.path.splitext(os.path.basename(img_name))[0]\n",
    "    #)\n",
    "    #return_val = utils.write_depth(img_input, prediction, bits=2)\n",
    "    \n",
    "    #color_coverted = cv2.cvtColor(img_input, cv2.COLOR_BGR2RGB)\n",
    "    #pil_image=Image.fromarray(color_coverted)\n",
    "\n",
    "    #print(\"finished\")\n",
    "    return prediction"
   ]
  },
  {
   "cell_type": "code",
   "execution_count": 2,
   "metadata": {},
   "outputs": [
    {
     "name": "stdout",
     "output_type": "stream",
     "text": [
      "initialize\n",
      "device: cpu\n",
      "Loading weights:  model-f6b98070.pt\n"
     ]
    },
    {
     "name": "stderr",
     "output_type": "stream",
     "text": [
      "Using cache found in /Users/ckvarga/.cache/torch/hub/facebookresearch_WSL-Images_master\n"
     ]
    },
    {
     "name": "stdout",
     "output_type": "stream",
     "text": [
      "start processing\n"
     ]
    },
    {
     "ename": "ValueError",
     "evalue": "operands could not be broadcast together with shapes (128,384) (3,) ",
     "output_type": "error",
     "traceback": [
      "\u001b[0;31m---------------------------------------------------------------------------\u001b[0m",
      "\u001b[0;31mValueError\u001b[0m                                Traceback (most recent call last)",
      "\u001b[0;32m<ipython-input-2-391ea2ced701>\u001b[0m in \u001b[0;36m<module>\u001b[0;34m\u001b[0m\n\u001b[1;32m      1\u001b[0m \u001b[0mimg_file\u001b[0m \u001b[0;34m=\u001b[0m \u001b[0;34m'input/0000000002.png'\u001b[0m\u001b[0;34m\u001b[0m\u001b[0;34m\u001b[0m\u001b[0m\n\u001b[1;32m      2\u001b[0m image = run(pil_image=Image.open(img_file), model_type='large', model_path='model-f6b98070.pt', optimize=\n\u001b[0;32m----> 3\u001b[0;31m             False, output_path='output')\n\u001b[0m",
      "\u001b[0;32m<ipython-input-1-886c89d357ca>\u001b[0m in \u001b[0;36mrun\u001b[0;34m(pil_image, output_path, model_path, model_type, optimize)\u001b[0m\n\u001b[1;32m     90\u001b[0m     \u001b[0;31m# the color is converted from RGB to BGR format\u001b[0m\u001b[0;34m\u001b[0m\u001b[0;34m\u001b[0m\u001b[0;34m\u001b[0m\u001b[0m\n\u001b[1;32m     91\u001b[0m     \u001b[0;31m#img=cv2.cvtColor(numpy_image, cv2.COLOR_RGB2BGR)\u001b[0m\u001b[0;34m\u001b[0m\u001b[0;34m\u001b[0m\u001b[0;34m\u001b[0m\u001b[0m\n\u001b[0;32m---> 92\u001b[0;31m     \u001b[0mimg_input\u001b[0m \u001b[0;34m=\u001b[0m \u001b[0mtransform\u001b[0m\u001b[0;34m(\u001b[0m\u001b[0;34m{\u001b[0m\u001b[0;34m\"image\"\u001b[0m\u001b[0;34m:\u001b[0m \u001b[0mpil_image\u001b[0m\u001b[0;34m}\u001b[0m\u001b[0;34m)\u001b[0m\u001b[0;34m[\u001b[0m\u001b[0;34m\"image\"\u001b[0m\u001b[0;34m]\u001b[0m\u001b[0;34m\u001b[0m\u001b[0;34m\u001b[0m\u001b[0m\n\u001b[0m\u001b[1;32m     93\u001b[0m \u001b[0;34m\u001b[0m\u001b[0m\n\u001b[1;32m     94\u001b[0m     \u001b[0;31m# compute\u001b[0m\u001b[0;34m\u001b[0m\u001b[0;34m\u001b[0m\u001b[0;34m\u001b[0m\u001b[0m\n",
      "\u001b[0;32m~/opt/anaconda3/lib/python3.7/site-packages/torchvision/transforms/transforms.py\u001b[0m in \u001b[0;36m__call__\u001b[0;34m(self, img)\u001b[0m\n\u001b[1;32m     58\u001b[0m     \u001b[0;32mdef\u001b[0m \u001b[0m__call__\u001b[0m\u001b[0;34m(\u001b[0m\u001b[0mself\u001b[0m\u001b[0;34m,\u001b[0m \u001b[0mimg\u001b[0m\u001b[0;34m)\u001b[0m\u001b[0;34m:\u001b[0m\u001b[0;34m\u001b[0m\u001b[0;34m\u001b[0m\u001b[0m\n\u001b[1;32m     59\u001b[0m         \u001b[0;32mfor\u001b[0m \u001b[0mt\u001b[0m \u001b[0;32min\u001b[0m \u001b[0mself\u001b[0m\u001b[0;34m.\u001b[0m\u001b[0mtransforms\u001b[0m\u001b[0;34m:\u001b[0m\u001b[0;34m\u001b[0m\u001b[0;34m\u001b[0m\u001b[0m\n\u001b[0;32m---> 60\u001b[0;31m             \u001b[0mimg\u001b[0m \u001b[0;34m=\u001b[0m \u001b[0mt\u001b[0m\u001b[0;34m(\u001b[0m\u001b[0mimg\u001b[0m\u001b[0;34m)\u001b[0m\u001b[0;34m\u001b[0m\u001b[0;34m\u001b[0m\u001b[0m\n\u001b[0m\u001b[1;32m     61\u001b[0m         \u001b[0;32mreturn\u001b[0m \u001b[0mimg\u001b[0m\u001b[0;34m\u001b[0m\u001b[0;34m\u001b[0m\u001b[0m\n\u001b[1;32m     62\u001b[0m \u001b[0;34m\u001b[0m\u001b[0m\n",
      "\u001b[0;32m~/Desktop/pyCarDisplay/pyCarDisplay/detection/midas/transforms.py\u001b[0m in \u001b[0;36m__call__\u001b[0;34m(self, sample)\u001b[0m\n\u001b[1;32m    204\u001b[0m \u001b[0;34m\u001b[0m\u001b[0m\n\u001b[1;32m    205\u001b[0m     \u001b[0;32mdef\u001b[0m \u001b[0m__call__\u001b[0m\u001b[0;34m(\u001b[0m\u001b[0mself\u001b[0m\u001b[0;34m,\u001b[0m \u001b[0msample\u001b[0m\u001b[0;34m)\u001b[0m\u001b[0;34m:\u001b[0m\u001b[0;34m\u001b[0m\u001b[0;34m\u001b[0m\u001b[0m\n\u001b[0;32m--> 206\u001b[0;31m         \u001b[0msample\u001b[0m\u001b[0;34m[\u001b[0m\u001b[0;34m\"image\"\u001b[0m\u001b[0;34m]\u001b[0m \u001b[0;34m=\u001b[0m \u001b[0;34m(\u001b[0m\u001b[0msample\u001b[0m\u001b[0;34m[\u001b[0m\u001b[0;34m\"image\"\u001b[0m\u001b[0;34m]\u001b[0m \u001b[0;34m-\u001b[0m \u001b[0mself\u001b[0m\u001b[0;34m.\u001b[0m\u001b[0m__mean\u001b[0m\u001b[0;34m)\u001b[0m \u001b[0;34m/\u001b[0m \u001b[0mself\u001b[0m\u001b[0;34m.\u001b[0m\u001b[0m__std\u001b[0m\u001b[0;34m\u001b[0m\u001b[0;34m\u001b[0m\u001b[0m\n\u001b[0m\u001b[1;32m    207\u001b[0m \u001b[0;34m\u001b[0m\u001b[0m\n\u001b[1;32m    208\u001b[0m         \u001b[0;32mreturn\u001b[0m \u001b[0msample\u001b[0m\u001b[0;34m\u001b[0m\u001b[0;34m\u001b[0m\u001b[0m\n",
      "\u001b[0;31mValueError\u001b[0m: operands could not be broadcast together with shapes (128,384) (3,) "
     ]
    }
   ],
   "source": [
    "img_file = 'input/0000000002.png'\n",
    "image = run(pil_image=Image.open(img_file), model_type='large', model_path='model-f6b98070.pt', optimize=\n",
    "            False, output_path='output')"
   ]
  },
  {
   "cell_type": "code",
   "execution_count": null,
   "metadata": {},
   "outputs": [],
   "source": [
    "%matplotlib inline\n",
    "import matplotlib.pyplot as plt\n",
    "import matplotlib.image as mpimg\n",
    "from IPython.display import Image\n",
    "#plt.figure(figsize=(15,8),dpi=300)\n",
    "img = plt.imread(img_file)\n",
    "fig, ax = plt.subplots(figsize=(15,8),dpi=300)\n",
    "ax.imshow(img)\n",
    "ax.imshow(image,alpha=0.6, cmap='nipy_spectral')\n",
    "#imgplot = plt.imshow(image)#np.log2(image))\n",
    "#imgplot.set_cmap('nipy_spectral')\n",
    "#plt.colorbar()"
   ]
  },
  {
   "cell_type": "code",
   "execution_count": null,
   "metadata": {},
   "outputs": [],
   "source": [
    "Image(filename=img_file)"
   ]
  },
  {
   "cell_type": "code",
   "execution_count": null,
   "metadata": {},
   "outputs": [],
   "source": []
  }
 ],
 "metadata": {
  "kernelspec": {
   "display_name": "Python 3",
   "language": "python",
   "name": "python3"
  },
  "language_info": {
   "codemirror_mode": {
    "name": "ipython",
    "version": 3
   },
   "file_extension": ".py",
   "mimetype": "text/x-python",
   "name": "python",
   "nbconvert_exporter": "python",
   "pygments_lexer": "ipython3",
   "version": "3.7.4"
  }
 },
 "nbformat": 4,
 "nbformat_minor": 2
}
