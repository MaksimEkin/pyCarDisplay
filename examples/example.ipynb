{
 "cells": [
  {
   "cell_type": "code",
   "execution_count": 1,
   "metadata": {},
   "outputs": [],
   "source": [
    "from pyCarDisplay.pyCarDisplay import CarDisplay"
   ]
  },
  {
   "cell_type": "code",
   "execution_count": 2,
   "metadata": {},
   "outputs": [
    {
     "name": "stdout",
     "output_type": "stream",
     "text": [
      "Car configurations:\n",
      "car_images_path = ../data/2011_09_26/2011_09_26_drive_0002_sync/image_02/data/\n",
      "imu_sensor_path = ../data/2011_09_26/2011_09_26_drive_0002_sync/oxts/data/\n",
      "lidar_sensor_path = ../data/2011_09_26/2011_09_26_drive_0002_sync/velodyne_points/dat/a\n",
      "object_detection_model_path = ../data/checkpoint_ssd300.pth.tar\n",
      "depth_detection_model_path = heh\n",
      "img_resize_size = (300, 300)\n",
      "norm_mean = [0.485, 0.456, 0.406]\n",
      "norm_std = [0.229, 0.224, 0.225]\n",
      "R_covariance = 0.1\n",
      "add_noise = True\n",
      "IMU_names = lat\n",
      "gui_speed = 1\n",
      "random_state = 42\n",
      "image_extension = png\n",
      "verbose = True\n",
      "Object detection is using: cpu\n",
      "Object detection API is loading the model: ../data/checkpoint_ssd300.pth.tar\n",
      "\n",
      "Loaded checkpoint from epoch 232.\n",
      "\n",
      "Loading the IMU data...\n"
     ]
    },
    {
     "name": "stderr",
     "output_type": "stream",
     "text": [
      "/opt/anaconda3/envs/pyCarDisplay/lib/python3.8/site-packages/torch-1.8.0-py3.8-macosx-10.9-x86_64.egg/torch/serialization.py:656: SourceChangeWarning: source code of class 'torch.nn.modules.conv.Conv2d' has changed. you can retrieve the original source code by accessing the object's source attribute or set `torch.nn.Module.dump_patches = True` and use the patch tool to revert the changes.\n",
      "  warnings.warn(msg, SourceChangeWarning)\n",
      "/opt/anaconda3/envs/pyCarDisplay/lib/python3.8/site-packages/torch-1.8.0-py3.8-macosx-10.9-x86_64.egg/torch/serialization.py:656: SourceChangeWarning: source code of class 'torch.nn.modules.pooling.MaxPool2d' has changed. you can retrieve the original source code by accessing the object's source attribute or set `torch.nn.Module.dump_patches = True` and use the patch tool to revert the changes.\n",
      "  warnings.warn(msg, SourceChangeWarning)\n"
     ]
    },
    {
     "name": "stdout",
     "output_type": "stream",
     "text": [
      "<class 'pandas.core.frame.DataFrame'>\n",
      "Int64Index: 77 entries, 0 to 0\n",
      "Data columns (total 31 columns):\n",
      " #   Column        Non-Null Count  Dtype  \n",
      "---  ------        --------------  -----  \n",
      " 0   lat           77 non-null     float64\n",
      " 1   lon           77 non-null     float64\n",
      " 2   alt           77 non-null     float64\n",
      " 3   roll          77 non-null     float64\n",
      " 4   pitch         77 non-null     float64\n",
      " 5   yaw           77 non-null     float64\n",
      " 6   vn            77 non-null     float64\n",
      " 7   ve            77 non-null     float64\n",
      " 8   vf            77 non-null     float64\n",
      " 9   vl            77 non-null     float64\n",
      " 10  vu            77 non-null     float64\n",
      " 11  ax            77 non-null     float64\n",
      " 12  ay            77 non-null     float64\n",
      " 13  az            77 non-null     float64\n",
      " 14  af            77 non-null     float64\n",
      " 15  al            77 non-null     float64\n",
      " 16  au            77 non-null     float64\n",
      " 17  wx            77 non-null     float64\n",
      " 18  wy            77 non-null     float64\n",
      " 19  wz            77 non-null     float64\n",
      " 20  wf            77 non-null     float64\n",
      " 21  wl            77 non-null     float64\n",
      " 22  wu            77 non-null     float64\n",
      " 23  pos_accuracy  77 non-null     float64\n",
      " 24  vel_accuracy  77 non-null     float64\n",
      " 25  navstat       77 non-null     int64  \n",
      " 26  numsats       77 non-null     int64  \n",
      " 27  posmode       77 non-null     int64  \n",
      " 28  velmode       77 non-null     int64  \n",
      " 29  orimode       77 non-null     int64  \n",
      " 30  frame         77 non-null     int64  \n",
      "dtypes: float64(25), int64(6)\n",
      "memory usage: 19.2 KB\n",
      "None\n",
      "Initilized IMU\n",
      "Current frame:0\n",
      "Total number of frames:77\n",
      "Total image frames loaded:77\n"
     ]
    }
   ],
   "source": [
    "display = CarDisplay(\n",
    "    car_images_path=\"../data/2011_09_26/2011_09_26_drive_0002_sync/image_02/data/\", \n",
    "    imu_sensor_path='../data/2011_09_26/2011_09_26_drive_0002_sync/oxts/data/',\n",
    "    lidar_sensor_path='../data/2011_09_26/2011_09_26_drive_0002_sync/velodyne_points/dat/a',\n",
    "    object_detection_model_path='../data/checkpoint_ssd300.pth.tar',\n",
    "    IMU_names = \"lat\",\n",
    "    depth_detection_model_path='heh',\n",
    "    verbose=True\n",
    ")\n"
   ]
  },
  {
   "cell_type": "code",
   "execution_count": 3,
   "metadata": {},
   "outputs": [
    {
     "name": "stdout",
     "output_type": "stream",
     "text": [
      "<class 'PIL.Image.Image'>\n",
      "* Error performing wm_overrideredirect *\n",
      "Examine imu= 49.06400001155612\n",
      "Examine Kalman= 45.456\n",
      "gold_speed True Speed: 49.06400001155612\n"
     ]
    },
    {
     "name": "stderr",
     "output_type": "stream",
     "text": [
      "/Users/maksimekineren/Desktop/Maksim/UMBC/Classes/Spring 2021/CMSC 611/Project/pyCarDisplay/examples/model.py:504: UserWarning: indexing with dtype torch.uint8 is now deprecated, please use a dtype torch.bool instead. (Triggered internally at  ../aten/src/ATen/native/IndexingUtils.h:30.)\n",
      "  image_boxes.append(class_decoded_locs[1 - suppress])\n",
      "/Users/maksimekineren/Desktop/Maksim/UMBC/Classes/Spring 2021/CMSC 611/Project/pyCarDisplay/examples/model.py:506: UserWarning: indexing with dtype torch.uint8 is now deprecated, please use a dtype torch.bool instead. (Triggered internally at  ../aten/src/ATen/native/IndexingUtils.h:30.)\n",
      "  image_scores.append(class_scores[1 - suppress])\n"
     ]
    },
    {
     "name": "stdout",
     "output_type": "stream",
     "text": [
      "<class 'PIL.Image.Image'>\n",
      "Examine imu= 49.00055571341688\n",
      "Examine Kalman= 45.456\n",
      "gold_speed True Speed: 49.00055571341688\n"
     ]
    },
    {
     "name": "stderr",
     "output_type": "stream",
     "text": [
      "/Users/maksimekineren/Desktop/Maksim/UMBC/Classes/Spring 2021/CMSC 611/Project/pyCarDisplay/examples/model.py:504: UserWarning: indexing with dtype torch.uint8 is now deprecated, please use a dtype torch.bool instead. (Triggered internally at  ../aten/src/ATen/native/IndexingUtils.h:30.)\n",
      "  image_boxes.append(class_decoded_locs[1 - suppress])\n",
      "/Users/maksimekineren/Desktop/Maksim/UMBC/Classes/Spring 2021/CMSC 611/Project/pyCarDisplay/examples/model.py:506: UserWarning: indexing with dtype torch.uint8 is now deprecated, please use a dtype torch.bool instead. (Triggered internally at  ../aten/src/ATen/native/IndexingUtils.h:30.)\n",
      "  image_scores.append(class_scores[1 - suppress])\n",
      "/Users/maksimekineren/Desktop/Maksim/UMBC/Classes/Spring 2021/CMSC 611/Project/pyCarDisplay/examples/model.py:504: UserWarning: indexing with dtype torch.uint8 is now deprecated, please use a dtype torch.bool instead. (Triggered internally at  ../aten/src/ATen/native/IndexingUtils.h:30.)\n",
      "  image_boxes.append(class_decoded_locs[1 - suppress])\n",
      "/Users/maksimekineren/Desktop/Maksim/UMBC/Classes/Spring 2021/CMSC 611/Project/pyCarDisplay/examples/model.py:506: UserWarning: indexing with dtype torch.uint8 is now deprecated, please use a dtype torch.bool instead. (Triggered internally at  ../aten/src/ATen/native/IndexingUtils.h:30.)\n",
      "  image_scores.append(class_scores[1 - suppress])\n"
     ]
    },
    {
     "name": "stdout",
     "output_type": "stream",
     "text": [
      "<class 'PIL.Image.Image'>\n",
      "Examine imu= 49.079147280093075\n",
      "Examine Kalman= 45.456\n",
      "gold_speed True Speed: 49.079147280093075\n"
     ]
    },
    {
     "name": "stderr",
     "output_type": "stream",
     "text": [
      "/Users/maksimekineren/Desktop/Maksim/UMBC/Classes/Spring 2021/CMSC 611/Project/pyCarDisplay/examples/model.py:504: UserWarning: indexing with dtype torch.uint8 is now deprecated, please use a dtype torch.bool instead. (Triggered internally at  ../aten/src/ATen/native/IndexingUtils.h:30.)\n",
      "  image_boxes.append(class_decoded_locs[1 - suppress])\n",
      "/Users/maksimekineren/Desktop/Maksim/UMBC/Classes/Spring 2021/CMSC 611/Project/pyCarDisplay/examples/model.py:506: UserWarning: indexing with dtype torch.uint8 is now deprecated, please use a dtype torch.bool instead. (Triggered internally at  ../aten/src/ATen/native/IndexingUtils.h:30.)\n",
      "  image_scores.append(class_scores[1 - suppress])\n",
      "/Users/maksimekineren/Desktop/Maksim/UMBC/Classes/Spring 2021/CMSC 611/Project/pyCarDisplay/examples/model.py:504: UserWarning: indexing with dtype torch.uint8 is now deprecated, please use a dtype torch.bool instead. (Triggered internally at  ../aten/src/ATen/native/IndexingUtils.h:30.)\n",
      "  image_boxes.append(class_decoded_locs[1 - suppress])\n",
      "/Users/maksimekineren/Desktop/Maksim/UMBC/Classes/Spring 2021/CMSC 611/Project/pyCarDisplay/examples/model.py:506: UserWarning: indexing with dtype torch.uint8 is now deprecated, please use a dtype torch.bool instead. (Triggered internally at  ../aten/src/ATen/native/IndexingUtils.h:30.)\n",
      "  image_scores.append(class_scores[1 - suppress])\n"
     ]
    },
    {
     "name": "stdout",
     "output_type": "stream",
     "text": [
      "<class 'PIL.Image.Image'>\n",
      "Examine imu= 49.1666275986338\n",
      "Examine Kalman= 45.456\n",
      "gold_speed True Speed: 49.1666275986338\n"
     ]
    },
    {
     "name": "stderr",
     "output_type": "stream",
     "text": [
      "/Users/maksimekineren/Desktop/Maksim/UMBC/Classes/Spring 2021/CMSC 611/Project/pyCarDisplay/examples/model.py:504: UserWarning: indexing with dtype torch.uint8 is now deprecated, please use a dtype torch.bool instead. (Triggered internally at  ../aten/src/ATen/native/IndexingUtils.h:30.)\n",
      "  image_boxes.append(class_decoded_locs[1 - suppress])\n",
      "/Users/maksimekineren/Desktop/Maksim/UMBC/Classes/Spring 2021/CMSC 611/Project/pyCarDisplay/examples/model.py:506: UserWarning: indexing with dtype torch.uint8 is now deprecated, please use a dtype torch.bool instead. (Triggered internally at  ../aten/src/ATen/native/IndexingUtils.h:30.)\n",
      "  image_scores.append(class_scores[1 - suppress])\n",
      "/Users/maksimekineren/Desktop/Maksim/UMBC/Classes/Spring 2021/CMSC 611/Project/pyCarDisplay/examples/model.py:504: UserWarning: indexing with dtype torch.uint8 is now deprecated, please use a dtype torch.bool instead. (Triggered internally at  ../aten/src/ATen/native/IndexingUtils.h:30.)\n",
      "  image_boxes.append(class_decoded_locs[1 - suppress])\n",
      "/Users/maksimekineren/Desktop/Maksim/UMBC/Classes/Spring 2021/CMSC 611/Project/pyCarDisplay/examples/model.py:506: UserWarning: indexing with dtype torch.uint8 is now deprecated, please use a dtype torch.bool instead. (Triggered internally at  ../aten/src/ATen/native/IndexingUtils.h:30.)\n",
      "  image_scores.append(class_scores[1 - suppress])\n"
     ]
    },
    {
     "name": "stdout",
     "output_type": "stream",
     "text": [
      "<class 'PIL.Image.Image'>\n",
      "Examine imu= 48.99085881720466\n",
      "Examine Kalman= 45.456\n",
      "gold_speed True Speed: 48.99085881720466\n"
     ]
    },
    {
     "name": "stderr",
     "output_type": "stream",
     "text": [
      "/Users/maksimekineren/Desktop/Maksim/UMBC/Classes/Spring 2021/CMSC 611/Project/pyCarDisplay/examples/model.py:504: UserWarning: indexing with dtype torch.uint8 is now deprecated, please use a dtype torch.bool instead. (Triggered internally at  ../aten/src/ATen/native/IndexingUtils.h:30.)\n",
      "  image_boxes.append(class_decoded_locs[1 - suppress])\n",
      "/Users/maksimekineren/Desktop/Maksim/UMBC/Classes/Spring 2021/CMSC 611/Project/pyCarDisplay/examples/model.py:506: UserWarning: indexing with dtype torch.uint8 is now deprecated, please use a dtype torch.bool instead. (Triggered internally at  ../aten/src/ATen/native/IndexingUtils.h:30.)\n",
      "  image_scores.append(class_scores[1 - suppress])\n"
     ]
    },
    {
     "name": "stdout",
     "output_type": "stream",
     "text": [
      "<class 'PIL.Image.Image'>\n",
      "Examine imu= 48.99097179436808\n",
      "Examine Kalman= 45.456\n",
      "gold_speed True Speed: 48.99097179436808\n"
     ]
    },
    {
     "name": "stderr",
     "output_type": "stream",
     "text": [
      "/Users/maksimekineren/Desktop/Maksim/UMBC/Classes/Spring 2021/CMSC 611/Project/pyCarDisplay/examples/model.py:504: UserWarning: indexing with dtype torch.uint8 is now deprecated, please use a dtype torch.bool instead. (Triggered internally at  ../aten/src/ATen/native/IndexingUtils.h:30.)\n",
      "  image_boxes.append(class_decoded_locs[1 - suppress])\n",
      "/Users/maksimekineren/Desktop/Maksim/UMBC/Classes/Spring 2021/CMSC 611/Project/pyCarDisplay/examples/model.py:506: UserWarning: indexing with dtype torch.uint8 is now deprecated, please use a dtype torch.bool instead. (Triggered internally at  ../aten/src/ATen/native/IndexingUtils.h:30.)\n",
      "  image_scores.append(class_scores[1 - suppress])\n",
      "/Users/maksimekineren/Desktop/Maksim/UMBC/Classes/Spring 2021/CMSC 611/Project/pyCarDisplay/examples/model.py:504: UserWarning: indexing with dtype torch.uint8 is now deprecated, please use a dtype torch.bool instead. (Triggered internally at  ../aten/src/ATen/native/IndexingUtils.h:30.)\n",
      "  image_boxes.append(class_decoded_locs[1 - suppress])\n",
      "/Users/maksimekineren/Desktop/Maksim/UMBC/Classes/Spring 2021/CMSC 611/Project/pyCarDisplay/examples/model.py:506: UserWarning: indexing with dtype torch.uint8 is now deprecated, please use a dtype torch.bool instead. (Triggered internally at  ../aten/src/ATen/native/IndexingUtils.h:30.)\n",
      "  image_scores.append(class_scores[1 - suppress])\n"
     ]
    },
    {
     "name": "stdout",
     "output_type": "stream",
     "text": [
      "<class 'PIL.Image.Image'>\n",
      "Examine imu= 49.17225423138574\n",
      "Examine Kalman= 45.456\n",
      "gold_speed True Speed: 49.17225423138574\n"
     ]
    },
    {
     "name": "stderr",
     "output_type": "stream",
     "text": [
      "/Users/maksimekineren/Desktop/Maksim/UMBC/Classes/Spring 2021/CMSC 611/Project/pyCarDisplay/examples/model.py:504: UserWarning: indexing with dtype torch.uint8 is now deprecated, please use a dtype torch.bool instead. (Triggered internally at  ../aten/src/ATen/native/IndexingUtils.h:30.)\n",
      "  image_boxes.append(class_decoded_locs[1 - suppress])\n",
      "/Users/maksimekineren/Desktop/Maksim/UMBC/Classes/Spring 2021/CMSC 611/Project/pyCarDisplay/examples/model.py:506: UserWarning: indexing with dtype torch.uint8 is now deprecated, please use a dtype torch.bool instead. (Triggered internally at  ../aten/src/ATen/native/IndexingUtils.h:30.)\n",
      "  image_scores.append(class_scores[1 - suppress])\n"
     ]
    },
    {
     "name": "stdout",
     "output_type": "stream",
     "text": [
      "<class 'PIL.Image.Image'>\n",
      "Examine imu= 49.09108032305529\n",
      "Examine Kalman= 45.456\n",
      "gold_speed True Speed: 49.09108032305529\n"
     ]
    },
    {
     "name": "stderr",
     "output_type": "stream",
     "text": [
      "/Users/maksimekineren/Desktop/Maksim/UMBC/Classes/Spring 2021/CMSC 611/Project/pyCarDisplay/examples/model.py:504: UserWarning: indexing with dtype torch.uint8 is now deprecated, please use a dtype torch.bool instead. (Triggered internally at  ../aten/src/ATen/native/IndexingUtils.h:30.)\n",
      "  image_boxes.append(class_decoded_locs[1 - suppress])\n",
      "/Users/maksimekineren/Desktop/Maksim/UMBC/Classes/Spring 2021/CMSC 611/Project/pyCarDisplay/examples/model.py:506: UserWarning: indexing with dtype torch.uint8 is now deprecated, please use a dtype torch.bool instead. (Triggered internally at  ../aten/src/ATen/native/IndexingUtils.h:30.)\n",
      "  image_scores.append(class_scores[1 - suppress])\n"
     ]
    },
    {
     "name": "stdout",
     "output_type": "stream",
     "text": [
      "<class 'PIL.Image.Image'>\n",
      "Examine imu= 48.9674413446695\n",
      "Examine Kalman= 45.456\n",
      "gold_speed True Speed: 48.9674413446695\n"
     ]
    },
    {
     "name": "stderr",
     "output_type": "stream",
     "text": [
      "/Users/maksimekineren/Desktop/Maksim/UMBC/Classes/Spring 2021/CMSC 611/Project/pyCarDisplay/examples/model.py:504: UserWarning: indexing with dtype torch.uint8 is now deprecated, please use a dtype torch.bool instead. (Triggered internally at  ../aten/src/ATen/native/IndexingUtils.h:30.)\n",
      "  image_boxes.append(class_decoded_locs[1 - suppress])\n",
      "/Users/maksimekineren/Desktop/Maksim/UMBC/Classes/Spring 2021/CMSC 611/Project/pyCarDisplay/examples/model.py:506: UserWarning: indexing with dtype torch.uint8 is now deprecated, please use a dtype torch.bool instead. (Triggered internally at  ../aten/src/ATen/native/IndexingUtils.h:30.)\n",
      "  image_scores.append(class_scores[1 - suppress])\n",
      "/Users/maksimekineren/Desktop/Maksim/UMBC/Classes/Spring 2021/CMSC 611/Project/pyCarDisplay/examples/model.py:504: UserWarning: indexing with dtype torch.uint8 is now deprecated, please use a dtype torch.bool instead. (Triggered internally at  ../aten/src/ATen/native/IndexingUtils.h:30.)\n",
      "  image_boxes.append(class_decoded_locs[1 - suppress])\n",
      "/Users/maksimekineren/Desktop/Maksim/UMBC/Classes/Spring 2021/CMSC 611/Project/pyCarDisplay/examples/model.py:506: UserWarning: indexing with dtype torch.uint8 is now deprecated, please use a dtype torch.bool instead. (Triggered internally at  ../aten/src/ATen/native/IndexingUtils.h:30.)\n",
      "  image_scores.append(class_scores[1 - suppress])\n"
     ]
    },
    {
     "name": "stdout",
     "output_type": "stream",
     "text": [
      "<class 'PIL.Image.Image'>\n",
      "Examine imu= 49.0685347098406\n",
      "Examine Kalman= 45.456\n",
      "gold_speed True Speed: 49.0685347098406\n"
     ]
    },
    {
     "name": "stderr",
     "output_type": "stream",
     "text": [
      "/Users/maksimekineren/Desktop/Maksim/UMBC/Classes/Spring 2021/CMSC 611/Project/pyCarDisplay/examples/model.py:504: UserWarning: indexing with dtype torch.uint8 is now deprecated, please use a dtype torch.bool instead. (Triggered internally at  ../aten/src/ATen/native/IndexingUtils.h:30.)\n",
      "  image_boxes.append(class_decoded_locs[1 - suppress])\n",
      "/Users/maksimekineren/Desktop/Maksim/UMBC/Classes/Spring 2021/CMSC 611/Project/pyCarDisplay/examples/model.py:506: UserWarning: indexing with dtype torch.uint8 is now deprecated, please use a dtype torch.bool instead. (Triggered internally at  ../aten/src/ATen/native/IndexingUtils.h:30.)\n",
      "  image_scores.append(class_scores[1 - suppress])\n"
     ]
    },
    {
     "name": "stdout",
     "output_type": "stream",
     "text": [
      "<class 'PIL.Image.Image'>\n",
      "Examine imu= 48.96803321951875\n",
      "Examine Kalman= 45.456\n",
      "gold_speed True Speed: 48.96803321951875\n",
      "<class 'PIL.Image.Image'>\n",
      "Examine imu= 48.96777963830298\n",
      "Examine Kalman= 45.456\n",
      "gold_speed True Speed: 48.96777963830298\n",
      "<class 'PIL.Image.Image'>\n",
      "Examine imu= 49.0385450431516\n",
      "Examine Kalman= 45.456\n",
      "gold_speed True Speed: 49.0385450431516\n",
      "<class 'PIL.Image.Image'>\n",
      "Examine imu= 48.823043482080216\n",
      "Examine Kalman= 45.456\n",
      "gold_speed True Speed: 48.823043482080216\n"
     ]
    },
    {
     "name": "stderr",
     "output_type": "stream",
     "text": [
      "/Users/maksimekineren/Desktop/Maksim/UMBC/Classes/Spring 2021/CMSC 611/Project/pyCarDisplay/examples/model.py:504: UserWarning: indexing with dtype torch.uint8 is now deprecated, please use a dtype torch.bool instead. (Triggered internally at  ../aten/src/ATen/native/IndexingUtils.h:30.)\n",
      "  image_boxes.append(class_decoded_locs[1 - suppress])\n",
      "/Users/maksimekineren/Desktop/Maksim/UMBC/Classes/Spring 2021/CMSC 611/Project/pyCarDisplay/examples/model.py:506: UserWarning: indexing with dtype torch.uint8 is now deprecated, please use a dtype torch.bool instead. (Triggered internally at  ../aten/src/ATen/native/IndexingUtils.h:30.)\n",
      "  image_scores.append(class_scores[1 - suppress])\n"
     ]
    },
    {
     "name": "stdout",
     "output_type": "stream",
     "text": [
      "<class 'PIL.Image.Image'>\n",
      "Examine imu= 48.841848942480695\n",
      "Examine Kalman= 45.456\n",
      "gold_speed True Speed: 48.841848942480695\n",
      "<class 'PIL.Image.Image'>\n",
      "Examine imu= 48.9581353175399\n",
      "Examine Kalman= 45.456\n",
      "gold_speed True Speed: 48.9581353175399\n"
     ]
    },
    {
     "name": "stderr",
     "output_type": "stream",
     "text": [
      "/Users/maksimekineren/Desktop/Maksim/UMBC/Classes/Spring 2021/CMSC 611/Project/pyCarDisplay/examples/model.py:504: UserWarning: indexing with dtype torch.uint8 is now deprecated, please use a dtype torch.bool instead. (Triggered internally at  ../aten/src/ATen/native/IndexingUtils.h:30.)\n",
      "  image_boxes.append(class_decoded_locs[1 - suppress])\n",
      "/Users/maksimekineren/Desktop/Maksim/UMBC/Classes/Spring 2021/CMSC 611/Project/pyCarDisplay/examples/model.py:506: UserWarning: indexing with dtype torch.uint8 is now deprecated, please use a dtype torch.bool instead. (Triggered internally at  ../aten/src/ATen/native/IndexingUtils.h:30.)\n",
      "  image_scores.append(class_scores[1 - suppress])\n",
      "/Users/maksimekineren/Desktop/Maksim/UMBC/Classes/Spring 2021/CMSC 611/Project/pyCarDisplay/examples/model.py:504: UserWarning: indexing with dtype torch.uint8 is now deprecated, please use a dtype torch.bool instead. (Triggered internally at  ../aten/src/ATen/native/IndexingUtils.h:30.)\n",
      "  image_boxes.append(class_decoded_locs[1 - suppress])\n",
      "/Users/maksimekineren/Desktop/Maksim/UMBC/Classes/Spring 2021/CMSC 611/Project/pyCarDisplay/examples/model.py:506: UserWarning: indexing with dtype torch.uint8 is now deprecated, please use a dtype torch.bool instead. (Triggered internally at  ../aten/src/ATen/native/IndexingUtils.h:30.)\n",
      "  image_scores.append(class_scores[1 - suppress])\n"
     ]
    },
    {
     "name": "stdout",
     "output_type": "stream",
     "text": [
      "<class 'PIL.Image.Image'>\n",
      "Examine imu= 48.91308488934456\n",
      "Examine Kalman= 45.456\n",
      "gold_speed True Speed: 48.91308488934456\n"
     ]
    },
    {
     "name": "stderr",
     "output_type": "stream",
     "text": [
      "/Users/maksimekineren/Desktop/Maksim/UMBC/Classes/Spring 2021/CMSC 611/Project/pyCarDisplay/examples/model.py:504: UserWarning: indexing with dtype torch.uint8 is now deprecated, please use a dtype torch.bool instead. (Triggered internally at  ../aten/src/ATen/native/IndexingUtils.h:30.)\n",
      "  image_boxes.append(class_decoded_locs[1 - suppress])\n",
      "/Users/maksimekineren/Desktop/Maksim/UMBC/Classes/Spring 2021/CMSC 611/Project/pyCarDisplay/examples/model.py:506: UserWarning: indexing with dtype torch.uint8 is now deprecated, please use a dtype torch.bool instead. (Triggered internally at  ../aten/src/ATen/native/IndexingUtils.h:30.)\n",
      "  image_scores.append(class_scores[1 - suppress])\n",
      "/Users/maksimekineren/Desktop/Maksim/UMBC/Classes/Spring 2021/CMSC 611/Project/pyCarDisplay/examples/model.py:504: UserWarning: indexing with dtype torch.uint8 is now deprecated, please use a dtype torch.bool instead. (Triggered internally at  ../aten/src/ATen/native/IndexingUtils.h:30.)\n",
      "  image_boxes.append(class_decoded_locs[1 - suppress])\n",
      "/Users/maksimekineren/Desktop/Maksim/UMBC/Classes/Spring 2021/CMSC 611/Project/pyCarDisplay/examples/model.py:506: UserWarning: indexing with dtype torch.uint8 is now deprecated, please use a dtype torch.bool instead. (Triggered internally at  ../aten/src/ATen/native/IndexingUtils.h:30.)\n",
      "  image_scores.append(class_scores[1 - suppress])\n"
     ]
    },
    {
     "name": "stdout",
     "output_type": "stream",
     "text": [
      "<class 'PIL.Image.Image'>\n",
      "Examine imu= 49.04576971767753\n",
      "Examine Kalman= 45.456\n",
      "gold_speed True Speed: 49.04576971767753\n",
      "<class 'PIL.Image.Image'>\n",
      "Examine imu= 48.923656742905884\n",
      "Examine Kalman= 45.456\n",
      "gold_speed True Speed: 48.923656742905884\n"
     ]
    },
    {
     "name": "stderr",
     "output_type": "stream",
     "text": [
      "/Users/maksimekineren/Desktop/Maksim/UMBC/Classes/Spring 2021/CMSC 611/Project/pyCarDisplay/examples/model.py:504: UserWarning: indexing with dtype torch.uint8 is now deprecated, please use a dtype torch.bool instead. (Triggered internally at  ../aten/src/ATen/native/IndexingUtils.h:30.)\n",
      "  image_boxes.append(class_decoded_locs[1 - suppress])\n",
      "/Users/maksimekineren/Desktop/Maksim/UMBC/Classes/Spring 2021/CMSC 611/Project/pyCarDisplay/examples/model.py:506: UserWarning: indexing with dtype torch.uint8 is now deprecated, please use a dtype torch.bool instead. (Triggered internally at  ../aten/src/ATen/native/IndexingUtils.h:30.)\n",
      "  image_scores.append(class_scores[1 - suppress])\n",
      "/Users/maksimekineren/Desktop/Maksim/UMBC/Classes/Spring 2021/CMSC 611/Project/pyCarDisplay/examples/model.py:504: UserWarning: indexing with dtype torch.uint8 is now deprecated, please use a dtype torch.bool instead. (Triggered internally at  ../aten/src/ATen/native/IndexingUtils.h:30.)\n",
      "  image_boxes.append(class_decoded_locs[1 - suppress])\n",
      "/Users/maksimekineren/Desktop/Maksim/UMBC/Classes/Spring 2021/CMSC 611/Project/pyCarDisplay/examples/model.py:506: UserWarning: indexing with dtype torch.uint8 is now deprecated, please use a dtype torch.bool instead. (Triggered internally at  ../aten/src/ATen/native/IndexingUtils.h:30.)\n",
      "  image_scores.append(class_scores[1 - suppress])\n"
     ]
    },
    {
     "name": "stdout",
     "output_type": "stream",
     "text": [
      "<class 'PIL.Image.Image'>\n",
      "Examine imu= 48.873174925989474\n",
      "Examine Kalman= 45.456\n",
      "gold_speed True Speed: 48.873174925989474\n"
     ]
    },
    {
     "name": "stderr",
     "output_type": "stream",
     "text": [
      "/Users/maksimekineren/Desktop/Maksim/UMBC/Classes/Spring 2021/CMSC 611/Project/pyCarDisplay/examples/model.py:504: UserWarning: indexing with dtype torch.uint8 is now deprecated, please use a dtype torch.bool instead. (Triggered internally at  ../aten/src/ATen/native/IndexingUtils.h:30.)\n",
      "  image_boxes.append(class_decoded_locs[1 - suppress])\n",
      "/Users/maksimekineren/Desktop/Maksim/UMBC/Classes/Spring 2021/CMSC 611/Project/pyCarDisplay/examples/model.py:506: UserWarning: indexing with dtype torch.uint8 is now deprecated, please use a dtype torch.bool instead. (Triggered internally at  ../aten/src/ATen/native/IndexingUtils.h:30.)\n",
      "  image_scores.append(class_scores[1 - suppress])\n"
     ]
    },
    {
     "name": "stdout",
     "output_type": "stream",
     "text": [
      "<class 'PIL.Image.Image'>\n",
      "Examine imu= 49.161005709661154\n",
      "Examine Kalman= 45.456\n",
      "gold_speed True Speed: 49.161005709661154\n"
     ]
    },
    {
     "name": "stderr",
     "output_type": "stream",
     "text": [
      "/Users/maksimekineren/Desktop/Maksim/UMBC/Classes/Spring 2021/CMSC 611/Project/pyCarDisplay/examples/model.py:504: UserWarning: indexing with dtype torch.uint8 is now deprecated, please use a dtype torch.bool instead. (Triggered internally at  ../aten/src/ATen/native/IndexingUtils.h:30.)\n",
      "  image_boxes.append(class_decoded_locs[1 - suppress])\n",
      "/Users/maksimekineren/Desktop/Maksim/UMBC/Classes/Spring 2021/CMSC 611/Project/pyCarDisplay/examples/model.py:506: UserWarning: indexing with dtype torch.uint8 is now deprecated, please use a dtype torch.bool instead. (Triggered internally at  ../aten/src/ATen/native/IndexingUtils.h:30.)\n",
      "  image_scores.append(class_scores[1 - suppress])\n"
     ]
    },
    {
     "name": "stdout",
     "output_type": "stream",
     "text": [
      "<class 'PIL.Image.Image'>\n",
      "Examine imu= 48.99186510743635\n",
      "Examine Kalman= 45.456\n",
      "gold_speed True Speed: 48.99186510743635\n"
     ]
    },
    {
     "name": "stderr",
     "output_type": "stream",
     "text": [
      "/Users/maksimekineren/Desktop/Maksim/UMBC/Classes/Spring 2021/CMSC 611/Project/pyCarDisplay/examples/model.py:504: UserWarning: indexing with dtype torch.uint8 is now deprecated, please use a dtype torch.bool instead. (Triggered internally at  ../aten/src/ATen/native/IndexingUtils.h:30.)\n",
      "  image_boxes.append(class_decoded_locs[1 - suppress])\n",
      "/Users/maksimekineren/Desktop/Maksim/UMBC/Classes/Spring 2021/CMSC 611/Project/pyCarDisplay/examples/model.py:506: UserWarning: indexing with dtype torch.uint8 is now deprecated, please use a dtype torch.bool instead. (Triggered internally at  ../aten/src/ATen/native/IndexingUtils.h:30.)\n",
      "  image_scores.append(class_scores[1 - suppress])\n"
     ]
    },
    {
     "name": "stdout",
     "output_type": "stream",
     "text": [
      "<class 'PIL.Image.Image'>\n",
      "Examine imu= 49.02116108899579\n",
      "Examine Kalman= 45.456\n",
      "gold_speed True Speed: 49.02116108899579\n"
     ]
    },
    {
     "name": "stderr",
     "output_type": "stream",
     "text": [
      "/Users/maksimekineren/Desktop/Maksim/UMBC/Classes/Spring 2021/CMSC 611/Project/pyCarDisplay/examples/model.py:504: UserWarning: indexing with dtype torch.uint8 is now deprecated, please use a dtype torch.bool instead. (Triggered internally at  ../aten/src/ATen/native/IndexingUtils.h:30.)\n",
      "  image_boxes.append(class_decoded_locs[1 - suppress])\n",
      "/Users/maksimekineren/Desktop/Maksim/UMBC/Classes/Spring 2021/CMSC 611/Project/pyCarDisplay/examples/model.py:506: UserWarning: indexing with dtype torch.uint8 is now deprecated, please use a dtype torch.bool instead. (Triggered internally at  ../aten/src/ATen/native/IndexingUtils.h:30.)\n",
      "  image_scores.append(class_scores[1 - suppress])\n"
     ]
    },
    {
     "name": "stdout",
     "output_type": "stream",
     "text": [
      "<class 'PIL.Image.Image'>\n",
      "Examine imu= 48.87198545867066\n",
      "Examine Kalman= 45.456\n",
      "gold_speed True Speed: 48.87198545867066\n"
     ]
    },
    {
     "name": "stderr",
     "output_type": "stream",
     "text": [
      "/Users/maksimekineren/Desktop/Maksim/UMBC/Classes/Spring 2021/CMSC 611/Project/pyCarDisplay/examples/model.py:504: UserWarning: indexing with dtype torch.uint8 is now deprecated, please use a dtype torch.bool instead. (Triggered internally at  ../aten/src/ATen/native/IndexingUtils.h:30.)\n",
      "  image_boxes.append(class_decoded_locs[1 - suppress])\n",
      "/Users/maksimekineren/Desktop/Maksim/UMBC/Classes/Spring 2021/CMSC 611/Project/pyCarDisplay/examples/model.py:506: UserWarning: indexing with dtype torch.uint8 is now deprecated, please use a dtype torch.bool instead. (Triggered internally at  ../aten/src/ATen/native/IndexingUtils.h:30.)\n",
      "  image_scores.append(class_scores[1 - suppress])\n"
     ]
    },
    {
     "name": "stdout",
     "output_type": "stream",
     "text": [
      "<class 'PIL.Image.Image'>\n",
      "Examine imu= 48.96000038184148\n",
      "Examine Kalman= 45.456\n",
      "gold_speed True Speed: 48.96000038184148\n"
     ]
    },
    {
     "name": "stderr",
     "output_type": "stream",
     "text": [
      "/Users/maksimekineren/Desktop/Maksim/UMBC/Classes/Spring 2021/CMSC 611/Project/pyCarDisplay/examples/model.py:504: UserWarning: indexing with dtype torch.uint8 is now deprecated, please use a dtype torch.bool instead. (Triggered internally at  ../aten/src/ATen/native/IndexingUtils.h:30.)\n",
      "  image_boxes.append(class_decoded_locs[1 - suppress])\n",
      "/Users/maksimekineren/Desktop/Maksim/UMBC/Classes/Spring 2021/CMSC 611/Project/pyCarDisplay/examples/model.py:506: UserWarning: indexing with dtype torch.uint8 is now deprecated, please use a dtype torch.bool instead. (Triggered internally at  ../aten/src/ATen/native/IndexingUtils.h:30.)\n",
      "  image_scores.append(class_scores[1 - suppress])\n"
     ]
    },
    {
     "name": "stdout",
     "output_type": "stream",
     "text": [
      "<class 'PIL.Image.Image'>\n",
      "Examine imu= 49.02549450582499\n",
      "Examine Kalman= 45.456\n",
      "gold_speed True Speed: 49.02549450582499\n",
      "<class 'PIL.Image.Image'>\n",
      "Examine imu= 48.899299456787766\n",
      "Examine Kalman= 45.456\n",
      "gold_speed True Speed: 48.899299456787766\n",
      "<class 'PIL.Image.Image'>\n",
      "Examine imu= 49.05200643165156\n",
      "Examine Kalman= 45.456\n",
      "gold_speed True Speed: 49.05200643165156\n",
      "<class 'PIL.Image.Image'>\n",
      "Examine imu= 48.95436338143212\n",
      "Examine Kalman= 45.456\n",
      "gold_speed True Speed: 48.95436338143212\n"
     ]
    },
    {
     "name": "stderr",
     "output_type": "stream",
     "text": [
      "/Users/maksimekineren/Desktop/Maksim/UMBC/Classes/Spring 2021/CMSC 611/Project/pyCarDisplay/examples/model.py:504: UserWarning: indexing with dtype torch.uint8 is now deprecated, please use a dtype torch.bool instead. (Triggered internally at  ../aten/src/ATen/native/IndexingUtils.h:30.)\n",
      "  image_boxes.append(class_decoded_locs[1 - suppress])\n",
      "/Users/maksimekineren/Desktop/Maksim/UMBC/Classes/Spring 2021/CMSC 611/Project/pyCarDisplay/examples/model.py:506: UserWarning: indexing with dtype torch.uint8 is now deprecated, please use a dtype torch.bool instead. (Triggered internally at  ../aten/src/ATen/native/IndexingUtils.h:30.)\n",
      "  image_scores.append(class_scores[1 - suppress])\n"
     ]
    },
    {
     "name": "stdout",
     "output_type": "stream",
     "text": [
      "<class 'PIL.Image.Image'>\n",
      "Examine imu= 48.98524176052067\n",
      "Examine Kalman= 45.456\n",
      "gold_speed True Speed: 48.98524176052067\n",
      "<class 'PIL.Image.Image'>\n",
      "Examine imu= 48.95424352787306\n",
      "Examine Kalman= 45.456\n",
      "gold_speed True Speed: 48.95424352787306\n"
     ]
    },
    {
     "name": "stderr",
     "output_type": "stream",
     "text": [
      "/Users/maksimekineren/Desktop/Maksim/UMBC/Classes/Spring 2021/CMSC 611/Project/pyCarDisplay/examples/model.py:504: UserWarning: indexing with dtype torch.uint8 is now deprecated, please use a dtype torch.bool instead. (Triggered internally at  ../aten/src/ATen/native/IndexingUtils.h:30.)\n",
      "  image_boxes.append(class_decoded_locs[1 - suppress])\n",
      "/Users/maksimekineren/Desktop/Maksim/UMBC/Classes/Spring 2021/CMSC 611/Project/pyCarDisplay/examples/model.py:506: UserWarning: indexing with dtype torch.uint8 is now deprecated, please use a dtype torch.bool instead. (Triggered internally at  ../aten/src/ATen/native/IndexingUtils.h:30.)\n",
      "  image_scores.append(class_scores[1 - suppress])\n"
     ]
    },
    {
     "name": "stdout",
     "output_type": "stream",
     "text": [
      "<class 'PIL.Image.Image'>\n",
      "Examine imu= 49.19965763974089\n",
      "Examine Kalman= 45.456\n",
      "gold_speed True Speed: 49.19965763974089\n"
     ]
    },
    {
     "name": "stderr",
     "output_type": "stream",
     "text": [
      "/Users/maksimekineren/Desktop/Maksim/UMBC/Classes/Spring 2021/CMSC 611/Project/pyCarDisplay/examples/model.py:504: UserWarning: indexing with dtype torch.uint8 is now deprecated, please use a dtype torch.bool instead. (Triggered internally at  ../aten/src/ATen/native/IndexingUtils.h:30.)\n",
      "  image_boxes.append(class_decoded_locs[1 - suppress])\n",
      "/Users/maksimekineren/Desktop/Maksim/UMBC/Classes/Spring 2021/CMSC 611/Project/pyCarDisplay/examples/model.py:506: UserWarning: indexing with dtype torch.uint8 is now deprecated, please use a dtype torch.bool instead. (Triggered internally at  ../aten/src/ATen/native/IndexingUtils.h:30.)\n",
      "  image_scores.append(class_scores[1 - suppress])\n"
     ]
    },
    {
     "name": "stdout",
     "output_type": "stream",
     "text": [
      "<class 'PIL.Image.Image'>\n",
      "Examine imu= 49.01306978993421\n",
      "Examine Kalman= 45.456\n",
      "gold_speed True Speed: 49.01306978993421\n"
     ]
    },
    {
     "name": "stderr",
     "output_type": "stream",
     "text": [
      "/Users/maksimekineren/Desktop/Maksim/UMBC/Classes/Spring 2021/CMSC 611/Project/pyCarDisplay/examples/model.py:504: UserWarning: indexing with dtype torch.uint8 is now deprecated, please use a dtype torch.bool instead. (Triggered internally at  ../aten/src/ATen/native/IndexingUtils.h:30.)\n",
      "  image_boxes.append(class_decoded_locs[1 - suppress])\n",
      "/Users/maksimekineren/Desktop/Maksim/UMBC/Classes/Spring 2021/CMSC 611/Project/pyCarDisplay/examples/model.py:506: UserWarning: indexing with dtype torch.uint8 is now deprecated, please use a dtype torch.bool instead. (Triggered internally at  ../aten/src/ATen/native/IndexingUtils.h:30.)\n",
      "  image_scores.append(class_scores[1 - suppress])\n"
     ]
    },
    {
     "name": "stdout",
     "output_type": "stream",
     "text": [
      "<class 'PIL.Image.Image'>\n",
      "Examine imu= 48.90866344172741\n",
      "Examine Kalman= 45.456\n",
      "gold_speed True Speed: 48.90866344172741\n"
     ]
    },
    {
     "name": "stderr",
     "output_type": "stream",
     "text": [
      "/Users/maksimekineren/Desktop/Maksim/UMBC/Classes/Spring 2021/CMSC 611/Project/pyCarDisplay/examples/model.py:504: UserWarning: indexing with dtype torch.uint8 is now deprecated, please use a dtype torch.bool instead. (Triggered internally at  ../aten/src/ATen/native/IndexingUtils.h:30.)\n",
      "  image_boxes.append(class_decoded_locs[1 - suppress])\n",
      "/Users/maksimekineren/Desktop/Maksim/UMBC/Classes/Spring 2021/CMSC 611/Project/pyCarDisplay/examples/model.py:506: UserWarning: indexing with dtype torch.uint8 is now deprecated, please use a dtype torch.bool instead. (Triggered internally at  ../aten/src/ATen/native/IndexingUtils.h:30.)\n",
      "  image_scores.append(class_scores[1 - suppress])\n"
     ]
    },
    {
     "name": "stdout",
     "output_type": "stream",
     "text": [
      "<class 'PIL.Image.Image'>\n",
      "Examine imu= 49.096701003711324\n",
      "Examine Kalman= 45.456\n",
      "gold_speed True Speed: 49.096701003711324\n",
      "<class 'PIL.Image.Image'>\n",
      "Examine imu= 48.8923602026179\n",
      "Examine Kalman= 45.456\n",
      "gold_speed True Speed: 48.8923602026179\n",
      "<class 'PIL.Image.Image'>\n",
      "Examine imu= 49.03531848042147\n",
      "Examine Kalman= 45.456\n",
      "gold_speed True Speed: 49.03531848042147\n"
     ]
    },
    {
     "name": "stderr",
     "output_type": "stream",
     "text": [
      "/Users/maksimekineren/Desktop/Maksim/UMBC/Classes/Spring 2021/CMSC 611/Project/pyCarDisplay/examples/model.py:504: UserWarning: indexing with dtype torch.uint8 is now deprecated, please use a dtype torch.bool instead. (Triggered internally at  ../aten/src/ATen/native/IndexingUtils.h:30.)\n",
      "  image_boxes.append(class_decoded_locs[1 - suppress])\n",
      "/Users/maksimekineren/Desktop/Maksim/UMBC/Classes/Spring 2021/CMSC 611/Project/pyCarDisplay/examples/model.py:506: UserWarning: indexing with dtype torch.uint8 is now deprecated, please use a dtype torch.bool instead. (Triggered internally at  ../aten/src/ATen/native/IndexingUtils.h:30.)\n",
      "  image_scores.append(class_scores[1 - suppress])\n"
     ]
    },
    {
     "name": "stdout",
     "output_type": "stream",
     "text": [
      "<class 'PIL.Image.Image'>\n",
      "Examine imu= 48.81844987097703\n",
      "Examine Kalman= 45.456\n",
      "gold_speed True Speed: 48.81844987097703\n"
     ]
    },
    {
     "name": "stderr",
     "output_type": "stream",
     "text": [
      "/Users/maksimekineren/Desktop/Maksim/UMBC/Classes/Spring 2021/CMSC 611/Project/pyCarDisplay/examples/model.py:504: UserWarning: indexing with dtype torch.uint8 is now deprecated, please use a dtype torch.bool instead. (Triggered internally at  ../aten/src/ATen/native/IndexingUtils.h:30.)\n",
      "  image_boxes.append(class_decoded_locs[1 - suppress])\n",
      "/Users/maksimekineren/Desktop/Maksim/UMBC/Classes/Spring 2021/CMSC 611/Project/pyCarDisplay/examples/model.py:506: UserWarning: indexing with dtype torch.uint8 is now deprecated, please use a dtype torch.bool instead. (Triggered internally at  ../aten/src/ATen/native/IndexingUtils.h:30.)\n",
      "  image_scores.append(class_scores[1 - suppress])\n",
      "/Users/maksimekineren/Desktop/Maksim/UMBC/Classes/Spring 2021/CMSC 611/Project/pyCarDisplay/examples/model.py:504: UserWarning: indexing with dtype torch.uint8 is now deprecated, please use a dtype torch.bool instead. (Triggered internally at  ../aten/src/ATen/native/IndexingUtils.h:30.)\n",
      "  image_boxes.append(class_decoded_locs[1 - suppress])\n",
      "/Users/maksimekineren/Desktop/Maksim/UMBC/Classes/Spring 2021/CMSC 611/Project/pyCarDisplay/examples/model.py:506: UserWarning: indexing with dtype torch.uint8 is now deprecated, please use a dtype torch.bool instead. (Triggered internally at  ../aten/src/ATen/native/IndexingUtils.h:30.)\n",
      "  image_scores.append(class_scores[1 - suppress])\n"
     ]
    },
    {
     "name": "stdout",
     "output_type": "stream",
     "text": [
      "<class 'PIL.Image.Image'>\n",
      "Examine imu= 48.881606213740156\n",
      "Examine Kalman= 45.456\n",
      "gold_speed True Speed: 48.881606213740156\n",
      "<class 'PIL.Image.Image'>\n",
      "Examine imu= 49.034138991426914\n",
      "Examine Kalman= 45.456\n",
      "gold_speed True Speed: 49.034138991426914\n",
      "<class 'PIL.Image.Image'>\n",
      "Examine imu= 49.08831596305454\n",
      "Examine Kalman= 45.456\n",
      "gold_speed True Speed: 49.08831596305454\n",
      "<class 'PIL.Image.Image'>\n",
      "Examine imu= 49.031605023796\n",
      "Examine Kalman= 45.456\n",
      "gold_speed True Speed: 49.031605023796\n"
     ]
    },
    {
     "name": "stderr",
     "output_type": "stream",
     "text": [
      "/Users/maksimekineren/Desktop/Maksim/UMBC/Classes/Spring 2021/CMSC 611/Project/pyCarDisplay/examples/model.py:504: UserWarning: indexing with dtype torch.uint8 is now deprecated, please use a dtype torch.bool instead. (Triggered internally at  ../aten/src/ATen/native/IndexingUtils.h:30.)\n",
      "  image_boxes.append(class_decoded_locs[1 - suppress])\n",
      "/Users/maksimekineren/Desktop/Maksim/UMBC/Classes/Spring 2021/CMSC 611/Project/pyCarDisplay/examples/model.py:506: UserWarning: indexing with dtype torch.uint8 is now deprecated, please use a dtype torch.bool instead. (Triggered internally at  ../aten/src/ATen/native/IndexingUtils.h:30.)\n",
      "  image_scores.append(class_scores[1 - suppress])\n"
     ]
    },
    {
     "name": "stdout",
     "output_type": "stream",
     "text": [
      "<class 'PIL.Image.Image'>\n",
      "Examine imu= 49.00288648242317\n",
      "Examine Kalman= 45.456\n",
      "gold_speed True Speed: 49.00288648242317\n"
     ]
    },
    {
     "name": "stderr",
     "output_type": "stream",
     "text": [
      "/Users/maksimekineren/Desktop/Maksim/UMBC/Classes/Spring 2021/CMSC 611/Project/pyCarDisplay/examples/model.py:504: UserWarning: indexing with dtype torch.uint8 is now deprecated, please use a dtype torch.bool instead. (Triggered internally at  ../aten/src/ATen/native/IndexingUtils.h:30.)\n",
      "  image_boxes.append(class_decoded_locs[1 - suppress])\n",
      "/Users/maksimekineren/Desktop/Maksim/UMBC/Classes/Spring 2021/CMSC 611/Project/pyCarDisplay/examples/model.py:506: UserWarning: indexing with dtype torch.uint8 is now deprecated, please use a dtype torch.bool instead. (Triggered internally at  ../aten/src/ATen/native/IndexingUtils.h:30.)\n",
      "  image_scores.append(class_scores[1 - suppress])\n"
     ]
    },
    {
     "name": "stdout",
     "output_type": "stream",
     "text": [
      "<class 'PIL.Image.Image'>\n",
      "Examine imu= 48.984311955873075\n",
      "Examine Kalman= 45.456\n",
      "gold_speed True Speed: 48.984311955873075\n"
     ]
    },
    {
     "name": "stderr",
     "output_type": "stream",
     "text": [
      "/Users/maksimekineren/Desktop/Maksim/UMBC/Classes/Spring 2021/CMSC 611/Project/pyCarDisplay/examples/model.py:504: UserWarning: indexing with dtype torch.uint8 is now deprecated, please use a dtype torch.bool instead. (Triggered internally at  ../aten/src/ATen/native/IndexingUtils.h:30.)\n",
      "  image_boxes.append(class_decoded_locs[1 - suppress])\n",
      "/Users/maksimekineren/Desktop/Maksim/UMBC/Classes/Spring 2021/CMSC 611/Project/pyCarDisplay/examples/model.py:506: UserWarning: indexing with dtype torch.uint8 is now deprecated, please use a dtype torch.bool instead. (Triggered internally at  ../aten/src/ATen/native/IndexingUtils.h:30.)\n",
      "  image_scores.append(class_scores[1 - suppress])\n"
     ]
    },
    {
     "name": "stdout",
     "output_type": "stream",
     "text": [
      "<class 'PIL.Image.Image'>\n",
      "Examine imu= 48.866613635339256\n",
      "Examine Kalman= 45.456\n",
      "gold_speed True Speed: 48.866613635339256\n"
     ]
    },
    {
     "name": "stderr",
     "output_type": "stream",
     "text": [
      "/Users/maksimekineren/Desktop/Maksim/UMBC/Classes/Spring 2021/CMSC 611/Project/pyCarDisplay/examples/model.py:504: UserWarning: indexing with dtype torch.uint8 is now deprecated, please use a dtype torch.bool instead. (Triggered internally at  ../aten/src/ATen/native/IndexingUtils.h:30.)\n",
      "  image_boxes.append(class_decoded_locs[1 - suppress])\n",
      "/Users/maksimekineren/Desktop/Maksim/UMBC/Classes/Spring 2021/CMSC 611/Project/pyCarDisplay/examples/model.py:506: UserWarning: indexing with dtype torch.uint8 is now deprecated, please use a dtype torch.bool instead. (Triggered internally at  ../aten/src/ATen/native/IndexingUtils.h:30.)\n",
      "  image_scores.append(class_scores[1 - suppress])\n",
      "/Users/maksimekineren/Desktop/Maksim/UMBC/Classes/Spring 2021/CMSC 611/Project/pyCarDisplay/examples/model.py:504: UserWarning: indexing with dtype torch.uint8 is now deprecated, please use a dtype torch.bool instead. (Triggered internally at  ../aten/src/ATen/native/IndexingUtils.h:30.)\n",
      "  image_boxes.append(class_decoded_locs[1 - suppress])\n",
      "/Users/maksimekineren/Desktop/Maksim/UMBC/Classes/Spring 2021/CMSC 611/Project/pyCarDisplay/examples/model.py:506: UserWarning: indexing with dtype torch.uint8 is now deprecated, please use a dtype torch.bool instead. (Triggered internally at  ../aten/src/ATen/native/IndexingUtils.h:30.)\n",
      "  image_scores.append(class_scores[1 - suppress])\n"
     ]
    },
    {
     "name": "stdout",
     "output_type": "stream",
     "text": [
      "<class 'PIL.Image.Image'>\n",
      "Examine imu= 48.94246378273053\n",
      "Examine Kalman= 45.456\n",
      "gold_speed True Speed: 48.94246378273053\n",
      "<class 'PIL.Image.Image'>\n",
      "Examine imu= 48.96838592390902\n",
      "Examine Kalman= 45.456\n",
      "gold_speed True Speed: 48.96838592390902\n"
     ]
    },
    {
     "name": "stderr",
     "output_type": "stream",
     "text": [
      "/Users/maksimekineren/Desktop/Maksim/UMBC/Classes/Spring 2021/CMSC 611/Project/pyCarDisplay/examples/model.py:504: UserWarning: indexing with dtype torch.uint8 is now deprecated, please use a dtype torch.bool instead. (Triggered internally at  ../aten/src/ATen/native/IndexingUtils.h:30.)\n",
      "  image_boxes.append(class_decoded_locs[1 - suppress])\n",
      "/Users/maksimekineren/Desktop/Maksim/UMBC/Classes/Spring 2021/CMSC 611/Project/pyCarDisplay/examples/model.py:506: UserWarning: indexing with dtype torch.uint8 is now deprecated, please use a dtype torch.bool instead. (Triggered internally at  ../aten/src/ATen/native/IndexingUtils.h:30.)\n",
      "  image_scores.append(class_scores[1 - suppress])\n"
     ]
    },
    {
     "name": "stdout",
     "output_type": "stream",
     "text": [
      "<class 'PIL.Image.Image'>\n",
      "Examine imu= 49.12017918304089\n",
      "Examine Kalman= 45.456\n",
      "gold_speed True Speed: 49.12017918304089\n",
      "<class 'PIL.Image.Image'>\n",
      "Examine imu= 49.048824336014846\n",
      "Examine Kalman= 45.456\n",
      "gold_speed True Speed: 49.048824336014846\n",
      "<class 'PIL.Image.Image'>\n",
      "Examine imu= 48.83815145605973\n",
      "Examine Kalman= 45.456\n",
      "gold_speed True Speed: 48.83815145605973\n"
     ]
    },
    {
     "name": "stderr",
     "output_type": "stream",
     "text": [
      "/Users/maksimekineren/Desktop/Maksim/UMBC/Classes/Spring 2021/CMSC 611/Project/pyCarDisplay/examples/model.py:504: UserWarning: indexing with dtype torch.uint8 is now deprecated, please use a dtype torch.bool instead. (Triggered internally at  ../aten/src/ATen/native/IndexingUtils.h:30.)\n",
      "  image_boxes.append(class_decoded_locs[1 - suppress])\n",
      "/Users/maksimekineren/Desktop/Maksim/UMBC/Classes/Spring 2021/CMSC 611/Project/pyCarDisplay/examples/model.py:506: UserWarning: indexing with dtype torch.uint8 is now deprecated, please use a dtype torch.bool instead. (Triggered internally at  ../aten/src/ATen/native/IndexingUtils.h:30.)\n",
      "  image_scores.append(class_scores[1 - suppress])\n",
      "/Users/maksimekineren/Desktop/Maksim/UMBC/Classes/Spring 2021/CMSC 611/Project/pyCarDisplay/examples/model.py:504: UserWarning: indexing with dtype torch.uint8 is now deprecated, please use a dtype torch.bool instead. (Triggered internally at  ../aten/src/ATen/native/IndexingUtils.h:30.)\n",
      "  image_boxes.append(class_decoded_locs[1 - suppress])\n",
      "/Users/maksimekineren/Desktop/Maksim/UMBC/Classes/Spring 2021/CMSC 611/Project/pyCarDisplay/examples/model.py:506: UserWarning: indexing with dtype torch.uint8 is now deprecated, please use a dtype torch.bool instead. (Triggered internally at  ../aten/src/ATen/native/IndexingUtils.h:30.)\n",
      "  image_scores.append(class_scores[1 - suppress])\n"
     ]
    },
    {
     "name": "stdout",
     "output_type": "stream",
     "text": [
      "<class 'PIL.Image.Image'>\n",
      "Examine imu= 49.04686260244448\n",
      "Examine Kalman= 45.456\n",
      "gold_speed True Speed: 49.04686260244448\n"
     ]
    },
    {
     "name": "stderr",
     "output_type": "stream",
     "text": [
      "/Users/maksimekineren/Desktop/Maksim/UMBC/Classes/Spring 2021/CMSC 611/Project/pyCarDisplay/examples/model.py:504: UserWarning: indexing with dtype torch.uint8 is now deprecated, please use a dtype torch.bool instead. (Triggered internally at  ../aten/src/ATen/native/IndexingUtils.h:30.)\n",
      "  image_boxes.append(class_decoded_locs[1 - suppress])\n",
      "/Users/maksimekineren/Desktop/Maksim/UMBC/Classes/Spring 2021/CMSC 611/Project/pyCarDisplay/examples/model.py:506: UserWarning: indexing with dtype torch.uint8 is now deprecated, please use a dtype torch.bool instead. (Triggered internally at  ../aten/src/ATen/native/IndexingUtils.h:30.)\n",
      "  image_scores.append(class_scores[1 - suppress])\n"
     ]
    },
    {
     "name": "stdout",
     "output_type": "stream",
     "text": [
      "<class 'PIL.Image.Image'>\n",
      "Examine imu= 48.975953222444375\n",
      "Examine Kalman= 45.456\n",
      "gold_speed True Speed: 48.975953222444375\n"
     ]
    },
    {
     "name": "stderr",
     "output_type": "stream",
     "text": [
      "/Users/maksimekineren/Desktop/Maksim/UMBC/Classes/Spring 2021/CMSC 611/Project/pyCarDisplay/examples/model.py:504: UserWarning: indexing with dtype torch.uint8 is now deprecated, please use a dtype torch.bool instead. (Triggered internally at  ../aten/src/ATen/native/IndexingUtils.h:30.)\n",
      "  image_boxes.append(class_decoded_locs[1 - suppress])\n",
      "/Users/maksimekineren/Desktop/Maksim/UMBC/Classes/Spring 2021/CMSC 611/Project/pyCarDisplay/examples/model.py:506: UserWarning: indexing with dtype torch.uint8 is now deprecated, please use a dtype torch.bool instead. (Triggered internally at  ../aten/src/ATen/native/IndexingUtils.h:30.)\n",
      "  image_scores.append(class_scores[1 - suppress])\n"
     ]
    },
    {
     "name": "stdout",
     "output_type": "stream",
     "text": [
      "<class 'PIL.Image.Image'>\n",
      "Examine imu= 48.9467646389494\n",
      "Examine Kalman= 45.456\n",
      "gold_speed True Speed: 48.9467646389494\n"
     ]
    },
    {
     "name": "stderr",
     "output_type": "stream",
     "text": [
      "/Users/maksimekineren/Desktop/Maksim/UMBC/Classes/Spring 2021/CMSC 611/Project/pyCarDisplay/examples/model.py:504: UserWarning: indexing with dtype torch.uint8 is now deprecated, please use a dtype torch.bool instead. (Triggered internally at  ../aten/src/ATen/native/IndexingUtils.h:30.)\n",
      "  image_boxes.append(class_decoded_locs[1 - suppress])\n",
      "/Users/maksimekineren/Desktop/Maksim/UMBC/Classes/Spring 2021/CMSC 611/Project/pyCarDisplay/examples/model.py:506: UserWarning: indexing with dtype torch.uint8 is now deprecated, please use a dtype torch.bool instead. (Triggered internally at  ../aten/src/ATen/native/IndexingUtils.h:30.)\n",
      "  image_scores.append(class_scores[1 - suppress])\n"
     ]
    },
    {
     "name": "stdout",
     "output_type": "stream",
     "text": [
      "<class 'PIL.Image.Image'>\n",
      "Examine imu= 49.07563122685909\n",
      "Examine Kalman= 45.456\n",
      "gold_speed True Speed: 49.07563122685909\n",
      "<class 'PIL.Image.Image'>\n",
      "Examine imu= 49.117492344823596\n",
      "Examine Kalman= 45.456\n",
      "gold_speed True Speed: 49.117492344823596\n",
      "<class 'PIL.Image.Image'>\n",
      "Examine imu= 49.107523317036616\n",
      "Examine Kalman= 45.456\n",
      "gold_speed True Speed: 49.107523317036616\n"
     ]
    },
    {
     "name": "stderr",
     "output_type": "stream",
     "text": [
      "/Users/maksimekineren/Desktop/Maksim/UMBC/Classes/Spring 2021/CMSC 611/Project/pyCarDisplay/examples/model.py:504: UserWarning: indexing with dtype torch.uint8 is now deprecated, please use a dtype torch.bool instead. (Triggered internally at  ../aten/src/ATen/native/IndexingUtils.h:30.)\n",
      "  image_boxes.append(class_decoded_locs[1 - suppress])\n",
      "/Users/maksimekineren/Desktop/Maksim/UMBC/Classes/Spring 2021/CMSC 611/Project/pyCarDisplay/examples/model.py:506: UserWarning: indexing with dtype torch.uint8 is now deprecated, please use a dtype torch.bool instead. (Triggered internally at  ../aten/src/ATen/native/IndexingUtils.h:30.)\n",
      "  image_scores.append(class_scores[1 - suppress])\n",
      "/Users/maksimekineren/Desktop/Maksim/UMBC/Classes/Spring 2021/CMSC 611/Project/pyCarDisplay/examples/model.py:504: UserWarning: indexing with dtype torch.uint8 is now deprecated, please use a dtype torch.bool instead. (Triggered internally at  ../aten/src/ATen/native/IndexingUtils.h:30.)\n",
      "  image_boxes.append(class_decoded_locs[1 - suppress])\n",
      "/Users/maksimekineren/Desktop/Maksim/UMBC/Classes/Spring 2021/CMSC 611/Project/pyCarDisplay/examples/model.py:506: UserWarning: indexing with dtype torch.uint8 is now deprecated, please use a dtype torch.bool instead. (Triggered internally at  ../aten/src/ATen/native/IndexingUtils.h:30.)\n",
      "  image_scores.append(class_scores[1 - suppress])\n"
     ]
    },
    {
     "name": "stdout",
     "output_type": "stream",
     "text": [
      "<class 'PIL.Image.Image'>\n",
      "Examine imu= 48.93054299436174\n",
      "Examine Kalman= 45.456\n",
      "gold_speed True Speed: 48.93054299436174\n"
     ]
    },
    {
     "name": "stderr",
     "output_type": "stream",
     "text": [
      "/Users/maksimekineren/Desktop/Maksim/UMBC/Classes/Spring 2021/CMSC 611/Project/pyCarDisplay/examples/model.py:504: UserWarning: indexing with dtype torch.uint8 is now deprecated, please use a dtype torch.bool instead. (Triggered internally at  ../aten/src/ATen/native/IndexingUtils.h:30.)\n",
      "  image_boxes.append(class_decoded_locs[1 - suppress])\n",
      "/Users/maksimekineren/Desktop/Maksim/UMBC/Classes/Spring 2021/CMSC 611/Project/pyCarDisplay/examples/model.py:506: UserWarning: indexing with dtype torch.uint8 is now deprecated, please use a dtype torch.bool instead. (Triggered internally at  ../aten/src/ATen/native/IndexingUtils.h:30.)\n",
      "  image_scores.append(class_scores[1 - suppress])\n",
      "/Users/maksimekineren/Desktop/Maksim/UMBC/Classes/Spring 2021/CMSC 611/Project/pyCarDisplay/examples/model.py:504: UserWarning: indexing with dtype torch.uint8 is now deprecated, please use a dtype torch.bool instead. (Triggered internally at  ../aten/src/ATen/native/IndexingUtils.h:30.)\n",
      "  image_boxes.append(class_decoded_locs[1 - suppress])\n",
      "/Users/maksimekineren/Desktop/Maksim/UMBC/Classes/Spring 2021/CMSC 611/Project/pyCarDisplay/examples/model.py:506: UserWarning: indexing with dtype torch.uint8 is now deprecated, please use a dtype torch.bool instead. (Triggered internally at  ../aten/src/ATen/native/IndexingUtils.h:30.)\n",
      "  image_scores.append(class_scores[1 - suppress])\n"
     ]
    },
    {
     "name": "stdout",
     "output_type": "stream",
     "text": [
      "<class 'PIL.Image.Image'>\n",
      "Examine imu= 48.98353675824988\n",
      "Examine Kalman= 45.456\n",
      "gold_speed True Speed: 48.98353675824988\n"
     ]
    },
    {
     "name": "stderr",
     "output_type": "stream",
     "text": [
      "/Users/maksimekineren/Desktop/Maksim/UMBC/Classes/Spring 2021/CMSC 611/Project/pyCarDisplay/examples/model.py:504: UserWarning: indexing with dtype torch.uint8 is now deprecated, please use a dtype torch.bool instead. (Triggered internally at  ../aten/src/ATen/native/IndexingUtils.h:30.)\n",
      "  image_boxes.append(class_decoded_locs[1 - suppress])\n",
      "/Users/maksimekineren/Desktop/Maksim/UMBC/Classes/Spring 2021/CMSC 611/Project/pyCarDisplay/examples/model.py:506: UserWarning: indexing with dtype torch.uint8 is now deprecated, please use a dtype torch.bool instead. (Triggered internally at  ../aten/src/ATen/native/IndexingUtils.h:30.)\n",
      "  image_scores.append(class_scores[1 - suppress])\n",
      "/Users/maksimekineren/Desktop/Maksim/UMBC/Classes/Spring 2021/CMSC 611/Project/pyCarDisplay/examples/model.py:504: UserWarning: indexing with dtype torch.uint8 is now deprecated, please use a dtype torch.bool instead. (Triggered internally at  ../aten/src/ATen/native/IndexingUtils.h:30.)\n",
      "  image_boxes.append(class_decoded_locs[1 - suppress])\n",
      "/Users/maksimekineren/Desktop/Maksim/UMBC/Classes/Spring 2021/CMSC 611/Project/pyCarDisplay/examples/model.py:506: UserWarning: indexing with dtype torch.uint8 is now deprecated, please use a dtype torch.bool instead. (Triggered internally at  ../aten/src/ATen/native/IndexingUtils.h:30.)\n",
      "  image_scores.append(class_scores[1 - suppress])\n"
     ]
    },
    {
     "name": "stdout",
     "output_type": "stream",
     "text": [
      "<class 'PIL.Image.Image'>\n",
      "Examine imu= 49.04742585930636\n",
      "Examine Kalman= 45.456\n",
      "gold_speed True Speed: 49.04742585930636\n",
      "<class 'PIL.Image.Image'>\n",
      "Examine imu= 49.11185811079824\n",
      "Examine Kalman= 45.456\n",
      "gold_speed True Speed: 49.11185811079824\n",
      "<class 'PIL.Image.Image'>\n",
      "Examine imu= 48.96632669913547\n",
      "Examine Kalman= 45.456\n",
      "gold_speed True Speed: 48.96632669913547\n"
     ]
    },
    {
     "name": "stderr",
     "output_type": "stream",
     "text": [
      "/Users/maksimekineren/Desktop/Maksim/UMBC/Classes/Spring 2021/CMSC 611/Project/pyCarDisplay/examples/model.py:504: UserWarning: indexing with dtype torch.uint8 is now deprecated, please use a dtype torch.bool instead. (Triggered internally at  ../aten/src/ATen/native/IndexingUtils.h:30.)\n",
      "  image_boxes.append(class_decoded_locs[1 - suppress])\n",
      "/Users/maksimekineren/Desktop/Maksim/UMBC/Classes/Spring 2021/CMSC 611/Project/pyCarDisplay/examples/model.py:506: UserWarning: indexing with dtype torch.uint8 is now deprecated, please use a dtype torch.bool instead. (Triggered internally at  ../aten/src/ATen/native/IndexingUtils.h:30.)\n",
      "  image_scores.append(class_scores[1 - suppress])\n",
      "/Users/maksimekineren/Desktop/Maksim/UMBC/Classes/Spring 2021/CMSC 611/Project/pyCarDisplay/examples/model.py:504: UserWarning: indexing with dtype torch.uint8 is now deprecated, please use a dtype torch.bool instead. (Triggered internally at  ../aten/src/ATen/native/IndexingUtils.h:30.)\n",
      "  image_boxes.append(class_decoded_locs[1 - suppress])\n",
      "/Users/maksimekineren/Desktop/Maksim/UMBC/Classes/Spring 2021/CMSC 611/Project/pyCarDisplay/examples/model.py:506: UserWarning: indexing with dtype torch.uint8 is now deprecated, please use a dtype torch.bool instead. (Triggered internally at  ../aten/src/ATen/native/IndexingUtils.h:30.)\n",
      "  image_scores.append(class_scores[1 - suppress])\n",
      "/Users/maksimekineren/Desktop/Maksim/UMBC/Classes/Spring 2021/CMSC 611/Project/pyCarDisplay/examples/model.py:504: UserWarning: indexing with dtype torch.uint8 is now deprecated, please use a dtype torch.bool instead. (Triggered internally at  ../aten/src/ATen/native/IndexingUtils.h:30.)\n",
      "  image_boxes.append(class_decoded_locs[1 - suppress])\n",
      "/Users/maksimekineren/Desktop/Maksim/UMBC/Classes/Spring 2021/CMSC 611/Project/pyCarDisplay/examples/model.py:506: UserWarning: indexing with dtype torch.uint8 is now deprecated, please use a dtype torch.bool instead. (Triggered internally at  ../aten/src/ATen/native/IndexingUtils.h:30.)\n",
      "  image_scores.append(class_scores[1 - suppress])\n"
     ]
    },
    {
     "name": "stdout",
     "output_type": "stream",
     "text": [
      "<class 'PIL.Image.Image'>\n",
      "Examine imu= 48.99579452072962\n",
      "Examine Kalman= 45.456\n",
      "gold_speed True Speed: 48.99579452072962\n"
     ]
    },
    {
     "name": "stderr",
     "output_type": "stream",
     "text": [
      "/Users/maksimekineren/Desktop/Maksim/UMBC/Classes/Spring 2021/CMSC 611/Project/pyCarDisplay/examples/model.py:504: UserWarning: indexing with dtype torch.uint8 is now deprecated, please use a dtype torch.bool instead. (Triggered internally at  ../aten/src/ATen/native/IndexingUtils.h:30.)\n",
      "  image_boxes.append(class_decoded_locs[1 - suppress])\n",
      "/Users/maksimekineren/Desktop/Maksim/UMBC/Classes/Spring 2021/CMSC 611/Project/pyCarDisplay/examples/model.py:506: UserWarning: indexing with dtype torch.uint8 is now deprecated, please use a dtype torch.bool instead. (Triggered internally at  ../aten/src/ATen/native/IndexingUtils.h:30.)\n",
      "  image_scores.append(class_scores[1 - suppress])\n",
      "/Users/maksimekineren/Desktop/Maksim/UMBC/Classes/Spring 2021/CMSC 611/Project/pyCarDisplay/examples/model.py:504: UserWarning: indexing with dtype torch.uint8 is now deprecated, please use a dtype torch.bool instead. (Triggered internally at  ../aten/src/ATen/native/IndexingUtils.h:30.)\n",
      "  image_boxes.append(class_decoded_locs[1 - suppress])\n",
      "/Users/maksimekineren/Desktop/Maksim/UMBC/Classes/Spring 2021/CMSC 611/Project/pyCarDisplay/examples/model.py:506: UserWarning: indexing with dtype torch.uint8 is now deprecated, please use a dtype torch.bool instead. (Triggered internally at  ../aten/src/ATen/native/IndexingUtils.h:30.)\n",
      "  image_scores.append(class_scores[1 - suppress])\n"
     ]
    },
    {
     "name": "stdout",
     "output_type": "stream",
     "text": [
      "<class 'PIL.Image.Image'>\n",
      "Examine imu= 48.9036786316634\n",
      "Examine Kalman= 45.456\n",
      "gold_speed True Speed: 48.9036786316634\n"
     ]
    },
    {
     "name": "stderr",
     "output_type": "stream",
     "text": [
      "/Users/maksimekineren/Desktop/Maksim/UMBC/Classes/Spring 2021/CMSC 611/Project/pyCarDisplay/examples/model.py:504: UserWarning: indexing with dtype torch.uint8 is now deprecated, please use a dtype torch.bool instead. (Triggered internally at  ../aten/src/ATen/native/IndexingUtils.h:30.)\n",
      "  image_boxes.append(class_decoded_locs[1 - suppress])\n",
      "/Users/maksimekineren/Desktop/Maksim/UMBC/Classes/Spring 2021/CMSC 611/Project/pyCarDisplay/examples/model.py:506: UserWarning: indexing with dtype torch.uint8 is now deprecated, please use a dtype torch.bool instead. (Triggered internally at  ../aten/src/ATen/native/IndexingUtils.h:30.)\n",
      "  image_scores.append(class_scores[1 - suppress])\n",
      "/Users/maksimekineren/Desktop/Maksim/UMBC/Classes/Spring 2021/CMSC 611/Project/pyCarDisplay/examples/model.py:504: UserWarning: indexing with dtype torch.uint8 is now deprecated, please use a dtype torch.bool instead. (Triggered internally at  ../aten/src/ATen/native/IndexingUtils.h:30.)\n",
      "  image_boxes.append(class_decoded_locs[1 - suppress])\n",
      "/Users/maksimekineren/Desktop/Maksim/UMBC/Classes/Spring 2021/CMSC 611/Project/pyCarDisplay/examples/model.py:506: UserWarning: indexing with dtype torch.uint8 is now deprecated, please use a dtype torch.bool instead. (Triggered internally at  ../aten/src/ATen/native/IndexingUtils.h:30.)\n",
      "  image_scores.append(class_scores[1 - suppress])\n"
     ]
    },
    {
     "name": "stdout",
     "output_type": "stream",
     "text": [
      "<class 'PIL.Image.Image'>\n",
      "Examine imu= 48.89463233570693\n",
      "Examine Kalman= 45.456\n",
      "gold_speed True Speed: 48.89463233570693\n"
     ]
    },
    {
     "name": "stderr",
     "output_type": "stream",
     "text": [
      "/Users/maksimekineren/Desktop/Maksim/UMBC/Classes/Spring 2021/CMSC 611/Project/pyCarDisplay/examples/model.py:504: UserWarning: indexing with dtype torch.uint8 is now deprecated, please use a dtype torch.bool instead. (Triggered internally at  ../aten/src/ATen/native/IndexingUtils.h:30.)\n",
      "  image_boxes.append(class_decoded_locs[1 - suppress])\n",
      "/Users/maksimekineren/Desktop/Maksim/UMBC/Classes/Spring 2021/CMSC 611/Project/pyCarDisplay/examples/model.py:506: UserWarning: indexing with dtype torch.uint8 is now deprecated, please use a dtype torch.bool instead. (Triggered internally at  ../aten/src/ATen/native/IndexingUtils.h:30.)\n",
      "  image_scores.append(class_scores[1 - suppress])\n",
      "/Users/maksimekineren/Desktop/Maksim/UMBC/Classes/Spring 2021/CMSC 611/Project/pyCarDisplay/examples/model.py:504: UserWarning: indexing with dtype torch.uint8 is now deprecated, please use a dtype torch.bool instead. (Triggered internally at  ../aten/src/ATen/native/IndexingUtils.h:30.)\n",
      "  image_boxes.append(class_decoded_locs[1 - suppress])\n",
      "/Users/maksimekineren/Desktop/Maksim/UMBC/Classes/Spring 2021/CMSC 611/Project/pyCarDisplay/examples/model.py:506: UserWarning: indexing with dtype torch.uint8 is now deprecated, please use a dtype torch.bool instead. (Triggered internally at  ../aten/src/ATen/native/IndexingUtils.h:30.)\n",
      "  image_scores.append(class_scores[1 - suppress])\n"
     ]
    },
    {
     "name": "stdout",
     "output_type": "stream",
     "text": [
      "<class 'PIL.Image.Image'>\n",
      "Examine imu= 49.095500942715425\n",
      "Examine Kalman= 45.456\n",
      "gold_speed True Speed: 49.095500942715425\n"
     ]
    },
    {
     "name": "stderr",
     "output_type": "stream",
     "text": [
      "/Users/maksimekineren/Desktop/Maksim/UMBC/Classes/Spring 2021/CMSC 611/Project/pyCarDisplay/examples/model.py:504: UserWarning: indexing with dtype torch.uint8 is now deprecated, please use a dtype torch.bool instead. (Triggered internally at  ../aten/src/ATen/native/IndexingUtils.h:30.)\n",
      "  image_boxes.append(class_decoded_locs[1 - suppress])\n",
      "/Users/maksimekineren/Desktop/Maksim/UMBC/Classes/Spring 2021/CMSC 611/Project/pyCarDisplay/examples/model.py:506: UserWarning: indexing with dtype torch.uint8 is now deprecated, please use a dtype torch.bool instead. (Triggered internally at  ../aten/src/ATen/native/IndexingUtils.h:30.)\n",
      "  image_scores.append(class_scores[1 - suppress])\n",
      "/Users/maksimekineren/Desktop/Maksim/UMBC/Classes/Spring 2021/CMSC 611/Project/pyCarDisplay/examples/model.py:504: UserWarning: indexing with dtype torch.uint8 is now deprecated, please use a dtype torch.bool instead. (Triggered internally at  ../aten/src/ATen/native/IndexingUtils.h:30.)\n",
      "  image_boxes.append(class_decoded_locs[1 - suppress])\n",
      "/Users/maksimekineren/Desktop/Maksim/UMBC/Classes/Spring 2021/CMSC 611/Project/pyCarDisplay/examples/model.py:506: UserWarning: indexing with dtype torch.uint8 is now deprecated, please use a dtype torch.bool instead. (Triggered internally at  ../aten/src/ATen/native/IndexingUtils.h:30.)\n",
      "  image_scores.append(class_scores[1 - suppress])\n"
     ]
    },
    {
     "name": "stdout",
     "output_type": "stream",
     "text": [
      "<class 'PIL.Image.Image'>\n",
      "Examine imu= 49.149931673146085\n",
      "Examine Kalman= 45.456\n",
      "gold_speed True Speed: 49.149931673146085\n"
     ]
    },
    {
     "name": "stderr",
     "output_type": "stream",
     "text": [
      "/Users/maksimekineren/Desktop/Maksim/UMBC/Classes/Spring 2021/CMSC 611/Project/pyCarDisplay/examples/model.py:504: UserWarning: indexing with dtype torch.uint8 is now deprecated, please use a dtype torch.bool instead. (Triggered internally at  ../aten/src/ATen/native/IndexingUtils.h:30.)\n",
      "  image_boxes.append(class_decoded_locs[1 - suppress])\n",
      "/Users/maksimekineren/Desktop/Maksim/UMBC/Classes/Spring 2021/CMSC 611/Project/pyCarDisplay/examples/model.py:506: UserWarning: indexing with dtype torch.uint8 is now deprecated, please use a dtype torch.bool instead. (Triggered internally at  ../aten/src/ATen/native/IndexingUtils.h:30.)\n",
      "  image_scores.append(class_scores[1 - suppress])\n",
      "/Users/maksimekineren/Desktop/Maksim/UMBC/Classes/Spring 2021/CMSC 611/Project/pyCarDisplay/examples/model.py:504: UserWarning: indexing with dtype torch.uint8 is now deprecated, please use a dtype torch.bool instead. (Triggered internally at  ../aten/src/ATen/native/IndexingUtils.h:30.)\n",
      "  image_boxes.append(class_decoded_locs[1 - suppress])\n",
      "/Users/maksimekineren/Desktop/Maksim/UMBC/Classes/Spring 2021/CMSC 611/Project/pyCarDisplay/examples/model.py:506: UserWarning: indexing with dtype torch.uint8 is now deprecated, please use a dtype torch.bool instead. (Triggered internally at  ../aten/src/ATen/native/IndexingUtils.h:30.)\n",
      "  image_scores.append(class_scores[1 - suppress])\n"
     ]
    },
    {
     "name": "stdout",
     "output_type": "stream",
     "text": [
      "<class 'PIL.Image.Image'>\n",
      "Examine imu= 49.00715571253497\n",
      "Examine Kalman= 45.456\n",
      "gold_speed True Speed: 49.00715571253497\n"
     ]
    },
    {
     "name": "stderr",
     "output_type": "stream",
     "text": [
      "/Users/maksimekineren/Desktop/Maksim/UMBC/Classes/Spring 2021/CMSC 611/Project/pyCarDisplay/examples/model.py:504: UserWarning: indexing with dtype torch.uint8 is now deprecated, please use a dtype torch.bool instead. (Triggered internally at  ../aten/src/ATen/native/IndexingUtils.h:30.)\n",
      "  image_boxes.append(class_decoded_locs[1 - suppress])\n",
      "/Users/maksimekineren/Desktop/Maksim/UMBC/Classes/Spring 2021/CMSC 611/Project/pyCarDisplay/examples/model.py:506: UserWarning: indexing with dtype torch.uint8 is now deprecated, please use a dtype torch.bool instead. (Triggered internally at  ../aten/src/ATen/native/IndexingUtils.h:30.)\n",
      "  image_scores.append(class_scores[1 - suppress])\n",
      "/Users/maksimekineren/Desktop/Maksim/UMBC/Classes/Spring 2021/CMSC 611/Project/pyCarDisplay/examples/model.py:504: UserWarning: indexing with dtype torch.uint8 is now deprecated, please use a dtype torch.bool instead. (Triggered internally at  ../aten/src/ATen/native/IndexingUtils.h:30.)\n",
      "  image_boxes.append(class_decoded_locs[1 - suppress])\n",
      "/Users/maksimekineren/Desktop/Maksim/UMBC/Classes/Spring 2021/CMSC 611/Project/pyCarDisplay/examples/model.py:506: UserWarning: indexing with dtype torch.uint8 is now deprecated, please use a dtype torch.bool instead. (Triggered internally at  ../aten/src/ATen/native/IndexingUtils.h:30.)\n",
      "  image_scores.append(class_scores[1 - suppress])\n"
     ]
    },
    {
     "name": "stdout",
     "output_type": "stream",
     "text": [
      "<class 'PIL.Image.Image'>\n",
      "Examine imu= 49.11464422065821\n",
      "Examine Kalman= 45.456\n",
      "gold_speed True Speed: 49.11464422065821\n"
     ]
    },
    {
     "name": "stderr",
     "output_type": "stream",
     "text": [
      "/Users/maksimekineren/Desktop/Maksim/UMBC/Classes/Spring 2021/CMSC 611/Project/pyCarDisplay/examples/model.py:504: UserWarning: indexing with dtype torch.uint8 is now deprecated, please use a dtype torch.bool instead. (Triggered internally at  ../aten/src/ATen/native/IndexingUtils.h:30.)\n",
      "  image_boxes.append(class_decoded_locs[1 - suppress])\n",
      "/Users/maksimekineren/Desktop/Maksim/UMBC/Classes/Spring 2021/CMSC 611/Project/pyCarDisplay/examples/model.py:506: UserWarning: indexing with dtype torch.uint8 is now deprecated, please use a dtype torch.bool instead. (Triggered internally at  ../aten/src/ATen/native/IndexingUtils.h:30.)\n",
      "  image_scores.append(class_scores[1 - suppress])\n"
     ]
    },
    {
     "name": "stdout",
     "output_type": "stream",
     "text": [
      "<class 'PIL.Image.Image'>\n",
      "Examine imu= 49.050429456420765\n",
      "Examine Kalman= 45.456\n",
      "gold_speed True Speed: 49.050429456420765\n"
     ]
    },
    {
     "name": "stderr",
     "output_type": "stream",
     "text": [
      "/Users/maksimekineren/Desktop/Maksim/UMBC/Classes/Spring 2021/CMSC 611/Project/pyCarDisplay/examples/model.py:504: UserWarning: indexing with dtype torch.uint8 is now deprecated, please use a dtype torch.bool instead. (Triggered internally at  ../aten/src/ATen/native/IndexingUtils.h:30.)\n",
      "  image_boxes.append(class_decoded_locs[1 - suppress])\n",
      "/Users/maksimekineren/Desktop/Maksim/UMBC/Classes/Spring 2021/CMSC 611/Project/pyCarDisplay/examples/model.py:506: UserWarning: indexing with dtype torch.uint8 is now deprecated, please use a dtype torch.bool instead. (Triggered internally at  ../aten/src/ATen/native/IndexingUtils.h:30.)\n",
      "  image_scores.append(class_scores[1 - suppress])\n",
      "/Users/maksimekineren/Desktop/Maksim/UMBC/Classes/Spring 2021/CMSC 611/Project/pyCarDisplay/examples/model.py:504: UserWarning: indexing with dtype torch.uint8 is now deprecated, please use a dtype torch.bool instead. (Triggered internally at  ../aten/src/ATen/native/IndexingUtils.h:30.)\n",
      "  image_boxes.append(class_decoded_locs[1 - suppress])\n",
      "/Users/maksimekineren/Desktop/Maksim/UMBC/Classes/Spring 2021/CMSC 611/Project/pyCarDisplay/examples/model.py:506: UserWarning: indexing with dtype torch.uint8 is now deprecated, please use a dtype torch.bool instead. (Triggered internally at  ../aten/src/ATen/native/IndexingUtils.h:30.)\n",
      "  image_scores.append(class_scores[1 - suppress])\n"
     ]
    },
    {
     "name": "stdout",
     "output_type": "stream",
     "text": [
      "<class 'PIL.Image.Image'>\n",
      "Examine imu= 48.94980418926849\n",
      "Examine Kalman= 45.456\n",
      "gold_speed True Speed: 48.94980418926849\n"
     ]
    },
    {
     "name": "stderr",
     "output_type": "stream",
     "text": [
      "/Users/maksimekineren/Desktop/Maksim/UMBC/Classes/Spring 2021/CMSC 611/Project/pyCarDisplay/examples/model.py:504: UserWarning: indexing with dtype torch.uint8 is now deprecated, please use a dtype torch.bool instead. (Triggered internally at  ../aten/src/ATen/native/IndexingUtils.h:30.)\n",
      "  image_boxes.append(class_decoded_locs[1 - suppress])\n",
      "/Users/maksimekineren/Desktop/Maksim/UMBC/Classes/Spring 2021/CMSC 611/Project/pyCarDisplay/examples/model.py:506: UserWarning: indexing with dtype torch.uint8 is now deprecated, please use a dtype torch.bool instead. (Triggered internally at  ../aten/src/ATen/native/IndexingUtils.h:30.)\n",
      "  image_scores.append(class_scores[1 - suppress])\n",
      "/Users/maksimekineren/Desktop/Maksim/UMBC/Classes/Spring 2021/CMSC 611/Project/pyCarDisplay/examples/model.py:504: UserWarning: indexing with dtype torch.uint8 is now deprecated, please use a dtype torch.bool instead. (Triggered internally at  ../aten/src/ATen/native/IndexingUtils.h:30.)\n",
      "  image_boxes.append(class_decoded_locs[1 - suppress])\n",
      "/Users/maksimekineren/Desktop/Maksim/UMBC/Classes/Spring 2021/CMSC 611/Project/pyCarDisplay/examples/model.py:506: UserWarning: indexing with dtype torch.uint8 is now deprecated, please use a dtype torch.bool instead. (Triggered internally at  ../aten/src/ATen/native/IndexingUtils.h:30.)\n",
      "  image_scores.append(class_scores[1 - suppress])\n"
     ]
    },
    {
     "name": "stdout",
     "output_type": "stream",
     "text": [
      "<class 'PIL.Image.Image'>\n",
      "Examine imu= 49.05046015434484\n",
      "Examine Kalman= 45.456\n",
      "gold_speed True Speed: 49.05046015434484\n"
     ]
    },
    {
     "name": "stderr",
     "output_type": "stream",
     "text": [
      "/Users/maksimekineren/Desktop/Maksim/UMBC/Classes/Spring 2021/CMSC 611/Project/pyCarDisplay/examples/model.py:504: UserWarning: indexing with dtype torch.uint8 is now deprecated, please use a dtype torch.bool instead. (Triggered internally at  ../aten/src/ATen/native/IndexingUtils.h:30.)\n",
      "  image_boxes.append(class_decoded_locs[1 - suppress])\n",
      "/Users/maksimekineren/Desktop/Maksim/UMBC/Classes/Spring 2021/CMSC 611/Project/pyCarDisplay/examples/model.py:506: UserWarning: indexing with dtype torch.uint8 is now deprecated, please use a dtype torch.bool instead. (Triggered internally at  ../aten/src/ATen/native/IndexingUtils.h:30.)\n",
      "  image_scores.append(class_scores[1 - suppress])\n"
     ]
    },
    {
     "name": "stdout",
     "output_type": "stream",
     "text": [
      "<class 'PIL.Image.Image'>\n",
      "Examine imu= 49.1680736689356\n",
      "Examine Kalman= 45.456\n",
      "gold_speed True Speed: 49.1680736689356\n"
     ]
    },
    {
     "name": "stderr",
     "output_type": "stream",
     "text": [
      "/Users/maksimekineren/Desktop/Maksim/UMBC/Classes/Spring 2021/CMSC 611/Project/pyCarDisplay/examples/model.py:504: UserWarning: indexing with dtype torch.uint8 is now deprecated, please use a dtype torch.bool instead. (Triggered internally at  ../aten/src/ATen/native/IndexingUtils.h:30.)\n",
      "  image_boxes.append(class_decoded_locs[1 - suppress])\n",
      "/Users/maksimekineren/Desktop/Maksim/UMBC/Classes/Spring 2021/CMSC 611/Project/pyCarDisplay/examples/model.py:506: UserWarning: indexing with dtype torch.uint8 is now deprecated, please use a dtype torch.bool instead. (Triggered internally at  ../aten/src/ATen/native/IndexingUtils.h:30.)\n",
      "  image_scores.append(class_scores[1 - suppress])\n",
      "/Users/maksimekineren/Desktop/Maksim/UMBC/Classes/Spring 2021/CMSC 611/Project/pyCarDisplay/examples/model.py:504: UserWarning: indexing with dtype torch.uint8 is now deprecated, please use a dtype torch.bool instead. (Triggered internally at  ../aten/src/ATen/native/IndexingUtils.h:30.)\n",
      "  image_boxes.append(class_decoded_locs[1 - suppress])\n",
      "/Users/maksimekineren/Desktop/Maksim/UMBC/Classes/Spring 2021/CMSC 611/Project/pyCarDisplay/examples/model.py:506: UserWarning: indexing with dtype torch.uint8 is now deprecated, please use a dtype torch.bool instead. (Triggered internally at  ../aten/src/ATen/native/IndexingUtils.h:30.)\n",
      "  image_scores.append(class_scores[1 - suppress])\n"
     ]
    },
    {
     "name": "stdout",
     "output_type": "stream",
     "text": [
      "<class 'PIL.Image.Image'>\n",
      "Examine imu= 49.010712813332006\n",
      "Examine Kalman= 45.456\n",
      "gold_speed True Speed: 49.010712813332006\n"
     ]
    },
    {
     "name": "stderr",
     "output_type": "stream",
     "text": [
      "/Users/maksimekineren/Desktop/Maksim/UMBC/Classes/Spring 2021/CMSC 611/Project/pyCarDisplay/examples/model.py:504: UserWarning: indexing with dtype torch.uint8 is now deprecated, please use a dtype torch.bool instead. (Triggered internally at  ../aten/src/ATen/native/IndexingUtils.h:30.)\n",
      "  image_boxes.append(class_decoded_locs[1 - suppress])\n",
      "/Users/maksimekineren/Desktop/Maksim/UMBC/Classes/Spring 2021/CMSC 611/Project/pyCarDisplay/examples/model.py:506: UserWarning: indexing with dtype torch.uint8 is now deprecated, please use a dtype torch.bool instead. (Triggered internally at  ../aten/src/ATen/native/IndexingUtils.h:30.)\n",
      "  image_scores.append(class_scores[1 - suppress])\n",
      "/Users/maksimekineren/Desktop/Maksim/UMBC/Classes/Spring 2021/CMSC 611/Project/pyCarDisplay/examples/model.py:504: UserWarning: indexing with dtype torch.uint8 is now deprecated, please use a dtype torch.bool instead. (Triggered internally at  ../aten/src/ATen/native/IndexingUtils.h:30.)\n",
      "  image_boxes.append(class_decoded_locs[1 - suppress])\n",
      "/Users/maksimekineren/Desktop/Maksim/UMBC/Classes/Spring 2021/CMSC 611/Project/pyCarDisplay/examples/model.py:506: UserWarning: indexing with dtype torch.uint8 is now deprecated, please use a dtype torch.bool instead. (Triggered internally at  ../aten/src/ATen/native/IndexingUtils.h:30.)\n",
      "  image_scores.append(class_scores[1 - suppress])\n"
     ]
    },
    {
     "name": "stdout",
     "output_type": "stream",
     "text": [
      "<class 'PIL.Image.Image'>\n",
      "Examine imu= 49.1707256840954\n",
      "Examine Kalman= 45.456\n",
      "gold_speed True Speed: 49.1707256840954\n"
     ]
    },
    {
     "name": "stderr",
     "output_type": "stream",
     "text": [
      "/Users/maksimekineren/Desktop/Maksim/UMBC/Classes/Spring 2021/CMSC 611/Project/pyCarDisplay/examples/model.py:504: UserWarning: indexing with dtype torch.uint8 is now deprecated, please use a dtype torch.bool instead. (Triggered internally at  ../aten/src/ATen/native/IndexingUtils.h:30.)\n",
      "  image_boxes.append(class_decoded_locs[1 - suppress])\n",
      "/Users/maksimekineren/Desktop/Maksim/UMBC/Classes/Spring 2021/CMSC 611/Project/pyCarDisplay/examples/model.py:506: UserWarning: indexing with dtype torch.uint8 is now deprecated, please use a dtype torch.bool instead. (Triggered internally at  ../aten/src/ATen/native/IndexingUtils.h:30.)\n",
      "  image_scores.append(class_scores[1 - suppress])\n",
      "/Users/maksimekineren/Desktop/Maksim/UMBC/Classes/Spring 2021/CMSC 611/Project/pyCarDisplay/examples/model.py:504: UserWarning: indexing with dtype torch.uint8 is now deprecated, please use a dtype torch.bool instead. (Triggered internally at  ../aten/src/ATen/native/IndexingUtils.h:30.)\n",
      "  image_boxes.append(class_decoded_locs[1 - suppress])\n",
      "/Users/maksimekineren/Desktop/Maksim/UMBC/Classes/Spring 2021/CMSC 611/Project/pyCarDisplay/examples/model.py:506: UserWarning: indexing with dtype torch.uint8 is now deprecated, please use a dtype torch.bool instead. (Triggered internally at  ../aten/src/ATen/native/IndexingUtils.h:30.)\n",
      "  image_scores.append(class_scores[1 - suppress])\n"
     ]
    },
    {
     "name": "stdout",
     "output_type": "stream",
     "text": [
      "<class 'PIL.Image.Image'>\n",
      "Examine imu= 48.75231235333403\n",
      "Examine Kalman= 45.456\n",
      "gold_speed True Speed: 48.75231235333403\n"
     ]
    },
    {
     "name": "stderr",
     "output_type": "stream",
     "text": [
      "/Users/maksimekineren/Desktop/Maksim/UMBC/Classes/Spring 2021/CMSC 611/Project/pyCarDisplay/examples/model.py:504: UserWarning: indexing with dtype torch.uint8 is now deprecated, please use a dtype torch.bool instead. (Triggered internally at  ../aten/src/ATen/native/IndexingUtils.h:30.)\n",
      "  image_boxes.append(class_decoded_locs[1 - suppress])\n",
      "/Users/maksimekineren/Desktop/Maksim/UMBC/Classes/Spring 2021/CMSC 611/Project/pyCarDisplay/examples/model.py:506: UserWarning: indexing with dtype torch.uint8 is now deprecated, please use a dtype torch.bool instead. (Triggered internally at  ../aten/src/ATen/native/IndexingUtils.h:30.)\n",
      "  image_scores.append(class_scores[1 - suppress])\n",
      "/Users/maksimekineren/Desktop/Maksim/UMBC/Classes/Spring 2021/CMSC 611/Project/pyCarDisplay/examples/model.py:504: UserWarning: indexing with dtype torch.uint8 is now deprecated, please use a dtype torch.bool instead. (Triggered internally at  ../aten/src/ATen/native/IndexingUtils.h:30.)\n",
      "  image_boxes.append(class_decoded_locs[1 - suppress])\n",
      "/Users/maksimekineren/Desktop/Maksim/UMBC/Classes/Spring 2021/CMSC 611/Project/pyCarDisplay/examples/model.py:506: UserWarning: indexing with dtype torch.uint8 is now deprecated, please use a dtype torch.bool instead. (Triggered internally at  ../aten/src/ATen/native/IndexingUtils.h:30.)\n",
      "  image_scores.append(class_scores[1 - suppress])\n"
     ]
    },
    {
     "name": "stdout",
     "output_type": "stream",
     "text": [
      "<class 'PIL.Image.Image'>\n",
      "Examine imu= 49.09647304935952\n",
      "Examine Kalman= 45.456\n",
      "gold_speed True Speed: 49.09647304935952\n",
      "<class 'PIL.Image.Image'>\n",
      "Examine imu= 49.02296187666782\n",
      "Examine Kalman= 45.456\n",
      "gold_speed True Speed: 49.02296187666782\n"
     ]
    }
   ],
   "source": [
    "display.start(verbose=False)"
   ]
  },
  {
   "cell_type": "code",
   "execution_count": null,
   "metadata": {},
   "outputs": [],
   "source": []
  },
  {
   "cell_type": "code",
   "execution_count": null,
   "metadata": {},
   "outputs": [],
   "source": []
  }
 ],
 "metadata": {
  "kernelspec": {
   "display_name": "Python 3",
   "language": "python",
   "name": "python3"
  },
  "language_info": {
   "codemirror_mode": {
    "name": "ipython",
    "version": 3
   },
   "file_extension": ".py",
   "mimetype": "text/x-python",
   "name": "python",
   "nbconvert_exporter": "python",
   "pygments_lexer": "ipython3",
   "version": "3.8.5"
  }
 },
 "nbformat": 4,
 "nbformat_minor": 4
}
