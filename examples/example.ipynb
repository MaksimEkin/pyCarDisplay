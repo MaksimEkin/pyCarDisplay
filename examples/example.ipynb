{
 "cells": [
  {
   "cell_type": "code",
   "execution_count": 1,
   "metadata": {},
   "outputs": [],
   "source": [
    "from pyCarDisplay.pyCarDisplay import CarDisplay"
   ]
  },
  {
   "cell_type": "code",
   "execution_count": 2,
   "metadata": {},
   "outputs": [
    {
     "name": "stdout",
     "output_type": "stream",
     "text": [
      "\u001b[33mEnvironment variable is set. PYCARDISPLAY_DEVICE =cpu\u001b[0m\n",
      "\u001b[36mCar configurations:\n",
      "car_images_path = ../data/2011_09_26/2011_09_26_drive_0005_sync/image_02/data/\n",
      "imu_sensor_path = ../data/2011_09_26/2011_09_26_drive_0005_sync/oxts/data/\n",
      "lidar_sensor_path = ../data/2011_09_26/2011_09_26_drive_0005_sync/velodyne_points/data/\n",
      "object_detection_model_path = ../data/checkpoint_ssd300.pth.tar\n",
      "depth_detection_model_path = ../data/model-f6b98070.pt\n",
      "img_resize_size = (300, 300)\n",
      "norm_mean = [0.485, 0.456, 0.406]\n",
      "norm_std = [0.229, 0.224, 0.225]\n",
      "R_covariance = 0.1\n",
      "add_noise = True\n",
      "IMU_name = None\n",
      "gui_speed = 1\n",
      "random_state = 42\n",
      "image_extension = png\n",
      "verbose = True\u001b[0m\n",
      "\u001b[33mObject detection is using: cpu\u001b[0m\n",
      "\u001b[34mObject detection API is loading the model: ../data/checkpoint_ssd300.pth.tar\u001b[0m\n"
     ]
    },
    {
     "ename": "ModuleNotFoundError",
     "evalue": "No module named 'model'",
     "output_type": "error",
     "traceback": [
      "\u001b[0;31m---------------------------------------------------------------------------\u001b[0m",
      "\u001b[0;31mModuleNotFoundError\u001b[0m                       Traceback (most recent call last)",
      "\u001b[0;32m<ipython-input-2-3510e700c437>\u001b[0m in \u001b[0;36m<module>\u001b[0;34m\u001b[0m\n\u001b[0;32m----> 1\u001b[0;31m display = CarDisplay(\n\u001b[0m\u001b[1;32m      2\u001b[0m     \u001b[0mcar_images_path\u001b[0m\u001b[0;34m=\u001b[0m\u001b[0;34m\"../data/2011_09_26/2011_09_26_drive_0005_sync/image_02/data/\"\u001b[0m\u001b[0;34m,\u001b[0m\u001b[0;34m\u001b[0m\u001b[0;34m\u001b[0m\u001b[0m\n\u001b[1;32m      3\u001b[0m     \u001b[0mimu_sensor_path\u001b[0m\u001b[0;34m=\u001b[0m\u001b[0;34m'../data/2011_09_26/2011_09_26_drive_0005_sync/oxts/data/'\u001b[0m\u001b[0;34m,\u001b[0m\u001b[0;34m\u001b[0m\u001b[0;34m\u001b[0m\u001b[0m\n\u001b[1;32m      4\u001b[0m     \u001b[0mlidar_sensor_path\u001b[0m\u001b[0;34m=\u001b[0m\u001b[0;34m'../data/2011_09_26/2011_09_26_drive_0005_sync/velodyne_points/data/'\u001b[0m\u001b[0;34m,\u001b[0m\u001b[0;34m\u001b[0m\u001b[0;34m\u001b[0m\u001b[0m\n\u001b[1;32m      5\u001b[0m     \u001b[0mobject_detection_model_path\u001b[0m\u001b[0;34m=\u001b[0m\u001b[0;34m'../data/checkpoint_ssd300.pth.tar'\u001b[0m\u001b[0;34m,\u001b[0m\u001b[0;34m\u001b[0m\u001b[0;34m\u001b[0m\u001b[0m\n",
      "\u001b[0;32m/opt/anaconda3/envs/pyCarDisplay/lib/python3.8/site-packages/pyCarDisplay-0.0.0-py3.8.egg/pyCarDisplay/pyCarDisplay.py\u001b[0m in \u001b[0;36m__init__\u001b[0;34m(self, **parameters)\u001b[0m\n\u001b[1;32m     32\u001b[0m         \u001b[0;31m# TODO: Perform any parameter/path checks here\u001b[0m\u001b[0;34m\u001b[0m\u001b[0;34m\u001b[0m\u001b[0;34m\u001b[0m\u001b[0m\n\u001b[1;32m     33\u001b[0m         \u001b[0;32mfrom\u001b[0m \u001b[0;34m.\u001b[0m\u001b[0mcar\u001b[0m \u001b[0;32mimport\u001b[0m \u001b[0mCar\u001b[0m\u001b[0;34m\u001b[0m\u001b[0;34m\u001b[0m\u001b[0m\n\u001b[0;32m---> 34\u001b[0;31m         \u001b[0mself\u001b[0m\u001b[0;34m.\u001b[0m\u001b[0mcar\u001b[0m \u001b[0;34m=\u001b[0m \u001b[0mCar\u001b[0m\u001b[0;34m(\u001b[0m\u001b[0;34m**\u001b[0m\u001b[0mparameters\u001b[0m\u001b[0;34m)\u001b[0m\u001b[0;34m\u001b[0m\u001b[0;34m\u001b[0m\u001b[0m\n\u001b[0m\u001b[1;32m     35\u001b[0m \u001b[0;34m\u001b[0m\u001b[0m\n\u001b[1;32m     36\u001b[0m \u001b[0;34m\u001b[0m\u001b[0m\n",
      "\u001b[0;32m/opt/anaconda3/envs/pyCarDisplay/lib/python3.8/site-packages/pyCarDisplay-0.0.0-py3.8.egg/pyCarDisplay/car.py\u001b[0m in \u001b[0;36m__init__\u001b[0;34m(self, car_images_path, imu_sensor_path, lidar_sensor_path, object_detection_model_path, depth_detection_model_path, depth_detection_model_type, img_resize_size, norm_mean, norm_std, R_covariance, add_noise, IMU_name, gui_speed, theme, image_extension, random_state, verbose, optimize, device)\u001b[0m\n\u001b[1;32m     88\u001b[0m \u001b[0;34m\u001b[0m\u001b[0m\n\u001b[1;32m     89\u001b[0m         \u001b[0;31m# Load the object detection API\u001b[0m\u001b[0;34m\u001b[0m\u001b[0;34m\u001b[0m\u001b[0;34m\u001b[0m\u001b[0m\n\u001b[0;32m---> 90\u001b[0;31m         self.obj_detection_api = ObjectDetection(object_detection_model_path,\n\u001b[0m\u001b[1;32m     91\u001b[0m                                                  \u001b[0mverbose\u001b[0m\u001b[0;34m,\u001b[0m\u001b[0;34m\u001b[0m\u001b[0;34m\u001b[0m\u001b[0m\n\u001b[1;32m     92\u001b[0m                                                  \u001b[0mimg_resize_size\u001b[0m\u001b[0;34m,\u001b[0m\u001b[0;34m\u001b[0m\u001b[0;34m\u001b[0m\u001b[0m\n",
      "\u001b[0;32m/opt/anaconda3/envs/pyCarDisplay/lib/python3.8/site-packages/pyCarDisplay-0.0.0-py3.8.egg/pyCarDisplay/detection/object_detection_api.py\u001b[0m in \u001b[0;36m__init__\u001b[0;34m(self, model_path, verbose, img_resize_size, norm_mean, norm_std, device)\u001b[0m\n\u001b[1;32m     63\u001b[0m             \u001b[0mprint\u001b[0m\u001b[0;34m(\u001b[0m\u001b[0mcolored\u001b[0m\u001b[0;34m(\u001b[0m\u001b[0;34m\"Object detection API is loading the model: \"\u001b[0m \u001b[0;34m+\u001b[0m \u001b[0mstr\u001b[0m\u001b[0;34m(\u001b[0m\u001b[0mself\u001b[0m\u001b[0;34m.\u001b[0m\u001b[0mmodel_path\u001b[0m\u001b[0;34m)\u001b[0m\u001b[0;34m,\u001b[0m \u001b[0;34m\"blue\"\u001b[0m\u001b[0;34m)\u001b[0m\u001b[0;34m)\u001b[0m\u001b[0;34m\u001b[0m\u001b[0;34m\u001b[0m\u001b[0m\n\u001b[1;32m     64\u001b[0m \u001b[0;34m\u001b[0m\u001b[0m\n\u001b[0;32m---> 65\u001b[0;31m         \u001b[0mcheckpoint\u001b[0m \u001b[0;34m=\u001b[0m \u001b[0mtorch\u001b[0m\u001b[0;34m.\u001b[0m\u001b[0mload\u001b[0m\u001b[0;34m(\u001b[0m\u001b[0mself\u001b[0m\u001b[0;34m.\u001b[0m\u001b[0mmodel_path\u001b[0m\u001b[0;34m,\u001b[0m \u001b[0mmap_location\u001b[0m\u001b[0;34m=\u001b[0m\u001b[0mself\u001b[0m\u001b[0;34m.\u001b[0m\u001b[0mdevice\u001b[0m\u001b[0;34m)\u001b[0m\u001b[0;34m\u001b[0m\u001b[0;34m\u001b[0m\u001b[0m\n\u001b[0m\u001b[1;32m     66\u001b[0m         \u001b[0mstart_epoch\u001b[0m \u001b[0;34m=\u001b[0m \u001b[0mcheckpoint\u001b[0m\u001b[0;34m[\u001b[0m\u001b[0;34m'epoch'\u001b[0m\u001b[0;34m]\u001b[0m \u001b[0;34m+\u001b[0m \u001b[0;36m1\u001b[0m\u001b[0;34m\u001b[0m\u001b[0;34m\u001b[0m\u001b[0m\n\u001b[1;32m     67\u001b[0m \u001b[0;34m\u001b[0m\u001b[0m\n",
      "\u001b[0;32m/opt/anaconda3/envs/pyCarDisplay/lib/python3.8/site-packages/torch-1.8.0-py3.8-macosx-10.9-x86_64.egg/torch/serialization.py\u001b[0m in \u001b[0;36mload\u001b[0;34m(f, map_location, pickle_module, **pickle_load_args)\u001b[0m\n\u001b[1;32m    591\u001b[0m                     \u001b[0;32mreturn\u001b[0m \u001b[0mtorch\u001b[0m\u001b[0;34m.\u001b[0m\u001b[0mjit\u001b[0m\u001b[0;34m.\u001b[0m\u001b[0mload\u001b[0m\u001b[0;34m(\u001b[0m\u001b[0mopened_file\u001b[0m\u001b[0;34m)\u001b[0m\u001b[0;34m\u001b[0m\u001b[0;34m\u001b[0m\u001b[0m\n\u001b[1;32m    592\u001b[0m                 \u001b[0;32mreturn\u001b[0m \u001b[0m_load\u001b[0m\u001b[0;34m(\u001b[0m\u001b[0mopened_zipfile\u001b[0m\u001b[0;34m,\u001b[0m \u001b[0mmap_location\u001b[0m\u001b[0;34m,\u001b[0m \u001b[0mpickle_module\u001b[0m\u001b[0;34m,\u001b[0m \u001b[0;34m**\u001b[0m\u001b[0mpickle_load_args\u001b[0m\u001b[0;34m)\u001b[0m\u001b[0;34m\u001b[0m\u001b[0;34m\u001b[0m\u001b[0m\n\u001b[0;32m--> 593\u001b[0;31m         \u001b[0;32mreturn\u001b[0m \u001b[0m_legacy_load\u001b[0m\u001b[0;34m(\u001b[0m\u001b[0mopened_file\u001b[0m\u001b[0;34m,\u001b[0m \u001b[0mmap_location\u001b[0m\u001b[0;34m,\u001b[0m \u001b[0mpickle_module\u001b[0m\u001b[0;34m,\u001b[0m \u001b[0;34m**\u001b[0m\u001b[0mpickle_load_args\u001b[0m\u001b[0;34m)\u001b[0m\u001b[0;34m\u001b[0m\u001b[0;34m\u001b[0m\u001b[0m\n\u001b[0m\u001b[1;32m    594\u001b[0m \u001b[0;34m\u001b[0m\u001b[0m\n\u001b[1;32m    595\u001b[0m \u001b[0;34m\u001b[0m\u001b[0m\n",
      "\u001b[0;32m/opt/anaconda3/envs/pyCarDisplay/lib/python3.8/site-packages/torch-1.8.0-py3.8-macosx-10.9-x86_64.egg/torch/serialization.py\u001b[0m in \u001b[0;36m_legacy_load\u001b[0;34m(f, map_location, pickle_module, **pickle_load_args)\u001b[0m\n\u001b[1;32m    770\u001b[0m     \u001b[0munpickler\u001b[0m \u001b[0;34m=\u001b[0m \u001b[0mpickle_module\u001b[0m\u001b[0;34m.\u001b[0m\u001b[0mUnpickler\u001b[0m\u001b[0;34m(\u001b[0m\u001b[0mf\u001b[0m\u001b[0;34m,\u001b[0m \u001b[0;34m**\u001b[0m\u001b[0mpickle_load_args\u001b[0m\u001b[0;34m)\u001b[0m\u001b[0;34m\u001b[0m\u001b[0;34m\u001b[0m\u001b[0m\n\u001b[1;32m    771\u001b[0m     \u001b[0munpickler\u001b[0m\u001b[0;34m.\u001b[0m\u001b[0mpersistent_load\u001b[0m \u001b[0;34m=\u001b[0m \u001b[0mpersistent_load\u001b[0m\u001b[0;34m\u001b[0m\u001b[0;34m\u001b[0m\u001b[0m\n\u001b[0;32m--> 772\u001b[0;31m     \u001b[0mresult\u001b[0m \u001b[0;34m=\u001b[0m \u001b[0munpickler\u001b[0m\u001b[0;34m.\u001b[0m\u001b[0mload\u001b[0m\u001b[0;34m(\u001b[0m\u001b[0;34m)\u001b[0m\u001b[0;34m\u001b[0m\u001b[0;34m\u001b[0m\u001b[0m\n\u001b[0m\u001b[1;32m    773\u001b[0m \u001b[0;34m\u001b[0m\u001b[0m\n\u001b[1;32m    774\u001b[0m     \u001b[0mdeserialized_storage_keys\u001b[0m \u001b[0;34m=\u001b[0m \u001b[0mpickle_module\u001b[0m\u001b[0;34m.\u001b[0m\u001b[0mload\u001b[0m\u001b[0;34m(\u001b[0m\u001b[0mf\u001b[0m\u001b[0;34m,\u001b[0m \u001b[0;34m**\u001b[0m\u001b[0mpickle_load_args\u001b[0m\u001b[0;34m)\u001b[0m\u001b[0;34m\u001b[0m\u001b[0;34m\u001b[0m\u001b[0m\n",
      "\u001b[0;31mModuleNotFoundError\u001b[0m: No module named 'model'"
     ]
    }
   ],
   "source": [
    "display = CarDisplay(\n",
    "    car_images_path=\"../data/2011_09_26/2011_09_26_drive_0005_sync/image_02/data/\", \n",
    "    imu_sensor_path='../data/2011_09_26/2011_09_26_drive_0005_sync/oxts/data/',\n",
    "    lidar_sensor_path='../data/2011_09_26/2011_09_26_drive_0005_sync/velodyne_points/data/',\n",
    "    object_detection_model_path='../data/checkpoint_ssd300.pth.tar',\n",
    "    depth_detection_model_path='../data/model-f6b98070.pt',\n",
    "    verbose=True,\n",
    "    device=\"cpu\"\n",
    ")"
   ]
  },
  {
   "cell_type": "code",
   "execution_count": 3,
   "metadata": {},
   "outputs": [
    {
     "name": "stdout",
     "output_type": "stream",
     "text": [
      "Frame:0\n",
      "<PIL.Image.Image image mode=RGB size=1242x375 at 0x7FC59FE244C0>\n"
     ]
    },
    {
     "name": "stderr",
     "output_type": "stream",
     "text": [
      "/Users/maksimekineren/Desktop/Maksim/UMBC/Classes/Spring 2021/CMSC 611/Project/pyCarDisplay/examples/model.py:504: UserWarning: indexing with dtype torch.uint8 is now deprecated, please use a dtype torch.bool instead. (Triggered internally at  ../aten/src/ATen/native/IndexingUtils.h:30.)\n",
      "  image_boxes.append(class_decoded_locs[1 - suppress])\n",
      "/Users/maksimekineren/Desktop/Maksim/UMBC/Classes/Spring 2021/CMSC 611/Project/pyCarDisplay/examples/model.py:506: UserWarning: indexing with dtype torch.uint8 is now deprecated, please use a dtype torch.bool instead. (Triggered internally at  ../aten/src/ATen/native/IndexingUtils.h:30.)\n",
      "  image_scores.append(class_scores[1 - suppress])\n",
      "/Users/maksimekineren/Desktop/Maksim/UMBC/Classes/Spring 2021/CMSC 611/Project/pyCarDisplay/examples/model.py:504: UserWarning: indexing with dtype torch.uint8 is now deprecated, please use a dtype torch.bool instead. (Triggered internally at  ../aten/src/ATen/native/IndexingUtils.h:30.)\n",
      "  image_boxes.append(class_decoded_locs[1 - suppress])\n",
      "/Users/maksimekineren/Desktop/Maksim/UMBC/Classes/Spring 2021/CMSC 611/Project/pyCarDisplay/examples/model.py:506: UserWarning: indexing with dtype torch.uint8 is now deprecated, please use a dtype torch.bool instead. (Triggered internally at  ../aten/src/ATen/native/IndexingUtils.h:30.)\n",
      "  image_scores.append(class_scores[1 - suppress])\n",
      "/Users/maksimekineren/Desktop/Maksim/UMBC/Classes/Spring 2021/CMSC 611/Project/pyCarDisplay/examples/model.py:504: UserWarning: indexing with dtype torch.uint8 is now deprecated, please use a dtype torch.bool instead. (Triggered internally at  ../aten/src/ATen/native/IndexingUtils.h:30.)\n",
      "  image_boxes.append(class_decoded_locs[1 - suppress])\n",
      "/Users/maksimekineren/Desktop/Maksim/UMBC/Classes/Spring 2021/CMSC 611/Project/pyCarDisplay/examples/model.py:506: UserWarning: indexing with dtype torch.uint8 is now deprecated, please use a dtype torch.bool instead. (Triggered internally at  ../aten/src/ATen/native/IndexingUtils.h:30.)\n",
      "  image_scores.append(class_scores[1 - suppress])\n",
      "/Users/maksimekineren/Desktop/Maksim/UMBC/Classes/Spring 2021/CMSC 611/Project/pyCarDisplay/examples/model.py:504: UserWarning: indexing with dtype torch.uint8 is now deprecated, please use a dtype torch.bool instead. (Triggered internally at  ../aten/src/ATen/native/IndexingUtils.h:30.)\n",
      "  image_boxes.append(class_decoded_locs[1 - suppress])\n",
      "/Users/maksimekineren/Desktop/Maksim/UMBC/Classes/Spring 2021/CMSC 611/Project/pyCarDisplay/examples/model.py:506: UserWarning: indexing with dtype torch.uint8 is now deprecated, please use a dtype torch.bool instead. (Triggered internally at  ../aten/src/ATen/native/IndexingUtils.h:30.)\n",
      "  image_scores.append(class_scores[1 - suppress])\n"
     ]
    },
    {
     "name": "stdout",
     "output_type": "stream",
     "text": [
      "{'annotated_image': <PIL.Image.Image image mode=RGB size=1242x375 at 0x7FC59FE244C0>, 'box_info': {'text_size': [(42, 11), (18, 11), (18, 11), (36, 11), (36, 11)], 'box_location': [[892.24609375, 196.8868408203125, 970.1781616210938, 238.54507446289062], [294.5851745605469, 169.62484741210938, 453.1649169921875, 288.343994140625], [288.2861328125, 166.38729858398438, 456.9386901855469, 286.659912109375], [760.363525390625, 170.258544921875, 875.0740966796875, 366.2367248535156], [1106.48291015625, 173.97779846191406, 1212.439453125, 308.33612060546875]]}, 'detected': True}\n",
      "Object detected:5\n",
      "initialize\n",
      "start processing\n",
      "finished\n",
      "         lat      lon         alt      roll     pitch      yaw        vn  \\\n",
      "0  49.060562  8.40947  112.675006  0.132148 -0.015111 -1.59946 -5.516834   \n",
      "\n",
      "         ve      vf        vl  ...        wf        wl        wu  \\\n",
      "0  0.118331  5.6283  0.040295  ...  0.143443 -0.021073 -0.171299   \n",
      "\n",
      "   pos_accuracy  vel_accuracy   navstat   numsats  posmode   velmode   orimode  \n",
      "0      0.174803      0.006373  4.011092  4.884901  5.03757  4.939936 -0.029169  \n",
      "\n",
      "[1 rows x 30 columns]\n",
      "<class 'PIL.Image.Image'>\n"
     ]
    },
    {
     "name": "stderr",
     "output_type": "stream",
     "text": [
      "/opt/anaconda3/envs/pyCarDisplay/lib/python3.8/site-packages/pyCarDisplay-0.0.0-py3.8.egg/pyCarDisplay/car.py:201: RuntimeWarning: divide by zero encountered in log2\n",
      "  pil_depth_image = Image.fromarray(np.log2(out), 'RGBA')\n"
     ]
    },
    {
     "name": "stdout",
     "output_type": "stream",
     "text": [
      "* Error performing wm_overrideredirect *\n",
      "Frame:1\n",
      "<PIL.Image.Image image mode=RGB size=1242x375 at 0x7FC589998FA0>\n"
     ]
    },
    {
     "name": "stderr",
     "output_type": "stream",
     "text": [
      "/Users/maksimekineren/Desktop/Maksim/UMBC/Classes/Spring 2021/CMSC 611/Project/pyCarDisplay/examples/model.py:504: UserWarning: indexing with dtype torch.uint8 is now deprecated, please use a dtype torch.bool instead. (Triggered internally at  ../aten/src/ATen/native/IndexingUtils.h:30.)\n",
      "  image_boxes.append(class_decoded_locs[1 - suppress])\n",
      "/Users/maksimekineren/Desktop/Maksim/UMBC/Classes/Spring 2021/CMSC 611/Project/pyCarDisplay/examples/model.py:506: UserWarning: indexing with dtype torch.uint8 is now deprecated, please use a dtype torch.bool instead. (Triggered internally at  ../aten/src/ATen/native/IndexingUtils.h:30.)\n",
      "  image_scores.append(class_scores[1 - suppress])\n",
      "/Users/maksimekineren/Desktop/Maksim/UMBC/Classes/Spring 2021/CMSC 611/Project/pyCarDisplay/examples/model.py:504: UserWarning: indexing with dtype torch.uint8 is now deprecated, please use a dtype torch.bool instead. (Triggered internally at  ../aten/src/ATen/native/IndexingUtils.h:30.)\n",
      "  image_boxes.append(class_decoded_locs[1 - suppress])\n",
      "/Users/maksimekineren/Desktop/Maksim/UMBC/Classes/Spring 2021/CMSC 611/Project/pyCarDisplay/examples/model.py:506: UserWarning: indexing with dtype torch.uint8 is now deprecated, please use a dtype torch.bool instead. (Triggered internally at  ../aten/src/ATen/native/IndexingUtils.h:30.)\n",
      "  image_scores.append(class_scores[1 - suppress])\n",
      "/Users/maksimekineren/Desktop/Maksim/UMBC/Classes/Spring 2021/CMSC 611/Project/pyCarDisplay/examples/model.py:504: UserWarning: indexing with dtype torch.uint8 is now deprecated, please use a dtype torch.bool instead. (Triggered internally at  ../aten/src/ATen/native/IndexingUtils.h:30.)\n",
      "  image_boxes.append(class_decoded_locs[1 - suppress])\n",
      "/Users/maksimekineren/Desktop/Maksim/UMBC/Classes/Spring 2021/CMSC 611/Project/pyCarDisplay/examples/model.py:506: UserWarning: indexing with dtype torch.uint8 is now deprecated, please use a dtype torch.bool instead. (Triggered internally at  ../aten/src/ATen/native/IndexingUtils.h:30.)\n",
      "  image_scores.append(class_scores[1 - suppress])\n"
     ]
    },
    {
     "name": "stdout",
     "output_type": "stream",
     "text": [
      "{'annotated_image': <PIL.Image.Image image mode=RGB size=1242x375 at 0x7FC589998FA0>, 'box_info': {'text_size': [(18, 11), (18, 11), (36, 11), (36, 11)], 'box_location': [[289.3060302734375, 163.82252502441406, 446.6806640625, 252.49778747558594], [280.9062805175781, 163.46762084960938, 453.5759582519531, 280.08868408203125], [763.621826171875, 176.4943084716797, 882.5587158203125, 375.3251647949219], [1143.6676025390625, 168.74063110351562, 1232.2381591796875, 317.6826171875]]}, 'detected': True}\n",
      "Object detected:4\n",
      "initialize\n",
      "start processing\n",
      "finished\n",
      "         lat       lon         alt      roll     pitch       yaw        vn  \\\n",
      "0  48.950647  8.608514  112.628014 -0.065261  0.100117 -1.785179 -5.878924   \n",
      "\n",
      "         ve        vf        vl  ...        wf        wl        wu  \\\n",
      "0 -0.881915  5.805825  0.125328  ...  0.060073 -0.001713  0.032361   \n",
      "\n",
      "   pos_accuracy  vel_accuracy   navstat   numsats   posmode   velmode  \\\n",
      "0      0.384401      0.173107  4.093128  4.916078  4.969079  5.033126   \n",
      "\n",
      "    orimode  \n",
      "0  0.097555  \n",
      "\n",
      "[1 rows x 30 columns]\n",
      "<class 'PIL.Image.Image'>\n"
     ]
    },
    {
     "name": "stderr",
     "output_type": "stream",
     "text": [
      "/opt/anaconda3/envs/pyCarDisplay/lib/python3.8/site-packages/pyCarDisplay-0.0.0-py3.8.egg/pyCarDisplay/car.py:201: RuntimeWarning: divide by zero encountered in log2\n",
      "  pil_depth_image = Image.fromarray(np.log2(out), 'RGBA')\n"
     ]
    },
    {
     "name": "stdout",
     "output_type": "stream",
     "text": [
      "Frame:2\n",
      "<PIL.Image.Image image mode=RGB size=1242x375 at 0x7FC57E9EF9A0>\n"
     ]
    },
    {
     "name": "stderr",
     "output_type": "stream",
     "text": [
      "/Users/maksimekineren/Desktop/Maksim/UMBC/Classes/Spring 2021/CMSC 611/Project/pyCarDisplay/examples/model.py:504: UserWarning: indexing with dtype torch.uint8 is now deprecated, please use a dtype torch.bool instead. (Triggered internally at  ../aten/src/ATen/native/IndexingUtils.h:30.)\n",
      "  image_boxes.append(class_decoded_locs[1 - suppress])\n",
      "/Users/maksimekineren/Desktop/Maksim/UMBC/Classes/Spring 2021/CMSC 611/Project/pyCarDisplay/examples/model.py:506: UserWarning: indexing with dtype torch.uint8 is now deprecated, please use a dtype torch.bool instead. (Triggered internally at  ../aten/src/ATen/native/IndexingUtils.h:30.)\n",
      "  image_scores.append(class_scores[1 - suppress])\n",
      "/Users/maksimekineren/Desktop/Maksim/UMBC/Classes/Spring 2021/CMSC 611/Project/pyCarDisplay/examples/model.py:504: UserWarning: indexing with dtype torch.uint8 is now deprecated, please use a dtype torch.bool instead. (Triggered internally at  ../aten/src/ATen/native/IndexingUtils.h:30.)\n",
      "  image_boxes.append(class_decoded_locs[1 - suppress])\n",
      "/Users/maksimekineren/Desktop/Maksim/UMBC/Classes/Spring 2021/CMSC 611/Project/pyCarDisplay/examples/model.py:506: UserWarning: indexing with dtype torch.uint8 is now deprecated, please use a dtype torch.bool instead. (Triggered internally at  ../aten/src/ATen/native/IndexingUtils.h:30.)\n",
      "  image_scores.append(class_scores[1 - suppress])\n",
      "/Users/maksimekineren/Desktop/Maksim/UMBC/Classes/Spring 2021/CMSC 611/Project/pyCarDisplay/examples/model.py:504: UserWarning: indexing with dtype torch.uint8 is now deprecated, please use a dtype torch.bool instead. (Triggered internally at  ../aten/src/ATen/native/IndexingUtils.h:30.)\n",
      "  image_boxes.append(class_decoded_locs[1 - suppress])\n",
      "/Users/maksimekineren/Desktop/Maksim/UMBC/Classes/Spring 2021/CMSC 611/Project/pyCarDisplay/examples/model.py:506: UserWarning: indexing with dtype torch.uint8 is now deprecated, please use a dtype torch.bool instead. (Triggered internally at  ../aten/src/ATen/native/IndexingUtils.h:30.)\n",
      "  image_scores.append(class_scores[1 - suppress])\n",
      "/Users/maksimekineren/Desktop/Maksim/UMBC/Classes/Spring 2021/CMSC 611/Project/pyCarDisplay/examples/model.py:504: UserWarning: indexing with dtype torch.uint8 is now deprecated, please use a dtype torch.bool instead. (Triggered internally at  ../aten/src/ATen/native/IndexingUtils.h:30.)\n",
      "  image_boxes.append(class_decoded_locs[1 - suppress])\n",
      "/Users/maksimekineren/Desktop/Maksim/UMBC/Classes/Spring 2021/CMSC 611/Project/pyCarDisplay/examples/model.py:506: UserWarning: indexing with dtype torch.uint8 is now deprecated, please use a dtype torch.bool instead. (Triggered internally at  ../aten/src/ATen/native/IndexingUtils.h:30.)\n",
      "  image_scores.append(class_scores[1 - suppress])\n"
     ]
    },
    {
     "name": "stdout",
     "output_type": "stream",
     "text": [
      "{'annotated_image': <PIL.Image.Image image mode=RGB size=1242x375 at 0x7FC57E9EF9A0>, 'box_info': {'text_size': [(42, 11), (18, 11), (18, 11), (36, 11), (36, 11), (36, 11)], 'box_location': [[921.3182983398438, 192.76596069335938, 1012.5330810546875, 230.44898986816406], [294.2070617675781, 155.62521362304688, 444.9427795410156, 245.0885467529297], [286.5948486328125, 157.7025604248047, 452.3218078613281, 273.1286926269531], [768.4275512695312, 161.6808624267578, 884.482666015625, 363.55609130859375], [1148.417724609375, 151.27267456054688, 1237.04345703125, 311.939453125], [1162.583251953125, 149.22830200195312, 1232.189697265625, 248.34291076660156]]}, 'detected': True}\n",
      "Object detected:6\n",
      "initialize\n",
      "start processing\n",
      "finished\n",
      "         lat       lon         alt     roll    pitch       yaw        vn  \\\n",
      "0  48.963165  8.404494  112.790757 -0.09891  0.08876 -0.295183 -1.904717   \n",
      "\n",
      "         ve        vf        vl  ...        wf       wl        wu  \\\n",
      "0  3.820578  4.210281  0.072653  ... -0.028281  0.03696  0.279131   \n",
      "\n",
      "   pos_accuracy  vel_accuracy   navstat  numsats   posmode   velmode   orimode  \n",
      "0      0.382707     -0.053942  3.949824  7.09154  5.032875  4.947024  0.051327  \n",
      "\n",
      "[1 rows x 30 columns]\n",
      "<class 'PIL.Image.Image'>\n"
     ]
    },
    {
     "name": "stderr",
     "output_type": "stream",
     "text": [
      "/opt/anaconda3/envs/pyCarDisplay/lib/python3.8/site-packages/pyCarDisplay-0.0.0-py3.8.egg/pyCarDisplay/car.py:201: RuntimeWarning: divide by zero encountered in log2\n",
      "  pil_depth_image = Image.fromarray(np.log2(out), 'RGBA')\n"
     ]
    },
    {
     "name": "stdout",
     "output_type": "stream",
     "text": [
      "Frame:3\n",
      "<PIL.Image.Image image mode=RGB size=1242x375 at 0x7FC57E9E5820>\n"
     ]
    },
    {
     "name": "stderr",
     "output_type": "stream",
     "text": [
      "/Users/maksimekineren/Desktop/Maksim/UMBC/Classes/Spring 2021/CMSC 611/Project/pyCarDisplay/examples/model.py:504: UserWarning: indexing with dtype torch.uint8 is now deprecated, please use a dtype torch.bool instead. (Triggered internally at  ../aten/src/ATen/native/IndexingUtils.h:30.)\n",
      "  image_boxes.append(class_decoded_locs[1 - suppress])\n",
      "/Users/maksimekineren/Desktop/Maksim/UMBC/Classes/Spring 2021/CMSC 611/Project/pyCarDisplay/examples/model.py:506: UserWarning: indexing with dtype torch.uint8 is now deprecated, please use a dtype torch.bool instead. (Triggered internally at  ../aten/src/ATen/native/IndexingUtils.h:30.)\n",
      "  image_scores.append(class_scores[1 - suppress])\n",
      "/Users/maksimekineren/Desktop/Maksim/UMBC/Classes/Spring 2021/CMSC 611/Project/pyCarDisplay/examples/model.py:504: UserWarning: indexing with dtype torch.uint8 is now deprecated, please use a dtype torch.bool instead. (Triggered internally at  ../aten/src/ATen/native/IndexingUtils.h:30.)\n",
      "  image_boxes.append(class_decoded_locs[1 - suppress])\n",
      "/Users/maksimekineren/Desktop/Maksim/UMBC/Classes/Spring 2021/CMSC 611/Project/pyCarDisplay/examples/model.py:506: UserWarning: indexing with dtype torch.uint8 is now deprecated, please use a dtype torch.bool instead. (Triggered internally at  ../aten/src/ATen/native/IndexingUtils.h:30.)\n",
      "  image_scores.append(class_scores[1 - suppress])\n",
      "/Users/maksimekineren/Desktop/Maksim/UMBC/Classes/Spring 2021/CMSC 611/Project/pyCarDisplay/examples/model.py:504: UserWarning: indexing with dtype torch.uint8 is now deprecated, please use a dtype torch.bool instead. (Triggered internally at  ../aten/src/ATen/native/IndexingUtils.h:30.)\n",
      "  image_boxes.append(class_decoded_locs[1 - suppress])\n",
      "/Users/maksimekineren/Desktop/Maksim/UMBC/Classes/Spring 2021/CMSC 611/Project/pyCarDisplay/examples/model.py:506: UserWarning: indexing with dtype torch.uint8 is now deprecated, please use a dtype torch.bool instead. (Triggered internally at  ../aten/src/ATen/native/IndexingUtils.h:30.)\n",
      "  image_scores.append(class_scores[1 - suppress])\n",
      "/Users/maksimekineren/Desktop/Maksim/UMBC/Classes/Spring 2021/CMSC 611/Project/pyCarDisplay/examples/model.py:504: UserWarning: indexing with dtype torch.uint8 is now deprecated, please use a dtype torch.bool instead. (Triggered internally at  ../aten/src/ATen/native/IndexingUtils.h:30.)\n",
      "  image_boxes.append(class_decoded_locs[1 - suppress])\n",
      "/Users/maksimekineren/Desktop/Maksim/UMBC/Classes/Spring 2021/CMSC 611/Project/pyCarDisplay/examples/model.py:506: UserWarning: indexing with dtype torch.uint8 is now deprecated, please use a dtype torch.bool instead. (Triggered internally at  ../aten/src/ATen/native/IndexingUtils.h:30.)\n",
      "  image_scores.append(class_scores[1 - suppress])\n",
      "/Users/maksimekineren/Desktop/Maksim/UMBC/Classes/Spring 2021/CMSC 611/Project/pyCarDisplay/examples/model.py:504: UserWarning: indexing with dtype torch.uint8 is now deprecated, please use a dtype torch.bool instead. (Triggered internally at  ../aten/src/ATen/native/IndexingUtils.h:30.)\n",
      "  image_boxes.append(class_decoded_locs[1 - suppress])\n",
      "/Users/maksimekineren/Desktop/Maksim/UMBC/Classes/Spring 2021/CMSC 611/Project/pyCarDisplay/examples/model.py:506: UserWarning: indexing with dtype torch.uint8 is now deprecated, please use a dtype torch.bool instead. (Triggered internally at  ../aten/src/ATen/native/IndexingUtils.h:30.)\n",
      "  image_scores.append(class_scores[1 - suppress])\n"
     ]
    },
    {
     "name": "stdout",
     "output_type": "stream",
     "text": [
      "{'annotated_image': <PIL.Image.Image image mode=RGB size=1242x375 at 0x7FC57E9E5820>, 'box_info': {'text_size': [(42, 11), (18, 11), (18, 11), (36, 11), (54, 11)], 'box_location': [[938.112060546875, 189.531005859375, 1034.11083984375, 227.32217407226562], [289.6206970214844, 150.42433166503906, 443.8105163574219, 241.5897674560547], [278.3111572265625, 147.97543334960938, 443.3641662597656, 262.9638366699219], [763.4588012695312, 148.11033630371094, 885.7622680664062, 352.26904296875], [676.6868286132812, -2.0328125953674316, 749.2405395507812, 47.57102584838867]]}, 'detected': True}\n",
      "Object detected:5\n",
      "initialize\n",
      "start processing\n",
      "finished\n",
      "         lat       lon         alt      roll     pitch       yaw        vn  \\\n",
      "0  49.020816  8.519854  113.107689  0.004033 -0.036134 -0.826183 -2.760588   \n",
      "\n",
      "        ve        vf        vl  ...        wf        wl       wu  \\\n",
      "0  3.16011  4.193984  0.137046  ... -0.175921 -0.043417  0.17318   \n",
      "\n",
      "   pos_accuracy  vel_accuracy   navstat   numsats   posmode   velmode  \\\n",
      "0      0.696669      0.015419  4.030155  6.996529  4.883132  5.114282   \n",
      "\n",
      "    orimode  \n",
      "0  0.075193  \n",
      "\n",
      "[1 rows x 30 columns]\n",
      "<class 'PIL.Image.Image'>\n"
     ]
    },
    {
     "name": "stderr",
     "output_type": "stream",
     "text": [
      "/opt/anaconda3/envs/pyCarDisplay/lib/python3.8/site-packages/pyCarDisplay-0.0.0-py3.8.egg/pyCarDisplay/car.py:201: RuntimeWarning: divide by zero encountered in log2\n",
      "  pil_depth_image = Image.fromarray(np.log2(out), 'RGBA')\n"
     ]
    },
    {
     "name": "stdout",
     "output_type": "stream",
     "text": [
      "Frame:4\n",
      "<PIL.Image.Image image mode=RGB size=1242x375 at 0x7FC57E9E5C10>\n"
     ]
    },
    {
     "name": "stderr",
     "output_type": "stream",
     "text": [
      "/Users/maksimekineren/Desktop/Maksim/UMBC/Classes/Spring 2021/CMSC 611/Project/pyCarDisplay/examples/model.py:504: UserWarning: indexing with dtype torch.uint8 is now deprecated, please use a dtype torch.bool instead. (Triggered internally at  ../aten/src/ATen/native/IndexingUtils.h:30.)\n",
      "  image_boxes.append(class_decoded_locs[1 - suppress])\n",
      "/Users/maksimekineren/Desktop/Maksim/UMBC/Classes/Spring 2021/CMSC 611/Project/pyCarDisplay/examples/model.py:506: UserWarning: indexing with dtype torch.uint8 is now deprecated, please use a dtype torch.bool instead. (Triggered internally at  ../aten/src/ATen/native/IndexingUtils.h:30.)\n",
      "  image_scores.append(class_scores[1 - suppress])\n",
      "/Users/maksimekineren/Desktop/Maksim/UMBC/Classes/Spring 2021/CMSC 611/Project/pyCarDisplay/examples/model.py:504: UserWarning: indexing with dtype torch.uint8 is now deprecated, please use a dtype torch.bool instead. (Triggered internally at  ../aten/src/ATen/native/IndexingUtils.h:30.)\n",
      "  image_boxes.append(class_decoded_locs[1 - suppress])\n",
      "/Users/maksimekineren/Desktop/Maksim/UMBC/Classes/Spring 2021/CMSC 611/Project/pyCarDisplay/examples/model.py:506: UserWarning: indexing with dtype torch.uint8 is now deprecated, please use a dtype torch.bool instead. (Triggered internally at  ../aten/src/ATen/native/IndexingUtils.h:30.)\n",
      "  image_scores.append(class_scores[1 - suppress])\n",
      "/Users/maksimekineren/Desktop/Maksim/UMBC/Classes/Spring 2021/CMSC 611/Project/pyCarDisplay/examples/model.py:504: UserWarning: indexing with dtype torch.uint8 is now deprecated, please use a dtype torch.bool instead. (Triggered internally at  ../aten/src/ATen/native/IndexingUtils.h:30.)\n",
      "  image_boxes.append(class_decoded_locs[1 - suppress])\n",
      "/Users/maksimekineren/Desktop/Maksim/UMBC/Classes/Spring 2021/CMSC 611/Project/pyCarDisplay/examples/model.py:506: UserWarning: indexing with dtype torch.uint8 is now deprecated, please use a dtype torch.bool instead. (Triggered internally at  ../aten/src/ATen/native/IndexingUtils.h:30.)\n",
      "  image_scores.append(class_scores[1 - suppress])\n",
      "/Users/maksimekineren/Desktop/Maksim/UMBC/Classes/Spring 2021/CMSC 611/Project/pyCarDisplay/examples/model.py:504: UserWarning: indexing with dtype torch.uint8 is now deprecated, please use a dtype torch.bool instead. (Triggered internally at  ../aten/src/ATen/native/IndexingUtils.h:30.)\n",
      "  image_boxes.append(class_decoded_locs[1 - suppress])\n",
      "/Users/maksimekineren/Desktop/Maksim/UMBC/Classes/Spring 2021/CMSC 611/Project/pyCarDisplay/examples/model.py:506: UserWarning: indexing with dtype torch.uint8 is now deprecated, please use a dtype torch.bool instead. (Triggered internally at  ../aten/src/ATen/native/IndexingUtils.h:30.)\n",
      "  image_scores.append(class_scores[1 - suppress])\n",
      "/Users/maksimekineren/Desktop/Maksim/UMBC/Classes/Spring 2021/CMSC 611/Project/pyCarDisplay/examples/model.py:504: UserWarning: indexing with dtype torch.uint8 is now deprecated, please use a dtype torch.bool instead. (Triggered internally at  ../aten/src/ATen/native/IndexingUtils.h:30.)\n",
      "  image_boxes.append(class_decoded_locs[1 - suppress])\n",
      "/Users/maksimekineren/Desktop/Maksim/UMBC/Classes/Spring 2021/CMSC 611/Project/pyCarDisplay/examples/model.py:506: UserWarning: indexing with dtype torch.uint8 is now deprecated, please use a dtype torch.bool instead. (Triggered internally at  ../aten/src/ATen/native/IndexingUtils.h:30.)\n",
      "  image_scores.append(class_scores[1 - suppress])\n"
     ]
    },
    {
     "name": "stdout",
     "output_type": "stream",
     "text": [
      "{'annotated_image': <PIL.Image.Image image mode=RGB size=1242x375 at 0x7FC57E9E5C10>, 'box_info': {'text_size': [(42, 11), (18, 11), (18, 11), (18, 11), (36, 11), (54, 11)], 'box_location': [[951.81396484375, 188.56295776367188, 1056.1173095703125, 229.19305419921875], [289.497314453125, 151.14852905273438, 443.397705078125, 241.52047729492188], [272.82611083984375, 147.7718505859375, 435.4498291015625, 260.3559875488281], [18.342439651489258, 165.3608856201172, 162.41964721679688, 287.1221008300781], [760.5579223632812, 147.47215270996094, 889.6649169921875, 359.2777099609375], [690.1182861328125, -1.5356498956680298, 773.26953125, 44.7872314453125]]}, 'detected': True}\n",
      "Object detected:6\n",
      "initialize\n",
      "start processing\n",
      "finished\n",
      "         lat       lon         alt      roll     pitch       yaw       vn  \\\n",
      "0  49.090119  8.332304  112.937277 -0.136557  0.065387 -0.758955 -3.83771   \n",
      "\n",
      "         ve        vf        vl  ...        wf        wl        wu  \\\n",
      "0  2.560006  4.573669 -0.070669  ... -0.009732  0.140531 -0.398199   \n",
      "\n",
      "   pos_accuracy  vel_accuracy   navstat   numsats   posmode   velmode  \\\n",
      "0      0.329103      0.064886  4.078182  8.876305  3.867954  4.052194   \n",
      "\n",
      "    orimode  \n",
      "0  0.029698  \n",
      "\n",
      "[1 rows x 30 columns]\n",
      "<class 'PIL.Image.Image'>\n"
     ]
    },
    {
     "name": "stderr",
     "output_type": "stream",
     "text": [
      "/opt/anaconda3/envs/pyCarDisplay/lib/python3.8/site-packages/pyCarDisplay-0.0.0-py3.8.egg/pyCarDisplay/car.py:201: RuntimeWarning: divide by zero encountered in log2\n",
      "  pil_depth_image = Image.fromarray(np.log2(out), 'RGBA')\n"
     ]
    },
    {
     "name": "stdout",
     "output_type": "stream",
     "text": [
      "Frame:5\n",
      "<PIL.Image.Image image mode=RGB size=1242x375 at 0x7FC57E9E5730>\n"
     ]
    },
    {
     "name": "stderr",
     "output_type": "stream",
     "text": [
      "/Users/maksimekineren/Desktop/Maksim/UMBC/Classes/Spring 2021/CMSC 611/Project/pyCarDisplay/examples/model.py:504: UserWarning: indexing with dtype torch.uint8 is now deprecated, please use a dtype torch.bool instead. (Triggered internally at  ../aten/src/ATen/native/IndexingUtils.h:30.)\n",
      "  image_boxes.append(class_decoded_locs[1 - suppress])\n",
      "/Users/maksimekineren/Desktop/Maksim/UMBC/Classes/Spring 2021/CMSC 611/Project/pyCarDisplay/examples/model.py:506: UserWarning: indexing with dtype torch.uint8 is now deprecated, please use a dtype torch.bool instead. (Triggered internally at  ../aten/src/ATen/native/IndexingUtils.h:30.)\n",
      "  image_scores.append(class_scores[1 - suppress])\n",
      "/Users/maksimekineren/Desktop/Maksim/UMBC/Classes/Spring 2021/CMSC 611/Project/pyCarDisplay/examples/model.py:504: UserWarning: indexing with dtype torch.uint8 is now deprecated, please use a dtype torch.bool instead. (Triggered internally at  ../aten/src/ATen/native/IndexingUtils.h:30.)\n",
      "  image_boxes.append(class_decoded_locs[1 - suppress])\n",
      "/Users/maksimekineren/Desktop/Maksim/UMBC/Classes/Spring 2021/CMSC 611/Project/pyCarDisplay/examples/model.py:506: UserWarning: indexing with dtype torch.uint8 is now deprecated, please use a dtype torch.bool instead. (Triggered internally at  ../aten/src/ATen/native/IndexingUtils.h:30.)\n",
      "  image_scores.append(class_scores[1 - suppress])\n",
      "/Users/maksimekineren/Desktop/Maksim/UMBC/Classes/Spring 2021/CMSC 611/Project/pyCarDisplay/examples/model.py:504: UserWarning: indexing with dtype torch.uint8 is now deprecated, please use a dtype torch.bool instead. (Triggered internally at  ../aten/src/ATen/native/IndexingUtils.h:30.)\n",
      "  image_boxes.append(class_decoded_locs[1 - suppress])\n",
      "/Users/maksimekineren/Desktop/Maksim/UMBC/Classes/Spring 2021/CMSC 611/Project/pyCarDisplay/examples/model.py:506: UserWarning: indexing with dtype torch.uint8 is now deprecated, please use a dtype torch.bool instead. (Triggered internally at  ../aten/src/ATen/native/IndexingUtils.h:30.)\n",
      "  image_scores.append(class_scores[1 - suppress])\n",
      "/Users/maksimekineren/Desktop/Maksim/UMBC/Classes/Spring 2021/CMSC 611/Project/pyCarDisplay/examples/model.py:504: UserWarning: indexing with dtype torch.uint8 is now deprecated, please use a dtype torch.bool instead. (Triggered internally at  ../aten/src/ATen/native/IndexingUtils.h:30.)\n",
      "  image_boxes.append(class_decoded_locs[1 - suppress])\n",
      "/Users/maksimekineren/Desktop/Maksim/UMBC/Classes/Spring 2021/CMSC 611/Project/pyCarDisplay/examples/model.py:506: UserWarning: indexing with dtype torch.uint8 is now deprecated, please use a dtype torch.bool instead. (Triggered internally at  ../aten/src/ATen/native/IndexingUtils.h:30.)\n",
      "  image_scores.append(class_scores[1 - suppress])\n",
      "/Users/maksimekineren/Desktop/Maksim/UMBC/Classes/Spring 2021/CMSC 611/Project/pyCarDisplay/examples/model.py:504: UserWarning: indexing with dtype torch.uint8 is now deprecated, please use a dtype torch.bool instead. (Triggered internally at  ../aten/src/ATen/native/IndexingUtils.h:30.)\n",
      "  image_boxes.append(class_decoded_locs[1 - suppress])\n",
      "/Users/maksimekineren/Desktop/Maksim/UMBC/Classes/Spring 2021/CMSC 611/Project/pyCarDisplay/examples/model.py:506: UserWarning: indexing with dtype torch.uint8 is now deprecated, please use a dtype torch.bool instead. (Triggered internally at  ../aten/src/ATen/native/IndexingUtils.h:30.)\n",
      "  image_scores.append(class_scores[1 - suppress])\n"
     ]
    },
    {
     "name": "stdout",
     "output_type": "stream",
     "text": [
      "{'annotated_image': <PIL.Image.Image image mode=RGB size=1242x375 at 0x7FC57E9E5730>, 'box_info': {'text_size': [(42, 11), (18, 11), (18, 11), (36, 11), (54, 11)], 'box_location': [[977.1956176757812, 190.68992614746094, 1078.5345458984375, 234.39236450195312], [278.8703308105469, 152.44680786132812, 433.2625427246094, 230.3033905029297], [278.5091552734375, 151.5911865234375, 434.9024658203125, 260.2102966308594], [759.5833129882812, 153.4132843017578, 891.4557495117188, 360.26953125], [698.676025390625, -1.8224645853042603, 784.5172119140625, 44.080753326416016]]}, 'detected': True}\n",
      "Object detected:5\n",
      "initialize\n",
      "start processing\n",
      "finished\n",
      "         lat      lon         alt      roll     pitch       yaw       vn  \\\n",
      "0  49.036102  8.45783  112.732367  0.028785  0.029292 -0.695528 -2.06107   \n",
      "\n",
      "        ve        vf        vl  ...        wf        wl        wu  \\\n",
      "0  3.26138  3.803096  0.063002  ... -0.094025 -0.095677 -0.238611   \n",
      "\n",
      "   pos_accuracy  vel_accuracy   navstat  numsats   posmode   velmode   orimode  \n",
      "0      0.373805      0.060911  4.082718   4.0013  5.145353  3.973534  0.272017  \n",
      "\n",
      "[1 rows x 30 columns]\n",
      "<class 'PIL.Image.Image'>\n"
     ]
    },
    {
     "name": "stderr",
     "output_type": "stream",
     "text": [
      "/opt/anaconda3/envs/pyCarDisplay/lib/python3.8/site-packages/pyCarDisplay-0.0.0-py3.8.egg/pyCarDisplay/car.py:201: RuntimeWarning: divide by zero encountered in log2\n",
      "  pil_depth_image = Image.fromarray(np.log2(out), 'RGBA')\n"
     ]
    },
    {
     "name": "stdout",
     "output_type": "stream",
     "text": [
      "Frame:6\n",
      "<PIL.Image.Image image mode=RGB size=1242x375 at 0x7FC57E9E5820>\n"
     ]
    },
    {
     "name": "stderr",
     "output_type": "stream",
     "text": [
      "/Users/maksimekineren/Desktop/Maksim/UMBC/Classes/Spring 2021/CMSC 611/Project/pyCarDisplay/examples/model.py:504: UserWarning: indexing with dtype torch.uint8 is now deprecated, please use a dtype torch.bool instead. (Triggered internally at  ../aten/src/ATen/native/IndexingUtils.h:30.)\n",
      "  image_boxes.append(class_decoded_locs[1 - suppress])\n",
      "/Users/maksimekineren/Desktop/Maksim/UMBC/Classes/Spring 2021/CMSC 611/Project/pyCarDisplay/examples/model.py:506: UserWarning: indexing with dtype torch.uint8 is now deprecated, please use a dtype torch.bool instead. (Triggered internally at  ../aten/src/ATen/native/IndexingUtils.h:30.)\n",
      "  image_scores.append(class_scores[1 - suppress])\n",
      "/Users/maksimekineren/Desktop/Maksim/UMBC/Classes/Spring 2021/CMSC 611/Project/pyCarDisplay/examples/model.py:504: UserWarning: indexing with dtype torch.uint8 is now deprecated, please use a dtype torch.bool instead. (Triggered internally at  ../aten/src/ATen/native/IndexingUtils.h:30.)\n",
      "  image_boxes.append(class_decoded_locs[1 - suppress])\n",
      "/Users/maksimekineren/Desktop/Maksim/UMBC/Classes/Spring 2021/CMSC 611/Project/pyCarDisplay/examples/model.py:506: UserWarning: indexing with dtype torch.uint8 is now deprecated, please use a dtype torch.bool instead. (Triggered internally at  ../aten/src/ATen/native/IndexingUtils.h:30.)\n",
      "  image_scores.append(class_scores[1 - suppress])\n",
      "/Users/maksimekineren/Desktop/Maksim/UMBC/Classes/Spring 2021/CMSC 611/Project/pyCarDisplay/examples/model.py:504: UserWarning: indexing with dtype torch.uint8 is now deprecated, please use a dtype torch.bool instead. (Triggered internally at  ../aten/src/ATen/native/IndexingUtils.h:30.)\n",
      "  image_boxes.append(class_decoded_locs[1 - suppress])\n",
      "/Users/maksimekineren/Desktop/Maksim/UMBC/Classes/Spring 2021/CMSC 611/Project/pyCarDisplay/examples/model.py:506: UserWarning: indexing with dtype torch.uint8 is now deprecated, please use a dtype torch.bool instead. (Triggered internally at  ../aten/src/ATen/native/IndexingUtils.h:30.)\n",
      "  image_scores.append(class_scores[1 - suppress])\n",
      "/Users/maksimekineren/Desktop/Maksim/UMBC/Classes/Spring 2021/CMSC 611/Project/pyCarDisplay/examples/model.py:504: UserWarning: indexing with dtype torch.uint8 is now deprecated, please use a dtype torch.bool instead. (Triggered internally at  ../aten/src/ATen/native/IndexingUtils.h:30.)\n",
      "  image_boxes.append(class_decoded_locs[1 - suppress])\n",
      "/Users/maksimekineren/Desktop/Maksim/UMBC/Classes/Spring 2021/CMSC 611/Project/pyCarDisplay/examples/model.py:506: UserWarning: indexing with dtype torch.uint8 is now deprecated, please use a dtype torch.bool instead. (Triggered internally at  ../aten/src/ATen/native/IndexingUtils.h:30.)\n",
      "  image_scores.append(class_scores[1 - suppress])\n",
      "/Users/maksimekineren/Desktop/Maksim/UMBC/Classes/Spring 2021/CMSC 611/Project/pyCarDisplay/examples/model.py:504: UserWarning: indexing with dtype torch.uint8 is now deprecated, please use a dtype torch.bool instead. (Triggered internally at  ../aten/src/ATen/native/IndexingUtils.h:30.)\n",
      "  image_boxes.append(class_decoded_locs[1 - suppress])\n",
      "/Users/maksimekineren/Desktop/Maksim/UMBC/Classes/Spring 2021/CMSC 611/Project/pyCarDisplay/examples/model.py:506: UserWarning: indexing with dtype torch.uint8 is now deprecated, please use a dtype torch.bool instead. (Triggered internally at  ../aten/src/ATen/native/IndexingUtils.h:30.)\n",
      "  image_scores.append(class_scores[1 - suppress])\n"
     ]
    },
    {
     "name": "stdout",
     "output_type": "stream",
     "text": [
      "{'annotated_image': <PIL.Image.Image image mode=RGB size=1242x375 at 0x7FC57E9E5820>, 'box_info': {'text_size': [(42, 11), (18, 11), (18, 11), (36, 11), (54, 11)], 'box_location': [[1002.32861328125, 187.5719451904297, 1108.8892822265625, 237.76779174804688], [285.5977783203125, 153.8409423828125, 432.0227966308594, 240.1915283203125], [286.2738037109375, 153.337646484375, 427.475830078125, 260.1820068359375], [763.423583984375, 153.89466857910156, 893.2843017578125, 351.0213928222656], [713.1295166015625, -3.013853073120117, 802.472412109375, 44.10640335083008]]}, 'detected': True}\n",
      "Object detected:5\n",
      "initialize\n",
      "start processing\n",
      "finished\n",
      "         lat       lon         alt      roll     pitch      yaw        vn  \\\n",
      "0  49.073621  8.337465  112.691121  0.054687 -0.021031 -0.52916 -2.127031   \n",
      "\n",
      "         ve        vf        vl  ...        wf        wl        wu  \\\n",
      "0  3.229259  3.814652 -0.137116  ...  0.039488  0.046234 -0.113428   \n",
      "\n",
      "   pos_accuracy  vel_accuracy   navstat   numsats   posmode   velmode  \\\n",
      "0       0.44507     -0.104525  3.906217  4.051504  5.051379  4.051505   \n",
      "\n",
      "    orimode  \n",
      "0  0.385273  \n",
      "\n",
      "[1 rows x 30 columns]\n",
      "<class 'PIL.Image.Image'>\n"
     ]
    },
    {
     "name": "stderr",
     "output_type": "stream",
     "text": [
      "/opt/anaconda3/envs/pyCarDisplay/lib/python3.8/site-packages/pyCarDisplay-0.0.0-py3.8.egg/pyCarDisplay/car.py:201: RuntimeWarning: divide by zero encountered in log2\n",
      "  pil_depth_image = Image.fromarray(np.log2(out), 'RGBA')\n"
     ]
    },
    {
     "name": "stdout",
     "output_type": "stream",
     "text": [
      "Frame:7\n",
      "<PIL.Image.Image image mode=RGB size=1242x375 at 0x7FC57E9E58E0>\n"
     ]
    },
    {
     "name": "stderr",
     "output_type": "stream",
     "text": [
      "/Users/maksimekineren/Desktop/Maksim/UMBC/Classes/Spring 2021/CMSC 611/Project/pyCarDisplay/examples/model.py:504: UserWarning: indexing with dtype torch.uint8 is now deprecated, please use a dtype torch.bool instead. (Triggered internally at  ../aten/src/ATen/native/IndexingUtils.h:30.)\n",
      "  image_boxes.append(class_decoded_locs[1 - suppress])\n",
      "/Users/maksimekineren/Desktop/Maksim/UMBC/Classes/Spring 2021/CMSC 611/Project/pyCarDisplay/examples/model.py:506: UserWarning: indexing with dtype torch.uint8 is now deprecated, please use a dtype torch.bool instead. (Triggered internally at  ../aten/src/ATen/native/IndexingUtils.h:30.)\n",
      "  image_scores.append(class_scores[1 - suppress])\n",
      "/Users/maksimekineren/Desktop/Maksim/UMBC/Classes/Spring 2021/CMSC 611/Project/pyCarDisplay/examples/model.py:504: UserWarning: indexing with dtype torch.uint8 is now deprecated, please use a dtype torch.bool instead. (Triggered internally at  ../aten/src/ATen/native/IndexingUtils.h:30.)\n",
      "  image_boxes.append(class_decoded_locs[1 - suppress])\n",
      "/Users/maksimekineren/Desktop/Maksim/UMBC/Classes/Spring 2021/CMSC 611/Project/pyCarDisplay/examples/model.py:506: UserWarning: indexing with dtype torch.uint8 is now deprecated, please use a dtype torch.bool instead. (Triggered internally at  ../aten/src/ATen/native/IndexingUtils.h:30.)\n",
      "  image_scores.append(class_scores[1 - suppress])\n",
      "/Users/maksimekineren/Desktop/Maksim/UMBC/Classes/Spring 2021/CMSC 611/Project/pyCarDisplay/examples/model.py:504: UserWarning: indexing with dtype torch.uint8 is now deprecated, please use a dtype torch.bool instead. (Triggered internally at  ../aten/src/ATen/native/IndexingUtils.h:30.)\n",
      "  image_boxes.append(class_decoded_locs[1 - suppress])\n",
      "/Users/maksimekineren/Desktop/Maksim/UMBC/Classes/Spring 2021/CMSC 611/Project/pyCarDisplay/examples/model.py:506: UserWarning: indexing with dtype torch.uint8 is now deprecated, please use a dtype torch.bool instead. (Triggered internally at  ../aten/src/ATen/native/IndexingUtils.h:30.)\n",
      "  image_scores.append(class_scores[1 - suppress])\n",
      "/Users/maksimekineren/Desktop/Maksim/UMBC/Classes/Spring 2021/CMSC 611/Project/pyCarDisplay/examples/model.py:504: UserWarning: indexing with dtype torch.uint8 is now deprecated, please use a dtype torch.bool instead. (Triggered internally at  ../aten/src/ATen/native/IndexingUtils.h:30.)\n",
      "  image_boxes.append(class_decoded_locs[1 - suppress])\n",
      "/Users/maksimekineren/Desktop/Maksim/UMBC/Classes/Spring 2021/CMSC 611/Project/pyCarDisplay/examples/model.py:506: UserWarning: indexing with dtype torch.uint8 is now deprecated, please use a dtype torch.bool instead. (Triggered internally at  ../aten/src/ATen/native/IndexingUtils.h:30.)\n",
      "  image_scores.append(class_scores[1 - suppress])\n",
      "/Users/maksimekineren/Desktop/Maksim/UMBC/Classes/Spring 2021/CMSC 611/Project/pyCarDisplay/examples/model.py:504: UserWarning: indexing with dtype torch.uint8 is now deprecated, please use a dtype torch.bool instead. (Triggered internally at  ../aten/src/ATen/native/IndexingUtils.h:30.)\n",
      "  image_boxes.append(class_decoded_locs[1 - suppress])\n",
      "/Users/maksimekineren/Desktop/Maksim/UMBC/Classes/Spring 2021/CMSC 611/Project/pyCarDisplay/examples/model.py:506: UserWarning: indexing with dtype torch.uint8 is now deprecated, please use a dtype torch.bool instead. (Triggered internally at  ../aten/src/ATen/native/IndexingUtils.h:30.)\n",
      "  image_scores.append(class_scores[1 - suppress])\n"
     ]
    },
    {
     "name": "stdout",
     "output_type": "stream",
     "text": [
      "{'annotated_image': <PIL.Image.Image image mode=RGB size=1242x375 at 0x7FC57E9E58E0>, 'box_info': {'text_size': [(42, 11), (18, 11), (18, 11), (36, 11), (54, 11)], 'box_location': [[1009.2317504882812, 187.78306579589844, 1138.71728515625, 240.963623046875], [282.5703125, 154.13357543945312, 430.70916748046875, 238.41946411132812], [283.4414367675781, 155.00732421875, 428.5392761230469, 259.7813415527344], [768.6834716796875, 161.747802734375, 894.1229248046875, 317.6309814453125], [722.1403198242188, -3.587848424911499, 813.2288208007812, 43.130332946777344]]}, 'detected': True}\n",
      "Object detected:5\n",
      "initialize\n",
      "start processing\n",
      "finished\n",
      "         lat       lon         alt      roll     pitch       yaw        vn  \\\n",
      "0  49.068108  8.536796  112.898447  0.072559 -0.025874 -0.875801 -3.710997   \n",
      "\n",
      "         ve        vf        vl  ...        wf      wl        wu  \\\n",
      "0  2.644294  4.459855  0.003988  ... -0.088636  0.0416 -0.232487   \n",
      "\n",
      "   pos_accuracy  vel_accuracy   navstat   numsats   posmode   velmode  \\\n",
      "0       0.24548      0.253292  4.063392  8.797486  4.018645  3.933821   \n",
      "\n",
      "    orimode  \n",
      "0  0.085243  \n",
      "\n",
      "[1 rows x 30 columns]\n",
      "<class 'PIL.Image.Image'>\n"
     ]
    },
    {
     "name": "stderr",
     "output_type": "stream",
     "text": [
      "/opt/anaconda3/envs/pyCarDisplay/lib/python3.8/site-packages/pyCarDisplay-0.0.0-py3.8.egg/pyCarDisplay/car.py:201: RuntimeWarning: divide by zero encountered in log2\n",
      "  pil_depth_image = Image.fromarray(np.log2(out), 'RGBA')\n"
     ]
    },
    {
     "name": "stdout",
     "output_type": "stream",
     "text": [
      "Frame:8\n",
      "<PIL.Image.Image image mode=RGB size=1242x375 at 0x7FC57E9E5670>\n"
     ]
    },
    {
     "name": "stderr",
     "output_type": "stream",
     "text": [
      "/Users/maksimekineren/Desktop/Maksim/UMBC/Classes/Spring 2021/CMSC 611/Project/pyCarDisplay/examples/model.py:504: UserWarning: indexing with dtype torch.uint8 is now deprecated, please use a dtype torch.bool instead. (Triggered internally at  ../aten/src/ATen/native/IndexingUtils.h:30.)\n",
      "  image_boxes.append(class_decoded_locs[1 - suppress])\n",
      "/Users/maksimekineren/Desktop/Maksim/UMBC/Classes/Spring 2021/CMSC 611/Project/pyCarDisplay/examples/model.py:506: UserWarning: indexing with dtype torch.uint8 is now deprecated, please use a dtype torch.bool instead. (Triggered internally at  ../aten/src/ATen/native/IndexingUtils.h:30.)\n",
      "  image_scores.append(class_scores[1 - suppress])\n",
      "/Users/maksimekineren/Desktop/Maksim/UMBC/Classes/Spring 2021/CMSC 611/Project/pyCarDisplay/examples/model.py:504: UserWarning: indexing with dtype torch.uint8 is now deprecated, please use a dtype torch.bool instead. (Triggered internally at  ../aten/src/ATen/native/IndexingUtils.h:30.)\n",
      "  image_boxes.append(class_decoded_locs[1 - suppress])\n",
      "/Users/maksimekineren/Desktop/Maksim/UMBC/Classes/Spring 2021/CMSC 611/Project/pyCarDisplay/examples/model.py:506: UserWarning: indexing with dtype torch.uint8 is now deprecated, please use a dtype torch.bool instead. (Triggered internally at  ../aten/src/ATen/native/IndexingUtils.h:30.)\n",
      "  image_scores.append(class_scores[1 - suppress])\n",
      "/Users/maksimekineren/Desktop/Maksim/UMBC/Classes/Spring 2021/CMSC 611/Project/pyCarDisplay/examples/model.py:504: UserWarning: indexing with dtype torch.uint8 is now deprecated, please use a dtype torch.bool instead. (Triggered internally at  ../aten/src/ATen/native/IndexingUtils.h:30.)\n",
      "  image_boxes.append(class_decoded_locs[1 - suppress])\n",
      "/Users/maksimekineren/Desktop/Maksim/UMBC/Classes/Spring 2021/CMSC 611/Project/pyCarDisplay/examples/model.py:506: UserWarning: indexing with dtype torch.uint8 is now deprecated, please use a dtype torch.bool instead. (Triggered internally at  ../aten/src/ATen/native/IndexingUtils.h:30.)\n",
      "  image_scores.append(class_scores[1 - suppress])\n",
      "/Users/maksimekineren/Desktop/Maksim/UMBC/Classes/Spring 2021/CMSC 611/Project/pyCarDisplay/examples/model.py:504: UserWarning: indexing with dtype torch.uint8 is now deprecated, please use a dtype torch.bool instead. (Triggered internally at  ../aten/src/ATen/native/IndexingUtils.h:30.)\n",
      "  image_boxes.append(class_decoded_locs[1 - suppress])\n",
      "/Users/maksimekineren/Desktop/Maksim/UMBC/Classes/Spring 2021/CMSC 611/Project/pyCarDisplay/examples/model.py:506: UserWarning: indexing with dtype torch.uint8 is now deprecated, please use a dtype torch.bool instead. (Triggered internally at  ../aten/src/ATen/native/IndexingUtils.h:30.)\n",
      "  image_scores.append(class_scores[1 - suppress])\n",
      "/Users/maksimekineren/Desktop/Maksim/UMBC/Classes/Spring 2021/CMSC 611/Project/pyCarDisplay/examples/model.py:504: UserWarning: indexing with dtype torch.uint8 is now deprecated, please use a dtype torch.bool instead. (Triggered internally at  ../aten/src/ATen/native/IndexingUtils.h:30.)\n",
      "  image_boxes.append(class_decoded_locs[1 - suppress])\n",
      "/Users/maksimekineren/Desktop/Maksim/UMBC/Classes/Spring 2021/CMSC 611/Project/pyCarDisplay/examples/model.py:506: UserWarning: indexing with dtype torch.uint8 is now deprecated, please use a dtype torch.bool instead. (Triggered internally at  ../aten/src/ATen/native/IndexingUtils.h:30.)\n",
      "  image_scores.append(class_scores[1 - suppress])\n"
     ]
    },
    {
     "name": "stdout",
     "output_type": "stream",
     "text": [
      "{'annotated_image': <PIL.Image.Image image mode=RGB size=1242x375 at 0x7FC57E9E5670>, 'box_info': {'text_size': [(42, 11), (42, 11), (18, 11), (18, 11), (36, 11), (36, 11), (54, 11)], 'box_location': [[1031.91357421875, 193.6081085205078, 1166.0203857421875, 246.529296875], [793.0128784179688, 194.916748046875, 931.8296508789062, 361.581298828125], [279.744873046875, 154.73550415039062, 430.79388427734375, 241.33941650390625], [276.5452575683594, 154.98573303222656, 428.139404296875, 262.2086486816406], [774.9210205078125, 164.08615112304688, 896.8515014648438, 346.46142578125], [8.834260940551758, 118.11408233642578, 77.34362030029297, 206.18377685546875], [733.7332153320312, -3.0080862045288086, 821.437744140625, 42.94817352294922]]}, 'detected': True}\n",
      "Object detected:7\n",
      "initialize\n",
      "start processing\n",
      "finished\n",
      "         lat      lon         alt      roll     pitch       yaw        vn  \\\n",
      "0  48.931854  8.41152  113.215339  0.118144 -0.119974 -0.696008 -2.789303   \n",
      "\n",
      "        ve        vf        vl  ...       wf       wl        wu  pos_accuracy  \\\n",
      "0  3.20671  4.444654  0.148129  ... -0.13348 -0.03275 -0.150384      0.347906   \n",
      "\n",
      "   vel_accuracy   navstat   numsats   posmode   velmode   orimode  \n",
      "0      0.009399  3.875222  7.163241  4.856986  4.955996  0.013074  \n",
      "\n",
      "[1 rows x 30 columns]\n",
      "<class 'PIL.Image.Image'>\n"
     ]
    },
    {
     "name": "stderr",
     "output_type": "stream",
     "text": [
      "/opt/anaconda3/envs/pyCarDisplay/lib/python3.8/site-packages/pyCarDisplay-0.0.0-py3.8.egg/pyCarDisplay/car.py:201: RuntimeWarning: divide by zero encountered in log2\n",
      "  pil_depth_image = Image.fromarray(np.log2(out), 'RGBA')\n"
     ]
    },
    {
     "name": "stdout",
     "output_type": "stream",
     "text": [
      "Frame:9\n",
      "<PIL.Image.Image image mode=RGB size=1242x375 at 0x7FC58999F550>\n"
     ]
    },
    {
     "name": "stderr",
     "output_type": "stream",
     "text": [
      "/Users/maksimekineren/Desktop/Maksim/UMBC/Classes/Spring 2021/CMSC 611/Project/pyCarDisplay/examples/model.py:504: UserWarning: indexing with dtype torch.uint8 is now deprecated, please use a dtype torch.bool instead. (Triggered internally at  ../aten/src/ATen/native/IndexingUtils.h:30.)\n",
      "  image_boxes.append(class_decoded_locs[1 - suppress])\n",
      "/Users/maksimekineren/Desktop/Maksim/UMBC/Classes/Spring 2021/CMSC 611/Project/pyCarDisplay/examples/model.py:506: UserWarning: indexing with dtype torch.uint8 is now deprecated, please use a dtype torch.bool instead. (Triggered internally at  ../aten/src/ATen/native/IndexingUtils.h:30.)\n",
      "  image_scores.append(class_scores[1 - suppress])\n",
      "/Users/maksimekineren/Desktop/Maksim/UMBC/Classes/Spring 2021/CMSC 611/Project/pyCarDisplay/examples/model.py:504: UserWarning: indexing with dtype torch.uint8 is now deprecated, please use a dtype torch.bool instead. (Triggered internally at  ../aten/src/ATen/native/IndexingUtils.h:30.)\n",
      "  image_boxes.append(class_decoded_locs[1 - suppress])\n",
      "/Users/maksimekineren/Desktop/Maksim/UMBC/Classes/Spring 2021/CMSC 611/Project/pyCarDisplay/examples/model.py:506: UserWarning: indexing with dtype torch.uint8 is now deprecated, please use a dtype torch.bool instead. (Triggered internally at  ../aten/src/ATen/native/IndexingUtils.h:30.)\n",
      "  image_scores.append(class_scores[1 - suppress])\n",
      "/Users/maksimekineren/Desktop/Maksim/UMBC/Classes/Spring 2021/CMSC 611/Project/pyCarDisplay/examples/model.py:504: UserWarning: indexing with dtype torch.uint8 is now deprecated, please use a dtype torch.bool instead. (Triggered internally at  ../aten/src/ATen/native/IndexingUtils.h:30.)\n",
      "  image_boxes.append(class_decoded_locs[1 - suppress])\n",
      "/Users/maksimekineren/Desktop/Maksim/UMBC/Classes/Spring 2021/CMSC 611/Project/pyCarDisplay/examples/model.py:506: UserWarning: indexing with dtype torch.uint8 is now deprecated, please use a dtype torch.bool instead. (Triggered internally at  ../aten/src/ATen/native/IndexingUtils.h:30.)\n",
      "  image_scores.append(class_scores[1 - suppress])\n",
      "/Users/maksimekineren/Desktop/Maksim/UMBC/Classes/Spring 2021/CMSC 611/Project/pyCarDisplay/examples/model.py:504: UserWarning: indexing with dtype torch.uint8 is now deprecated, please use a dtype torch.bool instead. (Triggered internally at  ../aten/src/ATen/native/IndexingUtils.h:30.)\n",
      "  image_boxes.append(class_decoded_locs[1 - suppress])\n",
      "/Users/maksimekineren/Desktop/Maksim/UMBC/Classes/Spring 2021/CMSC 611/Project/pyCarDisplay/examples/model.py:506: UserWarning: indexing with dtype torch.uint8 is now deprecated, please use a dtype torch.bool instead. (Triggered internally at  ../aten/src/ATen/native/IndexingUtils.h:30.)\n",
      "  image_scores.append(class_scores[1 - suppress])\n",
      "/Users/maksimekineren/Desktop/Maksim/UMBC/Classes/Spring 2021/CMSC 611/Project/pyCarDisplay/examples/model.py:504: UserWarning: indexing with dtype torch.uint8 is now deprecated, please use a dtype torch.bool instead. (Triggered internally at  ../aten/src/ATen/native/IndexingUtils.h:30.)\n",
      "  image_boxes.append(class_decoded_locs[1 - suppress])\n",
      "/Users/maksimekineren/Desktop/Maksim/UMBC/Classes/Spring 2021/CMSC 611/Project/pyCarDisplay/examples/model.py:506: UserWarning: indexing with dtype torch.uint8 is now deprecated, please use a dtype torch.bool instead. (Triggered internally at  ../aten/src/ATen/native/IndexingUtils.h:30.)\n",
      "  image_scores.append(class_scores[1 - suppress])\n"
     ]
    },
    {
     "name": "stdout",
     "output_type": "stream",
     "text": [
      "{'annotated_image': <PIL.Image.Image image mode=RGB size=1242x375 at 0x7FC58999F550>, 'box_info': {'text_size': [(42, 11), (42, 11), (18, 11), (18, 11), (36, 11), (36, 11), (54, 11)], 'box_location': [[1047.809326171875, 194.20846557617188, 1195.944091796875, 252.4747772216797], [792.86083984375, 198.89581298828125, 930.055908203125, 363.7127380371094], [282.39154052734375, 154.4657745361328, 424.721435546875, 238.63623046875], [281.4076232910156, 153.8101043701172, 421.56036376953125, 260.017578125], [776.0115356445312, 165.5829315185547, 894.4121704101562, 348.2322998046875], [10.567278861999512, 113.35256958007812, 82.85881042480469, 197.93661499023438], [749.7117309570312, -3.674661159515381, 843.0108642578125, 42.85517501831055]]}, 'detected': True}\n",
      "Object detected:7\n",
      "initialize\n",
      "start processing\n",
      "finished\n",
      "         lat       lon       alt      roll     pitch       yaw        vn  \\\n",
      "0  49.155208  8.279479  113.0036  0.021605 -0.090033 -0.372903 -1.812192   \n",
      "\n",
      "         ve        vf        vl  ...        wf        wl        wu  \\\n",
      "0  3.656378  4.148459  0.094168  ... -0.022643 -0.041565  0.061094   \n",
      "\n",
      "   pos_accuracy  vel_accuracy   navstat  numsats  posmode   velmode   orimode  \n",
      "0      0.519494      0.062609  3.930709  7.08996  5.03073  5.081286  0.062963  \n",
      "\n",
      "[1 rows x 30 columns]\n",
      "<class 'PIL.Image.Image'>\n"
     ]
    },
    {
     "name": "stderr",
     "output_type": "stream",
     "text": [
      "/opt/anaconda3/envs/pyCarDisplay/lib/python3.8/site-packages/pyCarDisplay-0.0.0-py3.8.egg/pyCarDisplay/car.py:201: RuntimeWarning: divide by zero encountered in log2\n",
      "  pil_depth_image = Image.fromarray(np.log2(out), 'RGBA')\n"
     ]
    },
    {
     "ename": "TclError",
     "evalue": "invalid command name \".!toplevel.!frame6.!entry\"",
     "output_type": "error",
     "traceback": [
      "\u001b[0;31m---------------------------------------------------------------------------\u001b[0m",
      "\u001b[0;31mTclError\u001b[0m                                  Traceback (most recent call last)",
      "\u001b[0;32m<ipython-input-3-d1d1871a40c6>\u001b[0m in \u001b[0;36m<module>\u001b[0;34m\u001b[0m\n\u001b[0;32m----> 1\u001b[0;31m \u001b[0mdisplay\u001b[0m\u001b[0;34m.\u001b[0m\u001b[0mstart\u001b[0m\u001b[0;34m(\u001b[0m\u001b[0mverbose\u001b[0m\u001b[0;34m=\u001b[0m\u001b[0;32mTrue\u001b[0m\u001b[0;34m)\u001b[0m\u001b[0;34m\u001b[0m\u001b[0;34m\u001b[0m\u001b[0m\n\u001b[0m",
      "\u001b[0;32m/opt/anaconda3/envs/pyCarDisplay/lib/python3.8/site-packages/pyCarDisplay-0.0.0-py3.8.egg/pyCarDisplay/pyCarDisplay.py\u001b[0m in \u001b[0;36mstart\u001b[0;34m(self, **parameters)\u001b[0m\n\u001b[1;32m     39\u001b[0m \u001b[0;34m\u001b[0m\u001b[0m\n\u001b[1;32m     40\u001b[0m         \u001b[0;31m# TODO: Perform any parameter/path checks here\u001b[0m\u001b[0;34m\u001b[0m\u001b[0;34m\u001b[0m\u001b[0;34m\u001b[0m\u001b[0m\n\u001b[0;32m---> 41\u001b[0;31m         \u001b[0mself\u001b[0m\u001b[0;34m.\u001b[0m\u001b[0mcar\u001b[0m\u001b[0;34m.\u001b[0m\u001b[0mrun\u001b[0m\u001b[0;34m(\u001b[0m\u001b[0;34m**\u001b[0m\u001b[0mparameters\u001b[0m\u001b[0;34m)\u001b[0m\u001b[0;34m\u001b[0m\u001b[0;34m\u001b[0m\u001b[0m\n\u001b[0m\u001b[1;32m     42\u001b[0m \u001b[0;34m\u001b[0m\u001b[0m\n\u001b[1;32m     43\u001b[0m     \u001b[0;32mdef\u001b[0m \u001b[0mget_params\u001b[0m\u001b[0;34m(\u001b[0m\u001b[0mself\u001b[0m\u001b[0;34m)\u001b[0m\u001b[0;34m:\u001b[0m\u001b[0;34m\u001b[0m\u001b[0;34m\u001b[0m\u001b[0m\n",
      "\u001b[0;32m/opt/anaconda3/envs/pyCarDisplay/lib/python3.8/site-packages/pyCarDisplay-0.0.0-py3.8.egg/pyCarDisplay/car.py\u001b[0m in \u001b[0;36mrun\u001b[0;34m(self, verbose)\u001b[0m\n\u001b[1;32m    242\u001b[0m             \"\"\"\n\u001b[1;32m    243\u001b[0m \u001b[0;34m\u001b[0m\u001b[0m\n\u001b[0;32m--> 244\u001b[0;31m             self.display_api.play(\n\u001b[0m\u001b[1;32m    245\u001b[0m                 \u001b[0mdetected_dictionary\u001b[0m\u001b[0;34m[\u001b[0m\u001b[0;34m\"annotated_image\"\u001b[0m\u001b[0;34m]\u001b[0m\u001b[0;34m,\u001b[0m\u001b[0;34m\u001b[0m\u001b[0;34m\u001b[0m\u001b[0m\n\u001b[1;32m    246\u001b[0m                 \u001b[0;31m#cropped_depth_images,\u001b[0m\u001b[0;34m\u001b[0m\u001b[0;34m\u001b[0m\u001b[0;34m\u001b[0m\u001b[0m\n",
      "\u001b[0;32m/opt/anaconda3/envs/pyCarDisplay/lib/python3.8/site-packages/pyCarDisplay-0.0.0-py3.8.egg/pyCarDisplay/utils/display_api.py\u001b[0m in \u001b[0;36mplay\u001b[0;34m(self, annotated_image, cropped_depth_images, imu_data, kalman_imu_data, frame, verbose)\u001b[0m\n\u001b[1;32m    233\u001b[0m \u001b[0;34m\u001b[0m\u001b[0m\n\u001b[1;32m    234\u001b[0m         \u001b[0;31m# current Speed and Kalman speed updated with api data\u001b[0m\u001b[0;34m\u001b[0m\u001b[0;34m\u001b[0m\u001b[0;34m\u001b[0m\u001b[0m\n\u001b[0;32m--> 235\u001b[0;31m         \u001b[0mself\u001b[0m\u001b[0;34m.\u001b[0m\u001b[0mgrid_update\u001b[0m\u001b[0;34m(\u001b[0m\u001b[0mimu_data\u001b[0m\u001b[0;34m,\u001b[0m \u001b[0mkalman_imu_data\u001b[0m\u001b[0;34m)\u001b[0m\u001b[0;34m\u001b[0m\u001b[0;34m\u001b[0m\u001b[0m\n\u001b[0m\u001b[1;32m    236\u001b[0m \u001b[0;34m\u001b[0m\u001b[0m\n\u001b[1;32m    237\u001b[0m         \u001b[0mself\u001b[0m\u001b[0;34m.\u001b[0m\u001b[0mprogress_bar\u001b[0m\u001b[0;34m.\u001b[0m\u001b[0mUpdateBar\u001b[0m\u001b[0;34m(\u001b[0m\u001b[0mframe\u001b[0m \u001b[0;34m+\u001b[0m \u001b[0;36m1\u001b[0m\u001b[0;34m)\u001b[0m\u001b[0;34m\u001b[0m\u001b[0;34m\u001b[0m\u001b[0m\n",
      "\u001b[0;32m/opt/anaconda3/envs/pyCarDisplay/lib/python3.8/site-packages/pyCarDisplay-0.0.0-py3.8.egg/pyCarDisplay/utils/display_api.py\u001b[0m in \u001b[0;36mgrid_update\u001b[0;34m(self, imu_data, kalman_imu_data)\u001b[0m\n\u001b[1;32m    122\u001b[0m \u001b[0;34m\u001b[0m\u001b[0m\n\u001b[1;32m    123\u001b[0m             \u001b[0;32mfor\u001b[0m \u001b[0mcol\u001b[0m\u001b[0;34m,\u001b[0m \u001b[0mentry\u001b[0m \u001b[0;32min\u001b[0m \u001b[0menumerate\u001b[0m\u001b[0;34m(\u001b[0m\u001b[0mlist\u001b[0m\u001b[0;34m(\u001b[0m\u001b[0mdf\u001b[0m\u001b[0;34m.\u001b[0m\u001b[0miloc\u001b[0m\u001b[0;34m[\u001b[0m\u001b[0;36m0\u001b[0m\u001b[0;34m]\u001b[0m\u001b[0;34m.\u001b[0m\u001b[0mvalues\u001b[0m\u001b[0;34m)\u001b[0m\u001b[0;34m)\u001b[0m\u001b[0;34m:\u001b[0m\u001b[0;34m\u001b[0m\u001b[0;34m\u001b[0m\u001b[0m\n\u001b[0;32m--> 124\u001b[0;31m                 \u001b[0mself\u001b[0m\u001b[0;34m.\u001b[0m\u001b[0mupdate_window\u001b[0m\u001b[0;34m(\u001b[0m\u001b[0mstr\u001b[0m\u001b[0;34m(\u001b[0m\u001b[0mrow\u001b[0m\u001b[0;34m)\u001b[0m \u001b[0;34m+\u001b[0m \u001b[0;34m\",\"\u001b[0m \u001b[0;34m+\u001b[0m \u001b[0mstr\u001b[0m\u001b[0;34m(\u001b[0m\u001b[0mcol\u001b[0m\u001b[0;34m)\u001b[0m\u001b[0;34m,\u001b[0m \u001b[0mround\u001b[0m\u001b[0;34m(\u001b[0m\u001b[0mentry\u001b[0m\u001b[0;34m,\u001b[0m\u001b[0;36m2\u001b[0m\u001b[0;34m)\u001b[0m\u001b[0;34m)\u001b[0m\u001b[0;34m\u001b[0m\u001b[0;34m\u001b[0m\u001b[0m\n\u001b[0m\u001b[1;32m    125\u001b[0m \u001b[0;34m\u001b[0m\u001b[0m\n\u001b[1;32m    126\u001b[0m \u001b[0;34m\u001b[0m\u001b[0m\n",
      "\u001b[0;32m/opt/anaconda3/envs/pyCarDisplay/lib/python3.8/site-packages/pyCarDisplay-0.0.0-py3.8.egg/pyCarDisplay/utils/display_api.py\u001b[0m in \u001b[0;36mupdate_window\u001b[0;34m(self, key, data1, data2)\u001b[0m\n\u001b[1;32m     75\u001b[0m             \u001b[0mself\u001b[0m\u001b[0;34m.\u001b[0m\u001b[0mwindow\u001b[0m\u001b[0;34m.\u001b[0m\u001b[0mFindElement\u001b[0m\u001b[0;34m(\u001b[0m\u001b[0mkey\u001b[0m\u001b[0;34m)\u001b[0m\u001b[0;34m.\u001b[0m\u001b[0mUpdate\u001b[0m\u001b[0;34m(\u001b[0m\u001b[0mdata\u001b[0m\u001b[0;34m=\u001b[0m\u001b[0mdata1\u001b[0m\u001b[0;34m,\u001b[0m \u001b[0msize\u001b[0m\u001b[0;34m=\u001b[0m\u001b[0mdata2\u001b[0m\u001b[0;34m)\u001b[0m\u001b[0;34m\u001b[0m\u001b[0;34m\u001b[0m\u001b[0m\n\u001b[1;32m     76\u001b[0m         \u001b[0;32melse\u001b[0m\u001b[0;34m:\u001b[0m\u001b[0;34m\u001b[0m\u001b[0;34m\u001b[0m\u001b[0m\n\u001b[0;32m---> 77\u001b[0;31m             \u001b[0mself\u001b[0m\u001b[0;34m.\u001b[0m\u001b[0mwindow\u001b[0m\u001b[0;34m.\u001b[0m\u001b[0mFindElement\u001b[0m\u001b[0;34m(\u001b[0m\u001b[0mkey\u001b[0m\u001b[0;34m)\u001b[0m\u001b[0;34m.\u001b[0m\u001b[0mUpdate\u001b[0m\u001b[0;34m(\u001b[0m\u001b[0mdata1\u001b[0m\u001b[0;34m)\u001b[0m\u001b[0;34m\u001b[0m\u001b[0;34m\u001b[0m\u001b[0m\n\u001b[0m\u001b[1;32m     78\u001b[0m \u001b[0;34m\u001b[0m\u001b[0m\n\u001b[1;32m     79\u001b[0m     \u001b[0;32mdef\u001b[0m \u001b[0mdepth_images_update\u001b[0m\u001b[0;34m(\u001b[0m\u001b[0mself\u001b[0m\u001b[0;34m,\u001b[0m \u001b[0mcropped_depth_images\u001b[0m\u001b[0;34m)\u001b[0m\u001b[0;34m:\u001b[0m\u001b[0;34m\u001b[0m\u001b[0;34m\u001b[0m\u001b[0m\n",
      "\u001b[0;32m/opt/anaconda3/envs/pyCarDisplay/lib/python3.8/site-packages/PySimpleGUI-4.37.0-py3.8.egg/PySimpleGUI/PySimpleGUI.py\u001b[0m in \u001b[0;36mupdate\u001b[0;34m(self, value, disabled, select, visible, text_color, background_color, move_cursor_to, password_char)\u001b[0m\n\u001b[1;32m   1441\u001b[0m             \u001b[0mself\u001b[0m\u001b[0;34m.\u001b[0m\u001b[0mDefaultText\u001b[0m \u001b[0;34m=\u001b[0m \u001b[0mvalue\u001b[0m\u001b[0;34m\u001b[0m\u001b[0;34m\u001b[0m\u001b[0m\n\u001b[1;32m   1442\u001b[0m             \u001b[0;32mif\u001b[0m \u001b[0mmove_cursor_to\u001b[0m \u001b[0;34m==\u001b[0m \u001b[0;34m'end'\u001b[0m\u001b[0;34m:\u001b[0m\u001b[0;34m\u001b[0m\u001b[0;34m\u001b[0m\u001b[0m\n\u001b[0;32m-> 1443\u001b[0;31m                 \u001b[0mself\u001b[0m\u001b[0;34m.\u001b[0m\u001b[0mTKEntry\u001b[0m\u001b[0;34m.\u001b[0m\u001b[0micursor\u001b[0m\u001b[0;34m(\u001b[0m\u001b[0mtk\u001b[0m\u001b[0;34m.\u001b[0m\u001b[0mEND\u001b[0m\u001b[0;34m)\u001b[0m\u001b[0;34m\u001b[0m\u001b[0;34m\u001b[0m\u001b[0m\n\u001b[0m\u001b[1;32m   1444\u001b[0m             \u001b[0;32melif\u001b[0m \u001b[0mmove_cursor_to\u001b[0m \u001b[0;32mis\u001b[0m \u001b[0;32mnot\u001b[0m \u001b[0;32mNone\u001b[0m\u001b[0;34m:\u001b[0m\u001b[0;34m\u001b[0m\u001b[0;34m\u001b[0m\u001b[0m\n\u001b[1;32m   1445\u001b[0m                 \u001b[0mself\u001b[0m\u001b[0;34m.\u001b[0m\u001b[0mTKEntry\u001b[0m\u001b[0;34m.\u001b[0m\u001b[0micursor\u001b[0m\u001b[0;34m(\u001b[0m\u001b[0mmove_cursor_to\u001b[0m\u001b[0;34m)\u001b[0m\u001b[0;34m\u001b[0m\u001b[0;34m\u001b[0m\u001b[0m\n",
      "\u001b[0;32m/opt/anaconda3/envs/pyCarDisplay/lib/python3.8/tkinter/__init__.py\u001b[0m in \u001b[0;36micursor\u001b[0;34m(self, index)\u001b[0m\n\u001b[1;32m   3040\u001b[0m     \u001b[0;32mdef\u001b[0m \u001b[0micursor\u001b[0m\u001b[0;34m(\u001b[0m\u001b[0mself\u001b[0m\u001b[0;34m,\u001b[0m \u001b[0mindex\u001b[0m\u001b[0;34m)\u001b[0m\u001b[0;34m:\u001b[0m\u001b[0;34m\u001b[0m\u001b[0;34m\u001b[0m\u001b[0m\n\u001b[1;32m   3041\u001b[0m         \u001b[0;34m\"\"\"Insert cursor at INDEX.\"\"\"\u001b[0m\u001b[0;34m\u001b[0m\u001b[0;34m\u001b[0m\u001b[0m\n\u001b[0;32m-> 3042\u001b[0;31m         \u001b[0mself\u001b[0m\u001b[0;34m.\u001b[0m\u001b[0mtk\u001b[0m\u001b[0;34m.\u001b[0m\u001b[0mcall\u001b[0m\u001b[0;34m(\u001b[0m\u001b[0mself\u001b[0m\u001b[0;34m.\u001b[0m\u001b[0m_w\u001b[0m\u001b[0;34m,\u001b[0m \u001b[0;34m'icursor'\u001b[0m\u001b[0;34m,\u001b[0m \u001b[0mindex\u001b[0m\u001b[0;34m)\u001b[0m\u001b[0;34m\u001b[0m\u001b[0;34m\u001b[0m\u001b[0m\n\u001b[0m\u001b[1;32m   3043\u001b[0m \u001b[0;34m\u001b[0m\u001b[0m\n\u001b[1;32m   3044\u001b[0m     \u001b[0;32mdef\u001b[0m \u001b[0mindex\u001b[0m\u001b[0;34m(\u001b[0m\u001b[0mself\u001b[0m\u001b[0;34m,\u001b[0m \u001b[0mindex\u001b[0m\u001b[0;34m)\u001b[0m\u001b[0;34m:\u001b[0m\u001b[0;34m\u001b[0m\u001b[0;34m\u001b[0m\u001b[0m\n",
      "\u001b[0;31mTclError\u001b[0m: invalid command name \".!toplevel.!frame6.!entry\""
     ]
    }
   ],
   "source": [
    "display.start(verbose=True)"
   ]
  },
  {
   "cell_type": "code",
   "execution_count": null,
   "metadata": {},
   "outputs": [],
   "source": []
  },
  {
   "cell_type": "code",
   "execution_count": null,
   "metadata": {},
   "outputs": [],
   "source": []
  }
 ],
 "metadata": {
  "kernelspec": {
   "display_name": "Python 3",
   "language": "python",
   "name": "python3"
  },
  "language_info": {
   "codemirror_mode": {
    "name": "ipython",
    "version": 3
   },
   "file_extension": ".py",
   "mimetype": "text/x-python",
   "name": "python",
   "nbconvert_exporter": "python",
   "pygments_lexer": "ipython3",
   "version": "3.8.5"
  }
 },
 "nbformat": 4,
 "nbformat_minor": 4
}
