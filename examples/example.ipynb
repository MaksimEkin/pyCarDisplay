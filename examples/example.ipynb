{
 "cells": [
  {
   "cell_type": "code",
   "execution_count": 1,
   "metadata": {},
   "outputs": [],
   "source": [
    "from pyCarDisplay.pyCarDisplay import CarDisplay"
   ]
  },
  {
   "cell_type": "code",
   "execution_count": 2,
   "metadata": {},
   "outputs": [
    {
     "name": "stdout",
     "output_type": "stream",
     "text": [
      "Car configurations:\n",
      "car_images_path = ../data/2011_09_26/2011_09_26_drive_0001_sync/image_02/data/\n",
      "imu_sensor_path = ../data/2011_09_26/2011_09_26_drive_0001_sync/oxts/data/\n",
      "lidar_sensor_path = ../data/2011_09_26/2011_09_26_drive_0001_sync/velodyne_points/dat/a\n",
      "object_detection_model_path = ../data/checkpoint_ssd300.pth.tar\n",
      "depth_detection_model_path = ../data/model-f6b98070.pt\n",
      "img_resize_size = (300, 300)\n",
      "norm_mean = [0.485, 0.456, 0.406]\n",
      "norm_std = [0.229, 0.224, 0.225]\n",
      "R_covariance = 0.1\n",
      "add_noise = True\n",
      "IMU_name = None\n",
      "gui_speed = 1\n",
      "random_state = 42\n",
      "image_extension = png\n",
      "verbose = True\n",
      "Object detection is using: cpu\n",
      "Object detection API is loading the model: ../data/checkpoint_ssd300.pth.tar\n",
      "\n",
      "Loaded checkpoint from epoch 232.\n",
      "\n",
      "device: cpu\n",
      "Loading weights:  ../data/model-f6b98070.pt\n"
     ]
    },
    {
     "name": "stderr",
     "output_type": "stream",
     "text": [
      "/Users/ckvarga/opt/anaconda3/lib/python3.7/site-packages/torch/serialization.py:656: SourceChangeWarning: source code of class 'torch.nn.modules.conv.Conv2d' has changed. you can retrieve the original source code by accessing the object's source attribute or set `torch.nn.Module.dump_patches = True` and use the patch tool to revert the changes.\n",
      "  warnings.warn(msg, SourceChangeWarning)\n",
      "/Users/ckvarga/opt/anaconda3/lib/python3.7/site-packages/torch/serialization.py:656: SourceChangeWarning: source code of class 'torch.nn.modules.pooling.MaxPool2d' has changed. you can retrieve the original source code by accessing the object's source attribute or set `torch.nn.Module.dump_patches = True` and use the patch tool to revert the changes.\n",
      "  warnings.warn(msg, SourceChangeWarning)\n",
      "Using cache found in /Users/ckvarga/.cache/torch/hub/facebookresearch_WSL-Images_master\n"
     ]
    },
    {
     "name": "stdout",
     "output_type": "stream",
     "text": [
      "Loading the IMU data...\n",
      "<class 'pandas.core.frame.DataFrame'>\n",
      "Int64Index: 108 entries, 0 to 0\n",
      "Data columns (total 31 columns):\n",
      "lat             108 non-null float64\n",
      "lon             108 non-null float64\n",
      "alt             108 non-null float64\n",
      "roll            108 non-null float64\n",
      "pitch           108 non-null float64\n",
      "yaw             108 non-null float64\n",
      "vn              108 non-null float64\n",
      "ve              108 non-null float64\n",
      "vf              108 non-null float64\n",
      "vl              108 non-null float64\n",
      "vu              108 non-null float64\n",
      "ax              108 non-null float64\n",
      "ay              108 non-null float64\n",
      "az              108 non-null float64\n",
      "af              108 non-null float64\n",
      "al              108 non-null float64\n",
      "au              108 non-null float64\n",
      "wx              108 non-null float64\n",
      "wy              108 non-null float64\n",
      "wz              108 non-null float64\n",
      "wf              108 non-null float64\n",
      "wl              108 non-null float64\n",
      "wu              108 non-null float64\n",
      "pos_accuracy    108 non-null float64\n",
      "vel_accuracy    108 non-null float64\n",
      "navstat         108 non-null int64\n",
      "numsats         108 non-null int64\n",
      "posmode         108 non-null int64\n",
      "velmode         108 non-null int64\n",
      "orimode         108 non-null int64\n",
      "frame           108 non-null int64\n",
      "dtypes: float64(25), int64(6)\n",
      "memory usage: 27.0 KB\n",
      "None\n",
      "Initilized IMU\n",
      "Current frame:0\n",
      "Total number of frames:108\n",
      "Total image frames loaded:108\n"
     ]
    }
   ],
   "source": [
    "display = CarDisplay(\n",
    "    car_images_path=\"../data/2011_09_26/2011_09_26_drive_0001_sync/image_02/data/\", \n",
    "    imu_sensor_path='../data/2011_09_26/2011_09_26_drive_0001_sync/oxts/data/',\n",
    "    lidar_sensor_path='../data/2011_09_26/2011_09_26_drive_0001_sync/velodyne_points/dat/a',\n",
    "    object_detection_model_path='../data/checkpoint_ssd300.pth.tar',\n",
    "    depth_detection_model_path='../data/model-f6b98070.pt',\n",
    "    verbose=True,\n",
    ")"
   ]
  },
  {
   "cell_type": "code",
   "execution_count": 3,
   "metadata": {},
   "outputs": [
    {
     "name": "stdout",
     "output_type": "stream",
     "text": [
      "Frame:0\n",
      "<PIL.Image.Image image mode=RGB size=1242x375 at 0x7FA36C854610>\n"
     ]
    },
    {
     "name": "stderr",
     "output_type": "stream",
     "text": [
      "/Users/ckvarga/Desktop/pyCarDisplay/examples/model.py:504: UserWarning: indexing with dtype torch.uint8 is now deprecated, please use a dtype torch.bool instead. (Triggered internally at  ../aten/src/ATen/native/IndexingUtils.h:30.)\n",
      "  image_boxes.append(class_decoded_locs[1 - suppress])\n",
      "/Users/ckvarga/Desktop/pyCarDisplay/examples/model.py:506: UserWarning: indexing with dtype torch.uint8 is now deprecated, please use a dtype torch.bool instead. (Triggered internally at  ../aten/src/ATen/native/IndexingUtils.h:30.)\n",
      "  image_scores.append(class_scores[1 - suppress])\n"
     ]
    },
    {
     "name": "stdout",
     "output_type": "stream",
     "text": [
      "{'annotated_image': <PIL.Image.Image image mode=RGB size=1242x375 at 0x7FA36C854610>, 'box_info': {'text_size': [(18, 11)], 'box_location': [[304.8555908203125, 167.9683837890625, 443.39990234375, 232.01622009277344]]}, 'detected': True}\n",
      "Object detected:1\n",
      "initialize\n",
      "start processing\n",
      "finished\n",
      "         lat      lon         alt      roll     pitch       yaw        vn  \\\n",
      "0  49.064406  8.41965  116.514751  0.182917 -0.012502 -2.775121 -3.743128   \n",
      "\n",
      "         ve         vf        vl  ...        wf        wl        wu  \\\n",
      "0 -9.232178  10.046111 -0.012317  ...  0.141647 -0.032676  0.000612   \n",
      "\n",
      "   pos_accuracy  vel_accuracy   navstat   numsats  posmode   velmode   orimode  \n",
      "0     -0.115568     -0.042397  4.011092  8.884901  6.03757  5.939936  5.970831  \n",
      "\n",
      "[1 rows x 30 columns]\n",
      "<class 'PIL.Image.Image'>\n",
      "Frame:1\n",
      "<PIL.Image.Image image mode=RGB size=1242x375 at 0x7FA3248F3490>\n"
     ]
    },
    {
     "name": "stderr",
     "output_type": "stream",
     "text": [
      "/Users/ckvarga/Desktop/pyCarDisplay/examples/model.py:504: UserWarning: indexing with dtype torch.uint8 is now deprecated, please use a dtype torch.bool instead. (Triggered internally at  ../aten/src/ATen/native/IndexingUtils.h:30.)\n",
      "  image_boxes.append(class_decoded_locs[1 - suppress])\n",
      "/Users/ckvarga/Desktop/pyCarDisplay/examples/model.py:506: UserWarning: indexing with dtype torch.uint8 is now deprecated, please use a dtype torch.bool instead. (Triggered internally at  ../aten/src/ATen/native/IndexingUtils.h:30.)\n",
      "  image_scores.append(class_scores[1 - suppress])\n"
     ]
    },
    {
     "name": "stdout",
     "output_type": "stream",
     "text": [
      "{'annotated_image': <PIL.Image.Image image mode=RGB size=1242x375 at 0x7FA3248F3490>, 'box_info': {'text_size': [(18, 11)], 'box_location': [[285.0801086425781, 172.9058380126953, 436.04412841796875, 235.16624450683594]]}, 'detected': True}\n",
      "Object detected:1\n",
      "initialize\n",
      "start processing\n",
      "finished\n",
      "         lat       lon         alt      roll     pitch       yaw       vn  \\\n",
      "0  48.954619  8.618898  116.444092 -0.067847  0.095855 -2.848511 -4.55637   \n",
      "\n",
      "          ve         vf        vl  ...        wf        wl        wu  \\\n",
      "0 -10.295984  10.955549 -0.079628  ...  0.030033 -0.035727 -0.092427   \n",
      "\n",
      "   pos_accuracy  vel_accuracy   navstat    numsats   posmode   velmode  \\\n",
      "0      0.088075      0.114414  4.093128  10.916078  5.969079  6.033126   \n",
      "\n",
      "    orimode  \n",
      "0  6.097555  \n",
      "\n",
      "[1 rows x 30 columns]\n",
      "<class 'PIL.Image.Image'>\n",
      "Frame:2\n",
      "<PIL.Image.Image image mode=RGB size=1242x375 at 0x7FA3248F3AD0>\n"
     ]
    },
    {
     "name": "stderr",
     "output_type": "stream",
     "text": [
      "/Users/ckvarga/Desktop/pyCarDisplay/examples/model.py:504: UserWarning: indexing with dtype torch.uint8 is now deprecated, please use a dtype torch.bool instead. (Triggered internally at  ../aten/src/ATen/native/IndexingUtils.h:30.)\n",
      "  image_boxes.append(class_decoded_locs[1 - suppress])\n",
      "/Users/ckvarga/Desktop/pyCarDisplay/examples/model.py:506: UserWarning: indexing with dtype torch.uint8 is now deprecated, please use a dtype torch.bool instead. (Triggered internally at  ../aten/src/ATen/native/IndexingUtils.h:30.)\n",
      "  image_scores.append(class_scores[1 - suppress])\n"
     ]
    },
    {
     "name": "stdout",
     "output_type": "stream",
     "text": [
      "{'annotated_image': <PIL.Image.Image image mode=RGB size=1242x375 at 0x7FA3248F3AD0>, 'box_info': {'text_size': [(18, 11)], 'box_location': [[263.8424072265625, 176.36480712890625, 408.506103515625, 241.3951873779297]]}, 'detected': True}\n",
      "Object detected:1\n",
      "initialize\n",
      "start processing\n",
      "finished\n",
      "         lat       lon        alt      roll     pitch       yaw        vn  \\\n",
      "0  48.966702  8.414492  116.37069 -0.090451  0.098785 -2.614398 -2.464623   \n",
      "\n",
      "         ve       vf        vl  ...        wf       wl        wu  \\\n",
      "0 -5.775516  6.40516 -0.089795  ... -0.020395  0.04127  0.138248   \n",
      "\n",
      "   pos_accuracy  vel_accuracy   navstat  numsats   posmode   velmode   orimode  \n",
      "0     -0.023402     -0.068121  3.949824  9.09154  6.032875  5.947024  6.051327  \n",
      "\n",
      "[1 rows x 30 columns]\n",
      "<class 'PIL.Image.Image'>\n",
      "Frame:3\n",
      "<PIL.Image.Image image mode=RGB size=1242x375 at 0x7FA3248F39D0>\n"
     ]
    },
    {
     "name": "stderr",
     "output_type": "stream",
     "text": [
      "/Users/ckvarga/Desktop/pyCarDisplay/examples/model.py:504: UserWarning: indexing with dtype torch.uint8 is now deprecated, please use a dtype torch.bool instead. (Triggered internally at  ../aten/src/ATen/native/IndexingUtils.h:30.)\n",
      "  image_boxes.append(class_decoded_locs[1 - suppress])\n",
      "/Users/ckvarga/Desktop/pyCarDisplay/examples/model.py:506: UserWarning: indexing with dtype torch.uint8 is now deprecated, please use a dtype torch.bool instead. (Triggered internally at  ../aten/src/ATen/native/IndexingUtils.h:30.)\n",
      "  image_scores.append(class_scores[1 - suppress])\n"
     ]
    },
    {
     "name": "stdout",
     "output_type": "stream",
     "text": [
      "{'annotated_image': <PIL.Image.Image image mode=RGB size=1242x375 at 0x7FA3248F39D0>, 'box_info': {'text_size': [(18, 11), (18, 11)], 'box_location': [[248.47079467773438, 179.10218811035156, 413.0972900390625, 243.14207458496094], [364.6528625488281, 182.16616821289062, 448.0102844238281, 228.39578247070312]]}, 'detected': True}\n",
      "Object detected:2\n",
      "initialize\n",
      "start processing\n",
      "finished\n",
      "         lat       lon         alt      roll     pitch       yaw        vn  \\\n",
      "0  49.024363  8.530051  116.413781 -0.011551 -0.022694 -2.896511 -2.987998   \n",
      "\n",
      "         ve        vf       vl  ...        wf        wl        wu  \\\n",
      "0 -7.253088  7.880386 -0.03726  ... -0.178249 -0.004304  0.009164   \n",
      "\n",
      "   pos_accuracy  vel_accuracy   navstat   numsats   posmode   velmode  \\\n",
      "0       0.27475     -0.006508  4.030155  8.996529  5.883132  6.114282   \n",
      "\n",
      "    orimode  \n",
      "0  6.075193  \n",
      "\n",
      "[1 rows x 30 columns]\n",
      "<class 'PIL.Image.Image'>\n",
      "Frame:4\n",
      "<PIL.Image.Image image mode=RGB size=1242x375 at 0x7FA32705F050>\n"
     ]
    },
    {
     "name": "stderr",
     "output_type": "stream",
     "text": [
      "/Users/ckvarga/Desktop/pyCarDisplay/examples/model.py:504: UserWarning: indexing with dtype torch.uint8 is now deprecated, please use a dtype torch.bool instead. (Triggered internally at  ../aten/src/ATen/native/IndexingUtils.h:30.)\n",
      "  image_boxes.append(class_decoded_locs[1 - suppress])\n",
      "/Users/ckvarga/Desktop/pyCarDisplay/examples/model.py:506: UserWarning: indexing with dtype torch.uint8 is now deprecated, please use a dtype torch.bool instead. (Triggered internally at  ../aten/src/ATen/native/IndexingUtils.h:30.)\n",
      "  image_scores.append(class_scores[1 - suppress])\n"
     ]
    },
    {
     "name": "stdout",
     "output_type": "stream",
     "text": [
      "{'annotated_image': <PIL.Image.Image image mode=RGB size=1242x375 at 0x7FA32705F050>, 'box_info': {'text_size': [(18, 11), (18, 11)], 'box_location': [[204.00234985351562, 175.04537963867188, 378.3924865722656, 257.60400390625], [352.4495849609375, 181.5843963623047, 444.41986083984375, 229.60643005371094]]}, 'detected': True}\n",
      "Object detected:2\n",
      "initialize\n",
      "start processing\n",
      "finished\n",
      "         lat       lon         alt      roll     pitch       yaw       vn  \\\n",
      "0  49.093762  8.342258  116.628347 -0.120577  0.075572 -2.531412 -3.16417   \n",
      "\n",
      "         ve        vf        vl  ...        wf        wl        wu  \\\n",
      "0 -7.437027  8.001505 -0.072321  ...  0.022171  0.133427 -0.156297   \n",
      "\n",
      "   pos_accuracy  vel_accuracy   navstat   numsats   posmode   velmode  \\\n",
      "0      0.046889      0.038716  4.078182  7.876305  5.867954  6.052194   \n",
      "\n",
      "    orimode  \n",
      "0  6.029698  \n",
      "\n",
      "[1 rows x 30 columns]\n",
      "<class 'PIL.Image.Image'>\n",
      "Frame:5\n",
      "<PIL.Image.Image image mode=RGB size=1242x375 at 0x7FA34B301410>\n"
     ]
    },
    {
     "name": "stderr",
     "output_type": "stream",
     "text": [
      "/Users/ckvarga/Desktop/pyCarDisplay/examples/model.py:504: UserWarning: indexing with dtype torch.uint8 is now deprecated, please use a dtype torch.bool instead. (Triggered internally at  ../aten/src/ATen/native/IndexingUtils.h:30.)\n",
      "  image_boxes.append(class_decoded_locs[1 - suppress])\n",
      "/Users/ckvarga/Desktop/pyCarDisplay/examples/model.py:506: UserWarning: indexing with dtype torch.uint8 is now deprecated, please use a dtype torch.bool instead. (Triggered internally at  ../aten/src/ATen/native/IndexingUtils.h:30.)\n",
      "  image_scores.append(class_scores[1 - suppress])\n"
     ]
    },
    {
     "name": "stdout",
     "output_type": "stream",
     "text": [
      "{'annotated_image': <PIL.Image.Image image mode=RGB size=1242x375 at 0x7FA34B301410>, 'box_info': {'text_size': [(18, 11), (18, 11)], 'box_location': [[331.5155029296875, 181.19187927246094, 428.16015625, 231.48353576660156], [171.74583435058594, 172.04611206054688, 334.79595947265625, 265.5853271484375]]}, 'detected': True}\n",
      "Object detected:2\n",
      "initialize\n",
      "start processing\n",
      "finished\n",
      "         lat      lon         alt      roll     pitch      yaw        vn  \\\n",
      "0  49.039671  8.46771  116.413206  0.052463  0.046355 -2.82051 -2.314834   \n",
      "\n",
      "         ve        vf        vl  ...        wf        wl        wu  \\\n",
      "0 -5.931019  6.361449  0.044834  ... -0.082475 -0.072024 -0.017118   \n",
      "\n",
      "   pos_accuracy  vel_accuracy   navstat  numsats   posmode   velmode   orimode  \n",
      "0      0.062541      0.040397  4.082718   9.0013  6.145353  5.973534  6.272017  \n",
      "\n",
      "[1 rows x 30 columns]\n",
      "<class 'PIL.Image.Image'>\n",
      "Frame:6\n",
      "<PIL.Image.Image image mode=RGB size=1242x375 at 0x7FA3248DAE90>\n"
     ]
    },
    {
     "name": "stderr",
     "output_type": "stream",
     "text": [
      "/Users/ckvarga/Desktop/pyCarDisplay/examples/model.py:504: UserWarning: indexing with dtype torch.uint8 is now deprecated, please use a dtype torch.bool instead. (Triggered internally at  ../aten/src/ATen/native/IndexingUtils.h:30.)\n",
      "  image_boxes.append(class_decoded_locs[1 - suppress])\n",
      "/Users/ckvarga/Desktop/pyCarDisplay/examples/model.py:506: UserWarning: indexing with dtype torch.uint8 is now deprecated, please use a dtype torch.bool instead. (Triggered internally at  ../aten/src/ATen/native/IndexingUtils.h:30.)\n",
      "  image_scores.append(class_scores[1 - suppress])\n"
     ]
    },
    {
     "name": "stdout",
     "output_type": "stream",
     "text": [
      "{'annotated_image': <PIL.Image.Image image mode=RGB size=1242x375 at 0x7FA3248DAE90>, 'box_info': {'text_size': [(18, 11), (18, 11)], 'box_location': [[127.85909271240234, 167.77438354492188, 321.2511291503906, 268.8683166503906], [320.6620788574219, 182.6642608642578, 422.89556884765625, 232.81004333496094]]}, 'detected': True}\n",
      "Object detected:2\n",
      "initialize\n",
      "start processing\n",
      "finished\n",
      "         lat      lon         alt      roll     pitch       yaw        vn  \\\n",
      "0  49.077352  8.34794  116.335316  0.085592 -0.009131 -2.657627 -4.488355   \n",
      "\n",
      "          ve         vf       vl  ...        wf        wl        wu  \\\n",
      "0 -10.091917  10.972586 -0.24855  ...  0.031558  0.053943  0.085043   \n",
      "\n",
      "   pos_accuracy  vel_accuracy   navstat    numsats   posmode   velmode  \\\n",
      "0      0.132287     -0.126453  3.906217  11.051504  6.051379  6.051505   \n",
      "\n",
      "    orimode  \n",
      "0  6.385273  \n",
      "\n",
      "[1 rows x 30 columns]\n",
      "<class 'PIL.Image.Image'>\n",
      "Frame:7\n",
      "<PIL.Image.Image image mode=RGB size=1242x375 at 0x7FA324972590>\n"
     ]
    },
    {
     "name": "stderr",
     "output_type": "stream",
     "text": [
      "/Users/ckvarga/Desktop/pyCarDisplay/examples/model.py:504: UserWarning: indexing with dtype torch.uint8 is now deprecated, please use a dtype torch.bool instead. (Triggered internally at  ../aten/src/ATen/native/IndexingUtils.h:30.)\n",
      "  image_boxes.append(class_decoded_locs[1 - suppress])\n",
      "/Users/ckvarga/Desktop/pyCarDisplay/examples/model.py:506: UserWarning: indexing with dtype torch.uint8 is now deprecated, please use a dtype torch.bool instead. (Triggered internally at  ../aten/src/ATen/native/IndexingUtils.h:30.)\n",
      "  image_scores.append(class_scores[1 - suppress])\n"
     ]
    },
    {
     "name": "stdout",
     "output_type": "stream",
     "text": [
      "{'annotated_image': <PIL.Image.Image image mode=RGB size=1242x375 at 0x7FA324972590>, 'box_info': {'text_size': [(18, 11), (18, 11)], 'box_location': [[80.66741180419922, 166.001953125, 294.3846740722656, 279.2769775390625], [300.5202941894531, 181.1238555908203, 404.59954833984375, 238.20791625976562]]}, 'detected': True}\n",
      "Object detected:2\n",
      "initialize\n",
      "start processing\n",
      "finished\n",
      "        lat       lon         alt      roll     pitch       yaw        vn  \\\n",
      "0  49.07182  8.547021  116.544512  0.096103 -0.021862 -2.676535 -3.927246   \n",
      "\n",
      "         ve        vf        vl  ...        wf       wl        wu  \\\n",
      "0 -9.247393  9.946245 -0.050598  ... -0.072201  0.01063 -0.002007   \n",
      "\n",
      "   pos_accuracy  vel_accuracy   navstat   numsats   posmode   velmode  \\\n",
      "0     -0.038253      0.226436  4.063392  6.797486  6.018645  5.933821   \n",
      "\n",
      "    orimode  \n",
      "0  6.085243  \n",
      "\n",
      "[1 rows x 30 columns]\n",
      "<class 'PIL.Image.Image'>\n",
      "Frame:8\n",
      "<PIL.Image.Image image mode=RGB size=1242x375 at 0x7FA3248F31D0>\n"
     ]
    },
    {
     "name": "stderr",
     "output_type": "stream",
     "text": [
      "/Users/ckvarga/Desktop/pyCarDisplay/examples/model.py:504: UserWarning: indexing with dtype torch.uint8 is now deprecated, please use a dtype torch.bool instead. (Triggered internally at  ../aten/src/ATen/native/IndexingUtils.h:30.)\n",
      "  image_boxes.append(class_decoded_locs[1 - suppress])\n",
      "/Users/ckvarga/Desktop/pyCarDisplay/examples/model.py:506: UserWarning: indexing with dtype torch.uint8 is now deprecated, please use a dtype torch.bool instead. (Triggered internally at  ../aten/src/ATen/native/IndexingUtils.h:30.)\n",
      "  image_scores.append(class_scores[1 - suppress])\n",
      "/Users/ckvarga/Desktop/pyCarDisplay/examples/model.py:504: UserWarning: indexing with dtype torch.uint8 is now deprecated, please use a dtype torch.bool instead. (Triggered internally at  ../aten/src/ATen/native/IndexingUtils.h:30.)\n",
      "  image_boxes.append(class_decoded_locs[1 - suppress])\n",
      "/Users/ckvarga/Desktop/pyCarDisplay/examples/model.py:506: UserWarning: indexing with dtype torch.uint8 is now deprecated, please use a dtype torch.bool instead. (Triggered internally at  ../aten/src/ATen/native/IndexingUtils.h:30.)\n",
      "  image_scores.append(class_scores[1 - suppress])\n"
     ]
    },
    {
     "name": "stdout",
     "output_type": "stream",
     "text": [
      "{'annotated_image': <PIL.Image.Image image mode=RGB size=1242x375 at 0x7FA3248F31D0>, 'box_info': {'text_size': [(18, 11), (18, 11), (18, 11)], 'box_location': [[15.239399909973145, 41.51173400878906, 273.3631286621094, 291.32562255859375], [286.4048156738281, 183.1691131591797, 395.3761291503906, 244.05133056640625], [16.01099395751953, 159.17495727539062, 275.64520263671875, 292.8747253417969]]}, 'detected': True}\n",
      "Object detected:3\n",
      "initialize\n",
      "start processing\n",
      "finished\n",
      "         lat       lon         alt      roll     pitch       yaw        vn  \\\n",
      "0  48.935439  8.421843  116.505523  0.115522 -0.113967 -2.786516 -3.455778   \n",
      "\n",
      "         ve        vf        vl  ...        wf        wl        wu  \\\n",
      "0 -8.301368  9.089873  0.004943  ... -0.103704 -0.018518 -0.321904   \n",
      "\n",
      "   pos_accuracy  vel_accuracy   navstat   numsats   posmode   velmode  \\\n",
      "0     -0.075532     -0.013215  3.875222  9.163241  5.856986  5.955996   \n",
      "\n",
      "    orimode  \n",
      "0  6.013074  \n",
      "\n",
      "[1 rows x 30 columns]\n",
      "<class 'PIL.Image.Image'>\n",
      "Frame:9\n",
      "<PIL.Image.Image image mode=RGB size=1242x375 at 0x7FA368D78310>\n"
     ]
    },
    {
     "name": "stderr",
     "output_type": "stream",
     "text": [
      "/Users/ckvarga/Desktop/pyCarDisplay/examples/model.py:504: UserWarning: indexing with dtype torch.uint8 is now deprecated, please use a dtype torch.bool instead. (Triggered internally at  ../aten/src/ATen/native/IndexingUtils.h:30.)\n",
      "  image_boxes.append(class_decoded_locs[1 - suppress])\n",
      "/Users/ckvarga/Desktop/pyCarDisplay/examples/model.py:506: UserWarning: indexing with dtype torch.uint8 is now deprecated, please use a dtype torch.bool instead. (Triggered internally at  ../aten/src/ATen/native/IndexingUtils.h:30.)\n",
      "  image_scores.append(class_scores[1 - suppress])\n"
     ]
    },
    {
     "name": "stdout",
     "output_type": "stream",
     "text": [
      "{'annotated_image': <PIL.Image.Image image mode=RGB size=1242x375 at 0x7FA368D78310>, 'box_info': {'text_size': [(18, 11)], 'box_location': [[257.486083984375, 182.93115234375, 381.20477294921875, 247.275146484375]]}, 'detected': True}\n",
      "Object detected:1\n",
      "initialize\n",
      "start processing\n",
      "finished\n",
      "         lat       lon         alt      roll     pitch       yaw        vn  \\\n",
      "0  49.158921  8.290098  116.563536  0.039304 -0.084863 -2.677776 -4.588402   \n",
      "\n",
      "          ve         vf        vl  ...        wf        wl        wu  \\\n",
      "0 -10.180208  11.126615 -0.131217  ... -0.017387 -0.043337 -0.083258   \n",
      "\n",
      "   pos_accuracy  vel_accuracy   navstat   numsats  posmode   velmode   orimode  \n",
      "0      0.111867      0.047015  3.930709  11.08996  6.03073  6.081286  6.062963  \n",
      "\n",
      "[1 rows x 30 columns]\n",
      "<class 'PIL.Image.Image'>\n",
      "Frame:10\n",
      "<PIL.Image.Image image mode=RGB size=1242x375 at 0x7FA3248F34D0>\n"
     ]
    },
    {
     "name": "stderr",
     "output_type": "stream",
     "text": [
      "/Users/ckvarga/Desktop/pyCarDisplay/examples/model.py:504: UserWarning: indexing with dtype torch.uint8 is now deprecated, please use a dtype torch.bool instead. (Triggered internally at  ../aten/src/ATen/native/IndexingUtils.h:30.)\n",
      "  image_boxes.append(class_decoded_locs[1 - suppress])\n",
      "/Users/ckvarga/Desktop/pyCarDisplay/examples/model.py:506: UserWarning: indexing with dtype torch.uint8 is now deprecated, please use a dtype torch.bool instead. (Triggered internally at  ../aten/src/ATen/native/IndexingUtils.h:30.)\n",
      "  image_scores.append(class_scores[1 - suppress])\n"
     ]
    },
    {
     "name": "stdout",
     "output_type": "stream",
     "text": [
      "{'annotated_image': <PIL.Image.Image image mode=RGB size=1242x375 at 0x7FA3248F34D0>, 'box_info': {'text_size': [(18, 11), (18, 11), (18, 11)], 'box_location': [[234.73789978027344, 184.8822479248047, 362.23748779296875, 248.83224487304688], [2.3646981716156006, 146.56434631347656, 182.67984008789062, 307.4408874511719], [376.441650390625, 188.64906311035156, 511.4855041503906, 216.30809020996094]]}, 'detected': True}\n",
      "Object detected:3\n",
      "initialize\n",
      "start processing\n",
      "finished\n",
      "         lat       lon         alt      roll     pitch      yaw        vn  \\\n",
      "0  48.931839  8.377473  116.525154  0.092213  0.010388 -2.73929 -3.830445   \n",
      "\n",
      "         ve         vf        vl  ...        wf        wl       wu  \\\n",
      "0 -9.459307  10.253956 -0.095381  ...  0.006466  0.071321 -0.09248   \n",
      "\n",
      "   pos_accuracy  vel_accuracy   navstat   numsats   posmode   velmode  \\\n",
      "0      0.236146      -0.08856  3.878581  9.115811  6.079166  6.062412   \n",
      "\n",
      "    orimode  \n",
      "0  6.062835  \n",
      "\n",
      "[1 rows x 30 columns]\n",
      "<class 'PIL.Image.Image'>\n",
      "Frame:11\n",
      "<PIL.Image.Image image mode=RGB size=1242x375 at 0x7FA36CA33750>\n"
     ]
    },
    {
     "name": "stderr",
     "output_type": "stream",
     "text": [
      "/Users/ckvarga/Desktop/pyCarDisplay/examples/model.py:504: UserWarning: indexing with dtype torch.uint8 is now deprecated, please use a dtype torch.bool instead. (Triggered internally at  ../aten/src/ATen/native/IndexingUtils.h:30.)\n",
      "  image_boxes.append(class_decoded_locs[1 - suppress])\n",
      "/Users/ckvarga/Desktop/pyCarDisplay/examples/model.py:506: UserWarning: indexing with dtype torch.uint8 is now deprecated, please use a dtype torch.bool instead. (Triggered internally at  ../aten/src/ATen/native/IndexingUtils.h:30.)\n",
      "  image_scores.append(class_scores[1 - suppress])\n"
     ]
    },
    {
     "name": "stdout",
     "output_type": "stream",
     "text": [
      "{'annotated_image': <PIL.Image.Image image mode=RGB size=1242x375 at 0x7FA36CA33750>, 'box_info': {'text_size': [(18, 11), (18, 11)], 'box_location': [[206.1488037109375, 181.0699462890625, 345.8443908691406, 254.31752014160156], [13.352211952209473, 157.85409545898438, 146.1183624267578, 302.1224670410156]]}, 'detected': True}\n",
      "Object detected:2\n",
      "initialize\n",
      "start processing\n",
      "finished\n",
      "         lat       lon         alt      roll     pitch       yaw        vn  \\\n",
      "0  49.013428  8.343451  116.488019 -0.044978  0.113583 -2.764503 -3.057239   \n",
      "\n",
      "         ve        vf       vl  ...        wf        wl        wu  \\\n",
      "0 -7.215666  7.816367 -0.06454  ...  0.043692  0.143467  0.089816   \n",
      "\n",
      "   pos_accuracy  vel_accuracy   navstat   numsats   posmode   velmode  \\\n",
      "0      0.012431      0.010826  3.899747  8.998149  5.971134  6.032272   \n",
      "\n",
      "    orimode  \n",
      "0  5.917277  \n",
      "\n",
      "[1 rows x 30 columns]\n",
      "<class 'PIL.Image.Image'>\n",
      "Frame:12\n",
      "<PIL.Image.Image image mode=RGB size=1242x375 at 0x7FA34B301410>\n"
     ]
    },
    {
     "name": "stderr",
     "output_type": "stream",
     "text": [
      "/Users/ckvarga/Desktop/pyCarDisplay/examples/model.py:504: UserWarning: indexing with dtype torch.uint8 is now deprecated, please use a dtype torch.bool instead. (Triggered internally at  ../aten/src/ATen/native/IndexingUtils.h:30.)\n",
      "  image_boxes.append(class_decoded_locs[1 - suppress])\n",
      "/Users/ckvarga/Desktop/pyCarDisplay/examples/model.py:506: UserWarning: indexing with dtype torch.uint8 is now deprecated, please use a dtype torch.bool instead. (Triggered internally at  ../aten/src/ATen/native/IndexingUtils.h:30.)\n",
      "  image_scores.append(class_scores[1 - suppress])\n"
     ]
    },
    {
     "name": "stdout",
     "output_type": "stream",
     "text": [
      "{'annotated_image': <PIL.Image.Image image mode=RGB size=1242x375 at 0x7FA34B301410>, 'box_info': {'text_size': [(18, 11), (18, 11)], 'box_location': [[161.095703125, 183.269775390625, 328.13348388671875, 266.6751708984375], [345.58807373046875, 186.1016387939453, 465.3357849121094, 221.864501953125]]}, 'detected': True}\n",
      "Object detected:2\n",
      "initialize\n",
      "start processing\n",
      "finished\n",
      "         lat       lon         alt      roll     pitch       yaw        vn  \\\n",
      "0  49.066552  8.586324  116.469371  0.069427  0.087051 -2.790843 -2.380562   \n",
      "\n",
      "         ve       vf        vl  ...        wf        wl        wu  \\\n",
      "0 -5.770472  6.26171 -0.097461  ... -0.082334 -0.054716 -0.219276   \n",
      "\n",
      "   pos_accuracy  vel_accuracy   navstat   numsats   posmode   velmode  orimode  \n",
      "0      -0.02415     -0.063185  4.015039  8.034176  6.187617  6.095042  5.94231  \n",
      "\n",
      "[1 rows x 30 columns]\n",
      "<class 'PIL.Image.Image'>\n",
      "Frame:13\n",
      "<PIL.Image.Image image mode=RGB size=1242x375 at 0x7FA34B301490>\n"
     ]
    },
    {
     "name": "stderr",
     "output_type": "stream",
     "text": [
      "/Users/ckvarga/Desktop/pyCarDisplay/examples/model.py:504: UserWarning: indexing with dtype torch.uint8 is now deprecated, please use a dtype torch.bool instead. (Triggered internally at  ../aten/src/ATen/native/IndexingUtils.h:30.)\n",
      "  image_boxes.append(class_decoded_locs[1 - suppress])\n",
      "/Users/ckvarga/Desktop/pyCarDisplay/examples/model.py:506: UserWarning: indexing with dtype torch.uint8 is now deprecated, please use a dtype torch.bool instead. (Triggered internally at  ../aten/src/ATen/native/IndexingUtils.h:30.)\n",
      "  image_scores.append(class_scores[1 - suppress])\n"
     ]
    },
    {
     "name": "stdout",
     "output_type": "stream",
     "text": [
      "{'annotated_image': <PIL.Image.Image image mode=RGB size=1242x375 at 0x7FA34B301490>, 'box_info': {'text_size': [(18, 11), (18, 11)], 'box_location': [[114.44926452636719, 181.81451416015625, 291.7840576171875, 272.94732666015625], [325.79864501953125, 189.31069946289062, 437.9105529785156, 226.64561462402344]]}, 'detected': True}\n",
      "Object detected:2\n",
      "initialize\n",
      "start processing\n",
      "finished\n",
      "         lat       lon         alt     roll    pitch       yaw        vn  \\\n",
      "0  48.924774  8.482233  116.345912  0.21394  0.13635 -2.798525 -2.514612   \n",
      "\n",
      "         ve       vf        vl  ...        wf        wl        wu  \\\n",
      "0 -5.514973  6.10552  0.107575  ...  0.084121 -0.108905 -0.161752   \n",
      "\n",
      "   pos_accuracy  vel_accuracy   navstat   numsats   posmode  velmode   orimode  \n",
      "0      0.156193      0.045959  3.925151  8.155115  6.011567  6.11793  6.006752  \n",
      "\n",
      "[1 rows x 30 columns]\n",
      "<class 'PIL.Image.Image'>\n",
      "Frame:14\n",
      "<PIL.Image.Image image mode=RGB size=1242x375 at 0x7FA3248DAED0>\n"
     ]
    },
    {
     "name": "stderr",
     "output_type": "stream",
     "text": [
      "/Users/ckvarga/Desktop/pyCarDisplay/examples/model.py:504: UserWarning: indexing with dtype torch.uint8 is now deprecated, please use a dtype torch.bool instead. (Triggered internally at  ../aten/src/ATen/native/IndexingUtils.h:30.)\n",
      "  image_boxes.append(class_decoded_locs[1 - suppress])\n",
      "/Users/ckvarga/Desktop/pyCarDisplay/examples/model.py:506: UserWarning: indexing with dtype torch.uint8 is now deprecated, please use a dtype torch.bool instead. (Triggered internally at  ../aten/src/ATen/native/IndexingUtils.h:30.)\n",
      "  image_scores.append(class_scores[1 - suppress])\n"
     ]
    },
    {
     "name": "stdout",
     "output_type": "stream",
     "text": [
      "{'annotated_image': <PIL.Image.Image image mode=RGB size=1242x375 at 0x7FA3248DAED0>, 'box_info': {'text_size': [(18, 11), (18, 11)], 'box_location': [[61.32451629638672, 182.4063720703125, 270.3765869140625, 286.08929443359375], [304.7706604003906, 192.8827667236328, 431.65948486328125, 230.0336456298828]]}, 'detected': True}\n",
      "Object detected:2\n",
      "initialize\n",
      "start processing\n",
      "finished\n",
      "         lat       lon         alt      roll     pitch       yaw        vn  \\\n",
      "0  49.220725  8.608701  116.453528  0.119717  0.079611 -2.612492 -3.043223   \n",
      "\n",
      "         ve        vf        vl  ...        wf        wl       wu  \\\n",
      "0 -7.011441  7.774609 -0.193897  ...  0.039406 -0.011832 -0.20346   \n",
      "\n",
      "   pos_accuracy  vel_accuracy   navstat  numsats   posmode   velmode   orimode  \n",
      "0      0.018747     -0.117719  4.066967  9.03666  5.906012  5.948613  5.894079  \n",
      "\n",
      "[1 rows x 30 columns]\n",
      "<class 'PIL.Image.Image'>\n",
      "Frame:15\n",
      "<PIL.Image.Image image mode=RGB size=1242x375 at 0x7FA324B2C490>\n"
     ]
    },
    {
     "name": "stderr",
     "output_type": "stream",
     "text": [
      "/Users/ckvarga/Desktop/pyCarDisplay/examples/model.py:504: UserWarning: indexing with dtype torch.uint8 is now deprecated, please use a dtype torch.bool instead. (Triggered internally at  ../aten/src/ATen/native/IndexingUtils.h:30.)\n",
      "  image_boxes.append(class_decoded_locs[1 - suppress])\n",
      "/Users/ckvarga/Desktop/pyCarDisplay/examples/model.py:506: UserWarning: indexing with dtype torch.uint8 is now deprecated, please use a dtype torch.bool instead. (Triggered internally at  ../aten/src/ATen/native/IndexingUtils.h:30.)\n",
      "  image_scores.append(class_scores[1 - suppress])\n"
     ]
    },
    {
     "name": "stdout",
     "output_type": "stream",
     "text": [
      "{'annotated_image': <PIL.Image.Image image mode=RGB size=1242x375 at 0x7FA324B2C490>, 'box_info': {'text_size': [(18, 11), (18, 11)], 'box_location': [[17.361255645751953, 181.5994110107422, 227.06585693359375, 298.2747497558594], [282.6427001953125, 191.57154846191406, 410.1762390136719, 234.74156188964844]]}, 'detected': True}\n",
      "Object detected:2\n",
      "initialize\n",
      "start processing\n",
      "finished\n",
      "         lat       lon         alt      roll     pitch       yaw        vn  \\\n",
      "0  49.008474  8.529018  116.347816  0.082071 -0.042159 -2.829211 -4.005062   \n",
      "\n",
      "        ve         vf        vl  ...        wf       wl        wu  \\\n",
      "0 -9.58152  10.229711 -0.187653  ... -0.026787 -0.21158 -0.161833   \n",
      "\n",
      "   pos_accuracy  vel_accuracy   navstat   numsats   posmode   velmode  \\\n",
      "0      0.163595      0.176538  3.975096  9.057656  6.031125  6.307888   \n",
      "\n",
      "    orimode  \n",
      "0  6.111957  \n",
      "\n",
      "[1 rows x 30 columns]\n",
      "<class 'PIL.Image.Image'>\n",
      "Frame:16\n",
      "<PIL.Image.Image image mode=RGB size=1242x375 at 0x7FA3246EFCD0>\n"
     ]
    },
    {
     "name": "stderr",
     "output_type": "stream",
     "text": [
      "/Users/ckvarga/Desktop/pyCarDisplay/examples/model.py:504: UserWarning: indexing with dtype torch.uint8 is now deprecated, please use a dtype torch.bool instead. (Triggered internally at  ../aten/src/ATen/native/IndexingUtils.h:30.)\n",
      "  image_boxes.append(class_decoded_locs[1 - suppress])\n",
      "/Users/ckvarga/Desktop/pyCarDisplay/examples/model.py:506: UserWarning: indexing with dtype torch.uint8 is now deprecated, please use a dtype torch.bool instead. (Triggered internally at  ../aten/src/ATen/native/IndexingUtils.h:30.)\n",
      "  image_scores.append(class_scores[1 - suppress])\n"
     ]
    },
    {
     "name": "stdout",
     "output_type": "stream",
     "text": [
      "{'annotated_image': <PIL.Image.Image image mode=RGB size=1242x375 at 0x7FA3246EFCD0>, 'box_info': {'text_size': [(18, 11), (18, 11)], 'box_location': [[-4.024742126464844, 182.80271911621094, 195.869873046875, 313.31158447265625], [260.110595703125, 194.9752197265625, 381.8246765136719, 240.4324188232422]]}, 'detected': True}\n",
      "Object detected:2\n",
      "initialize\n",
      "start processing\n",
      "finished\n",
      "         lat       lon         alt      roll     pitch       yaw       vn  \\\n",
      "0  49.002006  8.338144  116.287666  0.058222 -0.062933 -2.863817 -4.70575   \n",
      "\n",
      "          ve         vf        vl  ...       wf        wl        wu  \\\n",
      "0 -10.248624  11.320449 -0.000509  ...  0.09945  0.187472 -0.162682   \n",
      "\n",
      "   pos_accuracy  vel_accuracy   navstat    numsats   posmode   velmode  \\\n",
      "0      0.083204     -0.053751  3.951287  10.940761  5.913601  6.004852   \n",
      "\n",
      "    orimode  \n",
      "0  5.916905  \n",
      "\n",
      "[1 rows x 30 columns]\n",
      "<class 'PIL.Image.Image'>\n",
      "Frame:17\n",
      "<PIL.Image.Image image mode=RGB size=1242x375 at 0x7FA3248DAE50>\n"
     ]
    },
    {
     "name": "stderr",
     "output_type": "stream",
     "text": [
      "/Users/ckvarga/Desktop/pyCarDisplay/examples/model.py:504: UserWarning: indexing with dtype torch.uint8 is now deprecated, please use a dtype torch.bool instead. (Triggered internally at  ../aten/src/ATen/native/IndexingUtils.h:30.)\n",
      "  image_boxes.append(class_decoded_locs[1 - suppress])\n",
      "/Users/ckvarga/Desktop/pyCarDisplay/examples/model.py:506: UserWarning: indexing with dtype torch.uint8 is now deprecated, please use a dtype torch.bool instead. (Triggered internally at  ../aten/src/ATen/native/IndexingUtils.h:30.)\n",
      "  image_scores.append(class_scores[1 - suppress])\n"
     ]
    },
    {
     "name": "stdout",
     "output_type": "stream",
     "text": [
      "{'annotated_image': <PIL.Image.Image image mode=RGB size=1242x375 at 0x7FA3248DAE50>, 'box_info': {'text_size': [(18, 11), (18, 11)], 'box_location': [[229.1233367919922, 193.04505920410156, 380.5729675292969, 243.40684509277344], [-0.6419745683670044, 185.8101806640625, 146.45603942871094, 314.40057373046875]]}, 'detected': True}\n",
      "Object detected:2\n",
      "initialize\n",
      "start processing\n",
      "finished\n",
      "        lat       lon         alt      roll     pitch       yaw        vn  \\\n",
      "0  49.04174  8.428305  116.428513 -0.060899 -0.050363 -2.677779 -3.390203   \n",
      "\n",
      "         ve        vf        vl  ...        wf       wl        wu  \\\n",
      "0 -8.408258  9.004298  0.036425  ...  0.058489 -0.18017 -0.005166   \n",
      "\n",
      "   pos_accuracy  vel_accuracy  navstat   numsats   posmode   velmode   orimode  \n",
      "0     -0.094194     -0.053142  4.00474  8.913959  5.961544  6.100629  5.942311  \n",
      "\n",
      "[1 rows x 30 columns]\n",
      "<class 'PIL.Image.Image'>\n",
      "Frame:18\n",
      "<PIL.Image.Image image mode=RGB size=1242x375 at 0x7FA324B2C210>\n"
     ]
    },
    {
     "name": "stderr",
     "output_type": "stream",
     "text": [
      "/Users/ckvarga/Desktop/pyCarDisplay/examples/model.py:504: UserWarning: indexing with dtype torch.uint8 is now deprecated, please use a dtype torch.bool instead. (Triggered internally at  ../aten/src/ATen/native/IndexingUtils.h:30.)\n",
      "  image_boxes.append(class_decoded_locs[1 - suppress])\n",
      "/Users/ckvarga/Desktop/pyCarDisplay/examples/model.py:506: UserWarning: indexing with dtype torch.uint8 is now deprecated, please use a dtype torch.bool instead. (Triggered internally at  ../aten/src/ATen/native/IndexingUtils.h:30.)\n",
      "  image_scores.append(class_scores[1 - suppress])\n"
     ]
    },
    {
     "name": "stdout",
     "output_type": "stream",
     "text": [
      "{'annotated_image': <PIL.Image.Image image mode=RGB size=1242x375 at 0x7FA324B2C210>, 'box_info': {'text_size': [(18, 11), (18, 11)], 'box_location': [[201.71829223632812, 192.97117614746094, 347.1346435546875, 248.8022918701172], [0.02829757332801819, 180.8317413330078, 101.86160278320312, 317.4421081542969]]}, 'detected': True}\n",
      "Object detected:2\n",
      "initialize\n",
      "start processing\n",
      "finished\n",
      "        lat       lon         alt      roll     pitch       yaw        vn  \\\n",
      "0  49.09835  8.320671  116.491632  0.181968 -0.234049 -2.810943 -4.438746   \n",
      "\n",
      "          ve         vf        vl  ...        wf        wl       wu  \\\n",
      "0 -10.092695  11.067216 -0.151656  ...  0.031392  0.208437  0.06442   \n",
      "\n",
      "   pos_accuracy  vel_accuracy   navstat    numsats   posmode   velmode  \\\n",
      "0     -0.005695      0.131435  3.959192  10.796188  5.899191  5.812921   \n",
      "\n",
      "    orimode  \n",
      "0  5.964849  \n",
      "\n",
      "[1 rows x 30 columns]\n",
      "<class 'PIL.Image.Image'>\n",
      "Frame:19\n",
      "<PIL.Image.Image image mode=RGB size=1242x375 at 0x7FA3248DAD90>\n"
     ]
    },
    {
     "name": "stderr",
     "output_type": "stream",
     "text": [
      "/Users/ckvarga/Desktop/pyCarDisplay/examples/model.py:504: UserWarning: indexing with dtype torch.uint8 is now deprecated, please use a dtype torch.bool instead. (Triggered internally at  ../aten/src/ATen/native/IndexingUtils.h:30.)\n",
      "  image_boxes.append(class_decoded_locs[1 - suppress])\n",
      "/Users/ckvarga/Desktop/pyCarDisplay/examples/model.py:506: UserWarning: indexing with dtype torch.uint8 is now deprecated, please use a dtype torch.bool instead. (Triggered internally at  ../aten/src/ATen/native/IndexingUtils.h:30.)\n",
      "  image_scores.append(class_scores[1 - suppress])\n",
      "/Users/ckvarga/Desktop/pyCarDisplay/examples/model.py:504: UserWarning: indexing with dtype torch.uint8 is now deprecated, please use a dtype torch.bool instead. (Triggered internally at  ../aten/src/ATen/native/IndexingUtils.h:30.)\n",
      "  image_boxes.append(class_decoded_locs[1 - suppress])\n",
      "/Users/ckvarga/Desktop/pyCarDisplay/examples/model.py:506: UserWarning: indexing with dtype torch.uint8 is now deprecated, please use a dtype torch.bool instead. (Triggered internally at  ../aten/src/ATen/native/IndexingUtils.h:30.)\n",
      "  image_scores.append(class_scores[1 - suppress])\n"
     ]
    },
    {
     "name": "stdout",
     "output_type": "stream",
     "text": [
      "{'annotated_image': <PIL.Image.Image image mode=RGB size=1242x375 at 0x7FA3248DAD90>, 'box_info': {'text_size': [(18, 11), (36, 11)], 'box_location': [[173.701171875, 191.9864044189453, 326.78082275390625, 254.9068603515625], [447.71630859375, 118.75466918945312, 511.0141296386719, 193.10018920898438]]}, 'detected': True}\n",
      "Object detected:2\n",
      "initialize\n",
      "start processing\n",
      "finished\n",
      "         lat       lon         alt      roll     pitch       yaw        vn  \\\n",
      "0  49.016599  8.601201  116.459496  0.009735  0.092346 -2.966312 -4.169358   \n",
      "\n",
      "         ve         vf        vl  ...        wf        wl        wu  \\\n",
      "0 -9.669929  10.462349  0.021171  ... -0.000811 -0.062183  0.028943   \n",
      "\n",
      "   pos_accuracy  vel_accuracy   navstat    numsats   posmode   velmode  \\\n",
      "0      0.060273      0.115068  3.948998  10.973013  5.902124  5.955571   \n",
      "\n",
      "   orimode  \n",
      "0  6.03773  \n",
      "\n",
      "[1 rows x 30 columns]\n",
      "<class 'PIL.Image.Image'>\n",
      "Frame:20\n",
      "<PIL.Image.Image image mode=RGB size=1242x375 at 0x7FA3248DAFD0>\n"
     ]
    },
    {
     "name": "stderr",
     "output_type": "stream",
     "text": [
      "/Users/ckvarga/Desktop/pyCarDisplay/examples/model.py:504: UserWarning: indexing with dtype torch.uint8 is now deprecated, please use a dtype torch.bool instead. (Triggered internally at  ../aten/src/ATen/native/IndexingUtils.h:30.)\n",
      "  image_boxes.append(class_decoded_locs[1 - suppress])\n",
      "/Users/ckvarga/Desktop/pyCarDisplay/examples/model.py:506: UserWarning: indexing with dtype torch.uint8 is now deprecated, please use a dtype torch.bool instead. (Triggered internally at  ../aten/src/ATen/native/IndexingUtils.h:30.)\n",
      "  image_scores.append(class_scores[1 - suppress])\n"
     ]
    },
    {
     "name": "stdout",
     "output_type": "stream",
     "text": [
      "{'annotated_image': <PIL.Image.Image image mode=RGB size=1242x375 at 0x7FA3248DAFD0>, 'box_info': {'text_size': [(18, 11), (18, 11)], 'box_location': [[133.4278106689453, 189.2627410888672, 301.5867919921875, 260.4668884277344], [291.4919738769531, 185.66778564453125, 390.9658203125, 234.71823120117188]]}, 'detected': True}\n",
      "Object detected:2\n",
      "initialize\n",
      "start processing\n",
      "finished\n",
      "         lat       lon         alt      roll     pitch      yaw        vn  \\\n",
      "0  49.090363  8.341001  116.576463  0.155163  0.056969 -2.56339 -3.215724   \n",
      "\n",
      "         ve       vf        vl  ...        wf        wl        wu  \\\n",
      "0 -7.686225  8.00924  0.125155  ... -0.080437  0.064813  0.190262   \n",
      "\n",
      "   pos_accuracy  vel_accuracy   navstat  numsats   posmode   velmode   orimode  \n",
      "0      0.162967      0.172047  3.948878  7.90104  5.987421  6.005572  6.109419  \n",
      "\n",
      "[1 rows x 30 columns]\n",
      "<class 'PIL.Image.Image'>\n",
      "Frame:21\n",
      "<PIL.Image.Image image mode=RGB size=1242x375 at 0x7FA36C8173D0>\n"
     ]
    },
    {
     "name": "stderr",
     "output_type": "stream",
     "text": [
      "/Users/ckvarga/Desktop/pyCarDisplay/examples/model.py:504: UserWarning: indexing with dtype torch.uint8 is now deprecated, please use a dtype torch.bool instead. (Triggered internally at  ../aten/src/ATen/native/IndexingUtils.h:30.)\n",
      "  image_boxes.append(class_decoded_locs[1 - suppress])\n",
      "/Users/ckvarga/Desktop/pyCarDisplay/examples/model.py:506: UserWarning: indexing with dtype torch.uint8 is now deprecated, please use a dtype torch.bool instead. (Triggered internally at  ../aten/src/ATen/native/IndexingUtils.h:30.)\n",
      "  image_scores.append(class_scores[1 - suppress])\n"
     ]
    },
    {
     "name": "stdout",
     "output_type": "stream",
     "text": [
      "{'annotated_image': <PIL.Image.Image image mode=RGB size=1242x375 at 0x7FA36C8173D0>, 'box_info': {'text_size': [(18, 11), (18, 11)], 'box_location': [[83.4754638671875, 193.1547393798828, 268.1684875488281, 273.3524475097656], [263.7815246582031, 182.65618896484375, 362.2331237792969, 238.5062255859375]]}, 'detected': True}\n",
      "Object detected:2\n",
      "initialize\n",
      "start processing\n",
      "finished\n",
      "         lat       lon         alt     roll     pitch       yaw        vn  \\\n",
      "0  48.845393  8.586082  116.459388 -0.01764 -0.086777 -2.913086 -2.716767   \n",
      "\n",
      "         ve        vf        vl  ...        wf        wl        wu  \\\n",
      "0 -6.676649  7.117386 -0.149972  ...  0.189832  0.120734 -0.022641   \n",
      "\n",
      "   pos_accuracy  vel_accuracy   navstat   numsats   posmode   velmode  \\\n",
      "0     -0.082994      0.270064  4.005922  9.001393  5.997587  6.019808   \n",
      "\n",
      "    orimode  \n",
      "0  5.985564  \n",
      "\n",
      "[1 rows x 30 columns]\n",
      "<class 'PIL.Image.Image'>\n",
      "Frame:22\n",
      "<PIL.Image.Image image mode=RGB size=1242x375 at 0x7FA324972890>\n"
     ]
    },
    {
     "name": "stderr",
     "output_type": "stream",
     "text": [
      "/Users/ckvarga/Desktop/pyCarDisplay/examples/model.py:504: UserWarning: indexing with dtype torch.uint8 is now deprecated, please use a dtype torch.bool instead. (Triggered internally at  ../aten/src/ATen/native/IndexingUtils.h:30.)\n",
      "  image_boxes.append(class_decoded_locs[1 - suppress])\n",
      "/Users/ckvarga/Desktop/pyCarDisplay/examples/model.py:506: UserWarning: indexing with dtype torch.uint8 is now deprecated, please use a dtype torch.bool instead. (Triggered internally at  ../aten/src/ATen/native/IndexingUtils.h:30.)\n",
      "  image_scores.append(class_scores[1 - suppress])\n"
     ]
    },
    {
     "name": "stdout",
     "output_type": "stream",
     "text": [
      "{'annotated_image': <PIL.Image.Image image mode=RGB size=1242x375 at 0x7FA324972890>, 'box_info': {'text_size': [(18, 11), (18, 11)], 'box_location': [[11.255327224731445, 196.9447784423828, 237.6624755859375, 282.0787048339844], [245.0375213623047, 180.62010192871094, 375.3891296386719, 240.7375946044922]]}, 'detected': True}\n",
      "Object detected:2\n",
      "initialize\n",
      "start processing\n",
      "finished\n",
      "         lat       lon         alt      roll    pitch       yaw        vn  \\\n",
      "0  48.957258  8.378388  116.476492 -0.025988 -0.05514 -2.737419 -2.566719   \n",
      "\n",
      "         ve        vf        vl  ...        wf        wl        wu  \\\n",
      "0 -5.928425  6.323507  0.094906  ...  0.075711 -0.101111 -0.057236   \n",
      "\n",
      "   pos_accuracy  vel_accuracy  navstat   numsats   posmode   velmode   orimode  \n",
      "0      0.077363     -0.109485   4.0713  8.975967  5.962518  6.071096  6.044426  \n",
      "\n",
      "[1 rows x 30 columns]\n",
      "<class 'PIL.Image.Image'>\n",
      "Frame:23\n",
      "<PIL.Image.Image image mode=RGB size=1242x375 at 0x7FA327061490>\n"
     ]
    },
    {
     "name": "stderr",
     "output_type": "stream",
     "text": [
      "/Users/ckvarga/Desktop/pyCarDisplay/examples/model.py:504: UserWarning: indexing with dtype torch.uint8 is now deprecated, please use a dtype torch.bool instead. (Triggered internally at  ../aten/src/ATen/native/IndexingUtils.h:30.)\n",
      "  image_boxes.append(class_decoded_locs[1 - suppress])\n",
      "/Users/ckvarga/Desktop/pyCarDisplay/examples/model.py:506: UserWarning: indexing with dtype torch.uint8 is now deprecated, please use a dtype torch.bool instead. (Triggered internally at  ../aten/src/ATen/native/IndexingUtils.h:30.)\n",
      "  image_scores.append(class_scores[1 - suppress])\n"
     ]
    },
    {
     "name": "stdout",
     "output_type": "stream",
     "text": [
      "{'annotated_image': <PIL.Image.Image image mode=RGB size=1242x375 at 0x7FA327061490>, 'box_info': {'text_size': [(18, 11), (18, 11), (18, 11), (18, 11), (18, 11), (18, 11)], 'box_location': [[7.978749752044678, 198.20901489257812, 208.629638671875, 293.9355773925781], [227.30572509765625, 181.36431884765625, 371.7881774902344, 242.06105041503906], [320.37310791015625, 185.10848999023438, 433.9177551269531, 231.80718994140625], [51.918052673339844, 191.95358276367188, 212.62242126464844, 262.130126953125], [368.7512512207031, 180.5846405029297, 436.2983093261719, 224.92074584960938], [448.82208251953125, 180.0169677734375, 508.81671142578125, 209.45703125]]}, 'detected': True}\n",
      "Object detected:6\n",
      "initialize\n",
      "start processing\n",
      "finished\n",
      "        lat       lon        alt      roll     pitch       yaw        vn  \\\n",
      "0  48.97853  8.549016  116.37015  0.089776  0.073934 -2.778466 -2.554906   \n",
      "\n",
      "         ve        vf        vl  ...        wf        wl        wu  \\\n",
      "0 -6.309774  6.796519 -0.030836  ...  0.036971 -0.004084 -0.060353   \n",
      "\n",
      "   pos_accuracy  vel_accuracy  navstat   numsats  posmode   velmode   orimode  \n",
      "0      0.067572      0.008964  4.11033  9.011423  6.01503  5.963639  5.994305  \n",
      "\n",
      "[1 rows x 30 columns]\n",
      "<class 'PIL.Image.Image'>\n",
      "Frame:24\n",
      "<PIL.Image.Image image mode=RGB size=1242x375 at 0x7FA324960D10>\n"
     ]
    },
    {
     "name": "stderr",
     "output_type": "stream",
     "text": [
      "/Users/ckvarga/Desktop/pyCarDisplay/examples/model.py:504: UserWarning: indexing with dtype torch.uint8 is now deprecated, please use a dtype torch.bool instead. (Triggered internally at  ../aten/src/ATen/native/IndexingUtils.h:30.)\n",
      "  image_boxes.append(class_decoded_locs[1 - suppress])\n",
      "/Users/ckvarga/Desktop/pyCarDisplay/examples/model.py:506: UserWarning: indexing with dtype torch.uint8 is now deprecated, please use a dtype torch.bool instead. (Triggered internally at  ../aten/src/ATen/native/IndexingUtils.h:30.)\n",
      "  image_scores.append(class_scores[1 - suppress])\n"
     ]
    },
    {
     "name": "stdout",
     "output_type": "stream",
     "text": [
      "{'annotated_image': <PIL.Image.Image image mode=RGB size=1242x375 at 0x7FA324960D10>, 'box_info': {'text_size': [(18, 11), (18, 11), (18, 11)], 'box_location': [[-2.6074206829071045, 200.19866943359375, 169.3805389404297, 303.7673034667969], [190.33477783203125, 179.08221435546875, 330.04620361328125, 250.68115234375], [320.40753173828125, 184.230224609375, 430.5966796875, 232.97271728515625]]}, 'detected': True}\n",
      "Object detected:3\n",
      "initialize\n",
      "start processing\n",
      "finished\n",
      "         lat       lon         alt      roll     pitch      yaw        vn  \\\n",
      "0  49.045422  8.262121  116.338936  0.098963  0.030506 -2.76634 -2.833018   \n",
      "\n",
      "         ve        vf        vl  ...        wf        wl        wu  \\\n",
      "0 -6.754758  7.303588 -0.093286  ... -0.177407 -0.128285 -0.058319   \n",
      "\n",
      "   pos_accuracy  vel_accuracy   navstat   numsats   posmode   velmode  \\\n",
      "0      0.030268      0.064494  3.927426  9.018677  5.924462  5.938848   \n",
      "\n",
      "    orimode  \n",
      "0  5.859334  \n",
      "\n",
      "[1 rows x 30 columns]\n",
      "<class 'PIL.Image.Image'>\n",
      "Frame:25\n",
      "<PIL.Image.Image image mode=RGB size=1242x375 at 0x7FA324B2C190>\n"
     ]
    },
    {
     "name": "stderr",
     "output_type": "stream",
     "text": [
      "/Users/ckvarga/Desktop/pyCarDisplay/examples/model.py:504: UserWarning: indexing with dtype torch.uint8 is now deprecated, please use a dtype torch.bool instead. (Triggered internally at  ../aten/src/ATen/native/IndexingUtils.h:30.)\n",
      "  image_boxes.append(class_decoded_locs[1 - suppress])\n",
      "/Users/ckvarga/Desktop/pyCarDisplay/examples/model.py:506: UserWarning: indexing with dtype torch.uint8 is now deprecated, please use a dtype torch.bool instead. (Triggered internally at  ../aten/src/ATen/native/IndexingUtils.h:30.)\n",
      "  image_scores.append(class_scores[1 - suppress])\n"
     ]
    },
    {
     "name": "stdout",
     "output_type": "stream",
     "text": [
      "{'annotated_image': <PIL.Image.Image image mode=RGB size=1242x375 at 0x7FA324B2C190>, 'box_info': {'text_size': [(18, 11), (18, 11), (18, 11), (18, 11), (18, 11)], 'box_location': [[168.02247619628906, 182.10987854003906, 316.4100036621094, 254.9780731201172], [9.71461296081543, 198.2723388671875, 145.76083374023438, 289.7294921875], [266.3912353515625, 179.50131225585938, 430.3936767578125, 238.6210479736328], [437.788818359375, 179.150390625, 505.0963134765625, 210.5093536376953], [328.61370849609375, 182.6838836669922, 414.2418212890625, 230.8728790283203]]}, 'detected': True}\n",
      "Object detected:5\n",
      "initialize\n",
      "start processing\n",
      "finished\n",
      "         lat       lon         alt     roll     pitch      yaw        vn  \\\n",
      "0  48.922338  8.298039  116.392449  0.12518 -0.078072 -2.48759 -3.054585   \n",
      "\n",
      "         ve        vf        vl  ...        wf        wl        wu  \\\n",
      "0 -7.455105  8.006644  0.045658  ...  0.072398 -0.043939  0.065589   \n",
      "\n",
      "   pos_accuracy  vel_accuracy   navstat   numsats   posmode   velmode  \\\n",
      "0      0.125681      0.074909  3.842978  7.927286  5.975248  5.992557   \n",
      "\n",
      "    orimode  \n",
      "0  6.062067  \n",
      "\n",
      "[1 rows x 30 columns]\n",
      "<class 'PIL.Image.Image'>\n",
      "Frame:26\n",
      "<PIL.Image.Image image mode=RGB size=1242x375 at 0x7FA3248DAF50>\n"
     ]
    },
    {
     "name": "stderr",
     "output_type": "stream",
     "text": [
      "/Users/ckvarga/Desktop/pyCarDisplay/examples/model.py:504: UserWarning: indexing with dtype torch.uint8 is now deprecated, please use a dtype torch.bool instead. (Triggered internally at  ../aten/src/ATen/native/IndexingUtils.h:30.)\n",
      "  image_boxes.append(class_decoded_locs[1 - suppress])\n",
      "/Users/ckvarga/Desktop/pyCarDisplay/examples/model.py:506: UserWarning: indexing with dtype torch.uint8 is now deprecated, please use a dtype torch.bool instead. (Triggered internally at  ../aten/src/ATen/native/IndexingUtils.h:30.)\n",
      "  image_scores.append(class_scores[1 - suppress])\n"
     ]
    },
    {
     "name": "stdout",
     "output_type": "stream",
     "text": [
      "{'annotated_image': <PIL.Image.Image image mode=RGB size=1242x375 at 0x7FA3248DAF50>, 'box_info': {'text_size': [(18, 11), (18, 11), (18, 11), (18, 11)], 'box_location': [[260.9582214355469, 180.08447265625, 420.1977233886719, 238.45265197753906], [124.07919311523438, 180.07073974609375, 291.6209716796875, 263.6015930175781], [415.72491455078125, 179.06622314453125, 498.61181640625, 211.6089630126953], [207.6735076904297, 183.61859130859375, 369.6495056152344, 246.76316833496094]]}, 'detected': True}\n",
      "Object detected:4\n",
      "initialize\n",
      "start processing\n",
      "finished\n",
      "         lat      lon         alt      roll     pitch       yaw       vn  \\\n",
      "0  49.032523  8.30001  116.467745  0.093881  0.064896 -2.638654 -4.04518   \n",
      "\n",
      "         ve         vf       vl  ...        wf        wl        wu  \\\n",
      "0 -9.629149  10.511823 -0.24561  ...  0.101546 -0.056669 -0.006846   \n",
      "\n",
      "   pos_accuracy  vel_accuracy   navstat    numsats   posmode   velmode  \\\n",
      "0      -0.01932     -0.032136  3.969083  11.022213  5.952125  6.125576   \n",
      "\n",
      "    orimode  \n",
      "0  5.910539  \n",
      "\n",
      "[1 rows x 30 columns]\n",
      "<class 'PIL.Image.Image'>\n",
      "Frame:27\n",
      "<PIL.Image.Image image mode=RGB size=1242x375 at 0x7FA324B2C510>\n"
     ]
    },
    {
     "name": "stderr",
     "output_type": "stream",
     "text": [
      "/Users/ckvarga/Desktop/pyCarDisplay/examples/model.py:504: UserWarning: indexing with dtype torch.uint8 is now deprecated, please use a dtype torch.bool instead. (Triggered internally at  ../aten/src/ATen/native/IndexingUtils.h:30.)\n",
      "  image_boxes.append(class_decoded_locs[1 - suppress])\n",
      "/Users/ckvarga/Desktop/pyCarDisplay/examples/model.py:506: UserWarning: indexing with dtype torch.uint8 is now deprecated, please use a dtype torch.bool instead. (Triggered internally at  ../aten/src/ATen/native/IndexingUtils.h:30.)\n",
      "  image_scores.append(class_scores[1 - suppress])\n"
     ]
    },
    {
     "name": "stdout",
     "output_type": "stream",
     "text": [
      "{'annotated_image': <PIL.Image.Image image mode=RGB size=1242x375 at 0x7FA324B2C510>, 'box_info': {'text_size': [(18, 11), (18, 11), (18, 11), (18, 11)], 'box_location': [[87.91827392578125, 179.34913635253906, 257.0909423828125, 272.1769714355469], [240.10055541992188, 182.4920654296875, 398.9679260253906, 243.6982879638672], [411.21875, 177.8128662109375, 483.3511047363281, 215.01528930664062], [237.7983856201172, 192.4510498046875, 330.37677001953125, 248.50599670410156]]}, 'detected': True}\n",
      "Object detected:4\n",
      "initialize\n",
      "start processing\n",
      "finished\n",
      "        lat       lon         alt      roll   pitch       yaw        vn  \\\n",
      "0  48.99609  8.389655  116.581305  0.057422  0.1166 -2.882212 -4.434739   \n",
      "\n",
      "         ve         vf       vl  ...        wf        wl       wu  \\\n",
      "0 -9.960559  11.003176  0.01328  ... -0.134683 -0.089382 -0.12529   \n",
      "\n",
      "   pos_accuracy  vel_accuracy   navstat   numsats   posmode   velmode  \\\n",
      "0     -0.049873      0.007845  4.023421  11.15505  5.900165  6.098432   \n",
      "\n",
      "    orimode  \n",
      "0  5.978601  \n",
      "\n",
      "[1 rows x 30 columns]\n",
      "<class 'PIL.Image.Image'>\n",
      "Frame:28\n",
      "<PIL.Image.Image image mode=RGB size=1242x375 at 0x7FA3246EFCD0>\n"
     ]
    },
    {
     "name": "stderr",
     "output_type": "stream",
     "text": [
      "/Users/ckvarga/Desktop/pyCarDisplay/examples/model.py:504: UserWarning: indexing with dtype torch.uint8 is now deprecated, please use a dtype torch.bool instead. (Triggered internally at  ../aten/src/ATen/native/IndexingUtils.h:30.)\n",
      "  image_boxes.append(class_decoded_locs[1 - suppress])\n",
      "/Users/ckvarga/Desktop/pyCarDisplay/examples/model.py:506: UserWarning: indexing with dtype torch.uint8 is now deprecated, please use a dtype torch.bool instead. (Triggered internally at  ../aten/src/ATen/native/IndexingUtils.h:30.)\n",
      "  image_scores.append(class_scores[1 - suppress])\n"
     ]
    },
    {
     "name": "stdout",
     "output_type": "stream",
     "text": [
      "{'annotated_image': <PIL.Image.Image image mode=RGB size=1242x375 at 0x7FA3246EFCD0>, 'box_info': {'text_size': [(18, 11), (18, 11), (18, 11), (18, 11), (18, 11)], 'box_location': [[21.895038604736328, 178.01971435546875, 223.8868865966797, 287.0206298828125], [213.933837890625, 186.11737060546875, 383.7585144042969, 245.78248596191406], [398.5434265136719, 177.77162170410156, 483.3660583496094, 216.03060913085938], [55.716949462890625, 179.43064880371094, 216.97601318359375, 239.8036346435547], [206.72039794921875, 194.3566131591797, 303.9747314453125, 254.9373016357422]]}, 'detected': True}\n",
      "Object detected:5\n",
      "initialize\n",
      "start processing\n",
      "finished\n",
      "         lat       lon         alt      roll     pitch       yaw        vn  \\\n",
      "0  49.009799  8.500999  116.328333  0.069566  0.025513 -2.699827 -4.010199   \n",
      "\n",
      "         ve         vf        vl  ...        wf        wl        wu  \\\n",
      "0 -9.291839  10.293353 -0.129989  ...  0.021356 -0.145901  0.142942   \n",
      "\n",
      "   pos_accuracy  vel_accuracy  navstat   numsats   posmode   velmode  orimode  \n",
      "0      0.206495     -0.049965  3.96123  9.028587  6.033446  6.065854  6.20102  \n",
      "\n",
      "[1 rows x 30 columns]\n",
      "<class 'PIL.Image.Image'>\n",
      "Frame:29\n",
      "<PIL.Image.Image image mode=RGB size=1242x375 at 0x7FA36A379250>\n"
     ]
    },
    {
     "name": "stderr",
     "output_type": "stream",
     "text": [
      "/Users/ckvarga/Desktop/pyCarDisplay/examples/model.py:504: UserWarning: indexing with dtype torch.uint8 is now deprecated, please use a dtype torch.bool instead. (Triggered internally at  ../aten/src/ATen/native/IndexingUtils.h:30.)\n",
      "  image_boxes.append(class_decoded_locs[1 - suppress])\n",
      "/Users/ckvarga/Desktop/pyCarDisplay/examples/model.py:506: UserWarning: indexing with dtype torch.uint8 is now deprecated, please use a dtype torch.bool instead. (Triggered internally at  ../aten/src/ATen/native/IndexingUtils.h:30.)\n",
      "  image_scores.append(class_scores[1 - suppress])\n"
     ]
    },
    {
     "name": "stdout",
     "output_type": "stream",
     "text": [
      "{'annotated_image': <PIL.Image.Image image mode=RGB size=1242x375 at 0x7FA36A379250>, 'box_info': {'text_size': [(18, 11), (18, 11), (18, 11), (18, 11)], 'box_location': [[-1.8716559410095215, 184.9368438720703, 193.5353546142578, 301.1668395996094], [389.35546875, 179.2700653076172, 475.7727355957031, 217.4683837890625], [175.28338623046875, 196.45811462402344, 331.6248779296875, 260.3898010253906], [208.99172973632812, 183.42897033691406, 379.8178405761719, 249.1681365966797]]}, 'detected': True}\n",
      "Object detected:4\n",
      "initialize\n",
      "start processing\n",
      "finished\n",
      "         lat       lon         alt      roll     pitch       yaw        vn  \\\n",
      "0  48.997074  8.353769  116.293396 -0.037348  0.009915 -2.559192 -4.423538   \n",
      "\n",
      "         ve         vf        vl  ...        wf        wl        wu  \\\n",
      "0 -9.940927  10.878158  0.018396  ...  0.073914  0.046689  0.082979   \n",
      "\n",
      "   pos_accuracy  vel_accuracy   navstat    numsats   posmode   velmode  \\\n",
      "0      0.143837       0.14953  4.064871  10.983288  6.014671  6.120651   \n",
      "\n",
      "    orimode  \n",
      "0  5.918306  \n",
      "\n",
      "[1 rows x 30 columns]\n",
      "<class 'PIL.Image.Image'>\n"
     ]
    },
    {
     "ename": "TclError",
     "evalue": "invalid command name \".!toplevel.!frame6.!entry\"",
     "output_type": "error",
     "traceback": [
      "\u001b[0;31m---------------------------------------------------------------------------\u001b[0m",
      "\u001b[0;31mTclError\u001b[0m                                  Traceback (most recent call last)",
      "\u001b[0;32m<ipython-input-3-d1d1871a40c6>\u001b[0m in \u001b[0;36m<module>\u001b[0;34m\u001b[0m\n\u001b[0;32m----> 1\u001b[0;31m \u001b[0mdisplay\u001b[0m\u001b[0;34m.\u001b[0m\u001b[0mstart\u001b[0m\u001b[0;34m(\u001b[0m\u001b[0mverbose\u001b[0m\u001b[0;34m=\u001b[0m\u001b[0;32mTrue\u001b[0m\u001b[0;34m)\u001b[0m\u001b[0;34m\u001b[0m\u001b[0;34m\u001b[0m\u001b[0m\n\u001b[0m",
      "\u001b[0;32m~/opt/anaconda3/lib/python3.7/site-packages/pyCarDisplay-0.0.0-py3.7.egg/pyCarDisplay/pyCarDisplay.py\u001b[0m in \u001b[0;36mstart\u001b[0;34m(self, **parameters)\u001b[0m\n\u001b[1;32m     26\u001b[0m \u001b[0;34m\u001b[0m\u001b[0m\n\u001b[1;32m     27\u001b[0m         \u001b[0;31m# TODO: Perform any parameter/path checks here\u001b[0m\u001b[0;34m\u001b[0m\u001b[0;34m\u001b[0m\u001b[0;34m\u001b[0m\u001b[0m\n\u001b[0;32m---> 28\u001b[0;31m         \u001b[0mself\u001b[0m\u001b[0;34m.\u001b[0m\u001b[0mcar\u001b[0m\u001b[0;34m.\u001b[0m\u001b[0mrun\u001b[0m\u001b[0;34m(\u001b[0m\u001b[0;34m**\u001b[0m\u001b[0mparameters\u001b[0m\u001b[0;34m)\u001b[0m\u001b[0;34m\u001b[0m\u001b[0;34m\u001b[0m\u001b[0m\n\u001b[0m\u001b[1;32m     29\u001b[0m \u001b[0;34m\u001b[0m\u001b[0m\n\u001b[1;32m     30\u001b[0m     \u001b[0;32mdef\u001b[0m \u001b[0mget_params\u001b[0m\u001b[0;34m(\u001b[0m\u001b[0mself\u001b[0m\u001b[0;34m)\u001b[0m\u001b[0;34m:\u001b[0m\u001b[0;34m\u001b[0m\u001b[0;34m\u001b[0m\u001b[0m\n",
      "\u001b[0;32m~/opt/anaconda3/lib/python3.7/site-packages/pyCarDisplay-0.0.0-py3.7.egg/pyCarDisplay/car.py\u001b[0m in \u001b[0;36mrun\u001b[0;34m(self, verbose)\u001b[0m\n\u001b[1;32m    177\u001b[0m                 \u001b[0;34m{\u001b[0m\u001b[0;34m'data'\u001b[0m\u001b[0;34m:\u001b[0m\u001b[0;34m[\u001b[0m\u001b[0;36m45.456\u001b[0m\u001b[0;34m]\u001b[0m\u001b[0;34m}\u001b[0m\u001b[0;34m,\u001b[0m\u001b[0;34m\u001b[0m\u001b[0;34m\u001b[0m\u001b[0m\n\u001b[1;32m    178\u001b[0m                 \u001b[0mcurr_frame\u001b[0m\u001b[0;34m,\u001b[0m\u001b[0;34m\u001b[0m\u001b[0;34m\u001b[0m\u001b[0m\n\u001b[0;32m--> 179\u001b[0;31m                 \u001b[0mself\u001b[0m\u001b[0;34m.\u001b[0m\u001b[0mverbose\u001b[0m\u001b[0;34m\u001b[0m\u001b[0;34m\u001b[0m\u001b[0m\n\u001b[0m\u001b[1;32m    180\u001b[0m             )\n\u001b[1;32m    181\u001b[0m \u001b[0;34m\u001b[0m\u001b[0m\n",
      "\u001b[0;32m~/opt/anaconda3/lib/python3.7/site-packages/pyCarDisplay-0.0.0-py3.7.egg/pyCarDisplay/utils/display_api.py\u001b[0m in \u001b[0;36mplay\u001b[0;34m(self, annotated_image, cropped_depth_images, imu_data, kalman_imu_data, frame, verbose)\u001b[0m\n\u001b[1;32m    119\u001b[0m \u001b[0;34m\u001b[0m\u001b[0m\n\u001b[1;32m    120\u001b[0m         \u001b[0;31m# current Speed and Kalman speed updated with api data\u001b[0m\u001b[0;34m\u001b[0m\u001b[0;34m\u001b[0m\u001b[0;34m\u001b[0m\u001b[0m\n\u001b[0;32m--> 121\u001b[0;31m         \u001b[0mself\u001b[0m\u001b[0;34m.\u001b[0m\u001b[0mgrid_update\u001b[0m\u001b[0;34m(\u001b[0m\u001b[0mimu_data\u001b[0m\u001b[0;34m,\u001b[0m \u001b[0mkalman_imu_data\u001b[0m\u001b[0;34m)\u001b[0m\u001b[0;34m\u001b[0m\u001b[0;34m\u001b[0m\u001b[0m\n\u001b[0m\u001b[1;32m    122\u001b[0m         \u001b[0;31m#self.update_window(\"0,3\", str(frame))\u001b[0m\u001b[0;34m\u001b[0m\u001b[0;34m\u001b[0m\u001b[0;34m\u001b[0m\u001b[0m\n\u001b[1;32m    123\u001b[0m \u001b[0;34m\u001b[0m\u001b[0m\n",
      "\u001b[0;32m~/opt/anaconda3/lib/python3.7/site-packages/pyCarDisplay-0.0.0-py3.7.egg/pyCarDisplay/utils/display_api.py\u001b[0m in \u001b[0;36mgrid_update\u001b[0;34m(self, imu_data, kalman_imu_data)\u001b[0m\n\u001b[1;32m     49\u001b[0m                     \u001b[0mdf\u001b[0m \u001b[0;34m=\u001b[0m \u001b[0mdf\u001b[0m\u001b[0;34m.\u001b[0m\u001b[0mT\u001b[0m\u001b[0;34m\u001b[0m\u001b[0;34m\u001b[0m\u001b[0m\n\u001b[1;32m     50\u001b[0m             \u001b[0;32mfor\u001b[0m \u001b[0mcol\u001b[0m\u001b[0;34m,\u001b[0m \u001b[0mentry\u001b[0m \u001b[0;32min\u001b[0m \u001b[0menumerate\u001b[0m\u001b[0;34m(\u001b[0m\u001b[0mlist\u001b[0m\u001b[0;34m(\u001b[0m\u001b[0mdf\u001b[0m\u001b[0;34m.\u001b[0m\u001b[0miloc\u001b[0m\u001b[0;34m[\u001b[0m\u001b[0;36m0\u001b[0m\u001b[0;34m]\u001b[0m\u001b[0;34m.\u001b[0m\u001b[0mvalues\u001b[0m\u001b[0;34m)\u001b[0m\u001b[0;34m)\u001b[0m\u001b[0;34m:\u001b[0m\u001b[0;34m\u001b[0m\u001b[0;34m\u001b[0m\u001b[0m\n\u001b[0;32m---> 51\u001b[0;31m                 \u001b[0mself\u001b[0m\u001b[0;34m.\u001b[0m\u001b[0mupdate_window\u001b[0m\u001b[0;34m(\u001b[0m\u001b[0mstr\u001b[0m\u001b[0;34m(\u001b[0m\u001b[0mrow\u001b[0m\u001b[0;34m)\u001b[0m \u001b[0;34m+\u001b[0m \u001b[0;34m\",\"\u001b[0m \u001b[0;34m+\u001b[0m \u001b[0mstr\u001b[0m\u001b[0;34m(\u001b[0m\u001b[0mcol\u001b[0m\u001b[0;34m)\u001b[0m\u001b[0;34m,\u001b[0m \u001b[0mround\u001b[0m\u001b[0;34m(\u001b[0m\u001b[0mentry\u001b[0m\u001b[0;34m,\u001b[0m\u001b[0;36m2\u001b[0m\u001b[0;34m)\u001b[0m\u001b[0;34m)\u001b[0m\u001b[0;34m\u001b[0m\u001b[0;34m\u001b[0m\u001b[0m\n\u001b[0m\u001b[1;32m     52\u001b[0m \u001b[0;34m\u001b[0m\u001b[0m\n\u001b[1;32m     53\u001b[0m \u001b[0;34m\u001b[0m\u001b[0m\n",
      "\u001b[0;32m~/opt/anaconda3/lib/python3.7/site-packages/pyCarDisplay-0.0.0-py3.7.egg/pyCarDisplay/utils/display_api.py\u001b[0m in \u001b[0;36mupdate_window\u001b[0;34m(self, key, data1, data2)\u001b[0m\n\u001b[1;32m     27\u001b[0m             \u001b[0mself\u001b[0m\u001b[0;34m.\u001b[0m\u001b[0mwindow\u001b[0m\u001b[0;34m.\u001b[0m\u001b[0mFindElement\u001b[0m\u001b[0;34m(\u001b[0m\u001b[0mkey\u001b[0m\u001b[0;34m)\u001b[0m\u001b[0;34m.\u001b[0m\u001b[0mUpdate\u001b[0m\u001b[0;34m(\u001b[0m\u001b[0mdata\u001b[0m\u001b[0;34m=\u001b[0m\u001b[0mdata1\u001b[0m\u001b[0;34m,\u001b[0m \u001b[0msize\u001b[0m\u001b[0;34m=\u001b[0m\u001b[0mdata2\u001b[0m\u001b[0;34m)\u001b[0m\u001b[0;34m\u001b[0m\u001b[0;34m\u001b[0m\u001b[0m\n\u001b[1;32m     28\u001b[0m         \u001b[0;32melse\u001b[0m\u001b[0;34m:\u001b[0m\u001b[0;34m\u001b[0m\u001b[0;34m\u001b[0m\u001b[0m\n\u001b[0;32m---> 29\u001b[0;31m             \u001b[0mself\u001b[0m\u001b[0;34m.\u001b[0m\u001b[0mwindow\u001b[0m\u001b[0;34m.\u001b[0m\u001b[0mFindElement\u001b[0m\u001b[0;34m(\u001b[0m\u001b[0mkey\u001b[0m\u001b[0;34m)\u001b[0m\u001b[0;34m.\u001b[0m\u001b[0mUpdate\u001b[0m\u001b[0;34m(\u001b[0m\u001b[0mdata1\u001b[0m\u001b[0;34m)\u001b[0m\u001b[0;34m\u001b[0m\u001b[0;34m\u001b[0m\u001b[0m\n\u001b[0m\u001b[1;32m     30\u001b[0m \u001b[0;34m\u001b[0m\u001b[0m\n\u001b[1;32m     31\u001b[0m     \u001b[0;32mdef\u001b[0m \u001b[0mdepth_images_update\u001b[0m\u001b[0;34m(\u001b[0m\u001b[0mself\u001b[0m\u001b[0;34m,\u001b[0m \u001b[0mcropped_depth_images\u001b[0m\u001b[0;34m)\u001b[0m\u001b[0;34m:\u001b[0m\u001b[0;34m\u001b[0m\u001b[0;34m\u001b[0m\u001b[0m\n",
      "\u001b[0;32m~/opt/anaconda3/lib/python3.7/site-packages/PySimpleGUI-4.37.0-py3.7.egg/PySimpleGUI/PySimpleGUI.py\u001b[0m in \u001b[0;36mupdate\u001b[0;34m(self, value, disabled, select, visible, text_color, background_color, move_cursor_to, password_char)\u001b[0m\n\u001b[1;32m   1441\u001b[0m             \u001b[0mself\u001b[0m\u001b[0;34m.\u001b[0m\u001b[0mDefaultText\u001b[0m \u001b[0;34m=\u001b[0m \u001b[0mvalue\u001b[0m\u001b[0;34m\u001b[0m\u001b[0;34m\u001b[0m\u001b[0m\n\u001b[1;32m   1442\u001b[0m             \u001b[0;32mif\u001b[0m \u001b[0mmove_cursor_to\u001b[0m \u001b[0;34m==\u001b[0m \u001b[0;34m'end'\u001b[0m\u001b[0;34m:\u001b[0m\u001b[0;34m\u001b[0m\u001b[0;34m\u001b[0m\u001b[0m\n\u001b[0;32m-> 1443\u001b[0;31m                 \u001b[0mself\u001b[0m\u001b[0;34m.\u001b[0m\u001b[0mTKEntry\u001b[0m\u001b[0;34m.\u001b[0m\u001b[0micursor\u001b[0m\u001b[0;34m(\u001b[0m\u001b[0mtk\u001b[0m\u001b[0;34m.\u001b[0m\u001b[0mEND\u001b[0m\u001b[0;34m)\u001b[0m\u001b[0;34m\u001b[0m\u001b[0;34m\u001b[0m\u001b[0m\n\u001b[0m\u001b[1;32m   1444\u001b[0m             \u001b[0;32melif\u001b[0m \u001b[0mmove_cursor_to\u001b[0m \u001b[0;32mis\u001b[0m \u001b[0;32mnot\u001b[0m \u001b[0;32mNone\u001b[0m\u001b[0;34m:\u001b[0m\u001b[0;34m\u001b[0m\u001b[0;34m\u001b[0m\u001b[0m\n\u001b[1;32m   1445\u001b[0m                 \u001b[0mself\u001b[0m\u001b[0;34m.\u001b[0m\u001b[0mTKEntry\u001b[0m\u001b[0;34m.\u001b[0m\u001b[0micursor\u001b[0m\u001b[0;34m(\u001b[0m\u001b[0mmove_cursor_to\u001b[0m\u001b[0;34m)\u001b[0m\u001b[0;34m\u001b[0m\u001b[0;34m\u001b[0m\u001b[0m\n",
      "\u001b[0;32m~/opt/anaconda3/lib/python3.7/tkinter/__init__.py\u001b[0m in \u001b[0;36micursor\u001b[0;34m(self, index)\u001b[0m\n\u001b[1;32m   2683\u001b[0m     \u001b[0;32mdef\u001b[0m \u001b[0micursor\u001b[0m\u001b[0;34m(\u001b[0m\u001b[0mself\u001b[0m\u001b[0;34m,\u001b[0m \u001b[0mindex\u001b[0m\u001b[0;34m)\u001b[0m\u001b[0;34m:\u001b[0m\u001b[0;34m\u001b[0m\u001b[0;34m\u001b[0m\u001b[0m\n\u001b[1;32m   2684\u001b[0m         \u001b[0;34m\"\"\"Insert cursor at INDEX.\"\"\"\u001b[0m\u001b[0;34m\u001b[0m\u001b[0;34m\u001b[0m\u001b[0m\n\u001b[0;32m-> 2685\u001b[0;31m         \u001b[0mself\u001b[0m\u001b[0;34m.\u001b[0m\u001b[0mtk\u001b[0m\u001b[0;34m.\u001b[0m\u001b[0mcall\u001b[0m\u001b[0;34m(\u001b[0m\u001b[0mself\u001b[0m\u001b[0;34m.\u001b[0m\u001b[0m_w\u001b[0m\u001b[0;34m,\u001b[0m \u001b[0;34m'icursor'\u001b[0m\u001b[0;34m,\u001b[0m \u001b[0mindex\u001b[0m\u001b[0;34m)\u001b[0m\u001b[0;34m\u001b[0m\u001b[0;34m\u001b[0m\u001b[0m\n\u001b[0m\u001b[1;32m   2686\u001b[0m     \u001b[0;32mdef\u001b[0m \u001b[0mindex\u001b[0m\u001b[0;34m(\u001b[0m\u001b[0mself\u001b[0m\u001b[0;34m,\u001b[0m \u001b[0mindex\u001b[0m\u001b[0;34m)\u001b[0m\u001b[0;34m:\u001b[0m\u001b[0;34m\u001b[0m\u001b[0;34m\u001b[0m\u001b[0m\n\u001b[1;32m   2687\u001b[0m         \u001b[0;34m\"\"\"Return position of cursor.\"\"\"\u001b[0m\u001b[0;34m\u001b[0m\u001b[0;34m\u001b[0m\u001b[0m\n",
      "\u001b[0;31mTclError\u001b[0m: invalid command name \".!toplevel.!frame6.!entry\""
     ]
    }
   ],
   "source": [
    "display.start(verbose=True)"
   ]
  },
  {
   "cell_type": "code",
   "execution_count": null,
   "metadata": {},
   "outputs": [],
   "source": []
  },
  {
   "cell_type": "code",
   "execution_count": null,
   "metadata": {},
   "outputs": [],
   "source": []
  }
 ],
 "metadata": {
  "kernelspec": {
   "display_name": "Python 3",
   "language": "python",
   "name": "python3"
  },
  "language_info": {
   "codemirror_mode": {
    "name": "ipython",
    "version": 3
   },
   "file_extension": ".py",
   "mimetype": "text/x-python",
   "name": "python",
   "nbconvert_exporter": "python",
   "pygments_lexer": "ipython3",
   "version": "3.7.4"
  }
 },
 "nbformat": 4,
 "nbformat_minor": 4
}
