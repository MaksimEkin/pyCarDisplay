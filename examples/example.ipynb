{
 "cells": [
  {
   "cell_type": "code",
   "execution_count": 1,
   "metadata": {},
   "outputs": [],
   "source": [
    "from pyCarDisplay.pyCarDisplay import CarDisplay"
   ]
  },
  {
   "cell_type": "code",
   "execution_count": 2,
   "metadata": {},
   "outputs": [
    {
     "name": "stdout",
     "output_type": "stream",
     "text": [
      "Car configurations:\n",
      "car_images_path = ../data/2011_09_26/2011_09_26_drive_0002_sync/image_02/data/\n",
      "imu_sensor_path = ../data/2011_09_26/2011_09_26_drive_0002_sync/oxts/data/\n",
      "lidar_sensor_path = ../data/2011_09_26/2011_09_26_drive_0002_sync/velodyne_points/dat/a\n",
      "object_detection_model_path = ../data/checkpoint_ssd300.pth.tar\n",
      "depth_detection_model_path = heh\n",
      "img_resize_size = (300, 300)\n",
      "norm_mean = [0.485, 0.456, 0.406]\n",
      "norm_std = [0.229, 0.224, 0.225]\n",
      "R_covariance = 0.1\n",
      "add_noise = True\n",
      "IMU_names = None\n",
      "gui_speed = 1\n",
      "random_state = 42\n",
      "image_extension = png\n",
      "verbose = True\n",
      "Object detection is using: cpu\n",
      "Object detection API is loading the model: ../data/checkpoint_ssd300.pth.tar\n",
      "\n",
      "Loaded checkpoint from epoch 232.\n",
      "\n",
      "Loading the IMU data...\n"
     ]
    },
    {
     "name": "stderr",
     "output_type": "stream",
     "text": [
      "/opt/anaconda3/envs/pycardisplay/lib/python3.8/site-packages/torch/serialization.py:656: SourceChangeWarning: source code of class 'torch.nn.modules.conv.Conv2d' has changed. you can retrieve the original source code by accessing the object's source attribute or set `torch.nn.Module.dump_patches = True` and use the patch tool to revert the changes.\n",
      "  warnings.warn(msg, SourceChangeWarning)\n",
      "/opt/anaconda3/envs/pycardisplay/lib/python3.8/site-packages/torch/serialization.py:656: SourceChangeWarning: source code of class 'torch.nn.modules.pooling.MaxPool2d' has changed. you can retrieve the original source code by accessing the object's source attribute or set `torch.nn.Module.dump_patches = True` and use the patch tool to revert the changes.\n",
      "  warnings.warn(msg, SourceChangeWarning)\n"
     ]
    },
    {
     "name": "stdout",
     "output_type": "stream",
     "text": [
      "<class 'pandas.core.frame.DataFrame'>\n",
      "Int64Index: 77 entries, 0 to 0\n",
      "Data columns (total 31 columns):\n",
      " #   Column        Non-Null Count  Dtype  \n",
      "---  ------        --------------  -----  \n",
      " 0   lat           77 non-null     float64\n",
      " 1   lon           77 non-null     float64\n",
      " 2   alt           77 non-null     float64\n",
      " 3   roll          77 non-null     float64\n",
      " 4   pitch         77 non-null     float64\n",
      " 5   yaw           77 non-null     float64\n",
      " 6   vn            77 non-null     float64\n",
      " 7   ve            77 non-null     float64\n",
      " 8   vf            77 non-null     float64\n",
      " 9   vl            77 non-null     float64\n",
      " 10  vu            77 non-null     float64\n",
      " 11  ax            77 non-null     float64\n",
      " 12  ay            77 non-null     float64\n",
      " 13  az            77 non-null     float64\n",
      " 14  af            77 non-null     float64\n",
      " 15  al            77 non-null     float64\n",
      " 16  au            77 non-null     float64\n",
      " 17  wx            77 non-null     float64\n",
      " 18  wy            77 non-null     float64\n",
      " 19  wz            77 non-null     float64\n",
      " 20  wf            77 non-null     float64\n",
      " 21  wl            77 non-null     float64\n",
      " 22  wu            77 non-null     float64\n",
      " 23  pos_accuracy  77 non-null     float64\n",
      " 24  vel_accuracy  77 non-null     float64\n",
      " 25  navstat       77 non-null     int64  \n",
      " 26  numsats       77 non-null     int64  \n",
      " 27  posmode       77 non-null     int64  \n",
      " 28  velmode       77 non-null     int64  \n",
      " 29  orimode       77 non-null     int64  \n",
      " 30  frame         77 non-null     int64  \n",
      "dtypes: float64(25), int64(6)\n",
      "memory usage: 19.2 KB\n",
      "None\n",
      "Initilized IMU\n",
      "Current frame:0\n",
      "Total number of frames:77\n",
      "Total image frames loaded:77\n"
     ]
    }
   ],
   "source": [
    "display = CarDisplay(\n",
    "    car_images_path=\"../data/2011_09_26/2011_09_26_drive_0002_sync/image_02/data/\", \n",
    "    imu_sensor_path='../data/2011_09_26/2011_09_26_drive_0002_sync/oxts/data/',\n",
    "    lidar_sensor_path='../data/2011_09_26/2011_09_26_drive_0002_sync/velodyne_points/dat/a',\n",
    "    object_detection_model_path='../data/checkpoint_ssd300.pth.tar',\n",
    "    depth_detection_model_path='heh',\n",
    "    verbose=True\n",
    ")\n"
   ]
  },
  {
   "cell_type": "code",
   "execution_count": null,
   "metadata": {},
   "outputs": [],
   "source": []
  }
 ],
 "metadata": {
  "kernelspec": {
   "display_name": "Python 3",
   "language": "python",
   "name": "python3"
  },
  "language_info": {
   "codemirror_mode": {
    "name": "ipython",
    "version": 3
   },
   "file_extension": ".py",
   "mimetype": "text/x-python",
   "name": "python",
   "nbconvert_exporter": "python",
   "pygments_lexer": "ipython3",
   "version": "3.8.5"
  }
 },
 "nbformat": 4,
 "nbformat_minor": 4
}
