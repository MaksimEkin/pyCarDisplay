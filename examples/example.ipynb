{
 "cells": [
  {
   "cell_type": "code",
   "execution_count": 1,
   "metadata": {},
   "outputs": [],
   "source": [
    "from pyCarDisplay.pyCarDisplay import CarDisplay"
   ]
  },
  {
   "cell_type": "code",
   "execution_count": null,
   "metadata": {},
   "outputs": [
    {
     "name": "stdout",
     "output_type": "stream",
     "text": [
      "Car configurations:\n",
      "car_images_path = ../data/2011_09_26/2011_09_26_drive_0002_sync/image_02/data/\n",
      "imu_sensor_path = ../data/2011_09_26/2011_09_26_drive_0002_sync/oxts/data/\n",
      "lidar_sensor_path = ../data/2011_09_26/2011_09_26_drive_0002_sync/velodyne_points/dat/a\n",
      "object_detection_model_path = ../data/checkpoint_ssd300.pth.tar\n",
      "depth_detection_model_path = ../data/model-f6b98070.pt\n",
      "img_resize_size = (300, 300)\n",
      "norm_mean = [0.485, 0.456, 0.406]\n",
      "norm_std = [0.229, 0.224, 0.225]\n",
      "R_covariance = 0.1\n",
      "add_noise = True\n",
      "IMU_name = None\n",
      "gui_speed = 1\n",
      "random_state = 42\n",
      "image_extension = png\n",
      "verbose = True\n",
      "Object detection is using: cpu\n",
      "Object detection API is loading the model: ../data/checkpoint_ssd300.pth.tar\n",
      "\n",
      "Loaded checkpoint from epoch 232.\n",
      "\n",
      "device: cpu\n",
      "Loading weights:  ../data/model-f6b98070.pt\n"
     ]
    },
    {
     "name": "stderr",
     "output_type": "stream",
     "text": [
      "/opt/anaconda3/envs/pyCarDisplay/lib/python3.8/site-packages/torch-1.8.0-py3.8-macosx-10.9-x86_64.egg/torch/serialization.py:656: SourceChangeWarning: source code of class 'torch.nn.modules.conv.Conv2d' has changed. you can retrieve the original source code by accessing the object's source attribute or set `torch.nn.Module.dump_patches = True` and use the patch tool to revert the changes.\n",
      "  warnings.warn(msg, SourceChangeWarning)\n",
      "/opt/anaconda3/envs/pyCarDisplay/lib/python3.8/site-packages/torch-1.8.0-py3.8-macosx-10.9-x86_64.egg/torch/serialization.py:656: SourceChangeWarning: source code of class 'torch.nn.modules.pooling.MaxPool2d' has changed. you can retrieve the original source code by accessing the object's source attribute or set `torch.nn.Module.dump_patches = True` and use the patch tool to revert the changes.\n",
      "  warnings.warn(msg, SourceChangeWarning)\n",
      "Downloading: \"https://github.com/facebookresearch/WSL-Images/archive/master.zip\" to /Users/maksimekineren/.cache/torch/hub/master.zip\n",
      "Downloading: \"https://download.pytorch.org/models/ig_resnext101_32x8-c38310e5.pth\" to /Users/maksimekineren/.cache/torch/hub/checkpoints/ig_resnext101_32x8-c38310e5.pth\n",
      "99.3%"
     ]
    }
   ],
   "source": [
    "display = CarDisplay(\n",
    "    car_images_path=\"../data/2011_09_26/2011_09_26_drive_0002_sync/image_02/data/\", \n",
    "    imu_sensor_path='../data/2011_09_26/2011_09_26_drive_0002_sync/oxts/data/',\n",
    "    lidar_sensor_path='../data/2011_09_26/2011_09_26_drive_0002_sync/velodyne_points/dat/a',\n",
    "    object_detection_model_path='../data/checkpoint_ssd300.pth.tar',\n",
    "    depth_detection_model_path='../data/model-f6b98070.pt',\n",
    "    verbose=True,\n",
    ")"
   ]
  },
  {
   "cell_type": "code",
   "execution_count": 4,
   "metadata": {},
   "outputs": [
    {
     "name": "stdout",
     "output_type": "stream",
     "text": [
      "Frame:0\n",
      "<PIL.Image.Image image mode=RGB size=1242x375 at 0x7FE983029B50>\n"
     ]
    },
    {
     "name": "stderr",
     "output_type": "stream",
     "text": [
      "/Users/ckvarga/Desktop/pyCarDisplay/examples/model.py:504: UserWarning: indexing with dtype torch.uint8 is now deprecated, please use a dtype torch.bool instead. (Triggered internally at  ../aten/src/ATen/native/IndexingUtils.h:30.)\n",
      "  image_boxes.append(class_decoded_locs[1 - suppress])\n",
      "/Users/ckvarga/Desktop/pyCarDisplay/examples/model.py:506: UserWarning: indexing with dtype torch.uint8 is now deprecated, please use a dtype torch.bool instead. (Triggered internally at  ../aten/src/ATen/native/IndexingUtils.h:30.)\n",
      "  image_scores.append(class_scores[1 - suppress])\n",
      "/Users/ckvarga/Desktop/pyCarDisplay/examples/model.py:504: UserWarning: indexing with dtype torch.uint8 is now deprecated, please use a dtype torch.bool instead. (Triggered internally at  ../aten/src/ATen/native/IndexingUtils.h:30.)\n",
      "  image_boxes.append(class_decoded_locs[1 - suppress])\n",
      "/Users/ckvarga/Desktop/pyCarDisplay/examples/model.py:506: UserWarning: indexing with dtype torch.uint8 is now deprecated, please use a dtype torch.bool instead. (Triggered internally at  ../aten/src/ATen/native/IndexingUtils.h:30.)\n",
      "  image_scores.append(class_scores[1 - suppress])\n",
      "/Users/ckvarga/Desktop/pyCarDisplay/examples/model.py:504: UserWarning: indexing with dtype torch.uint8 is now deprecated, please use a dtype torch.bool instead. (Triggered internally at  ../aten/src/ATen/native/IndexingUtils.h:30.)\n",
      "  image_boxes.append(class_decoded_locs[1 - suppress])\n",
      "/Users/ckvarga/Desktop/pyCarDisplay/examples/model.py:506: UserWarning: indexing with dtype torch.uint8 is now deprecated, please use a dtype torch.bool instead. (Triggered internally at  ../aten/src/ATen/native/IndexingUtils.h:30.)\n",
      "  image_scores.append(class_scores[1 - suppress])\n"
     ]
    },
    {
     "name": "stdout",
     "output_type": "stream",
     "text": [
      "{'annotated_image': <PIL.Image.Image image mode=RGB size=1242x375 at 0x7FE983029B50>, 'box_info': {'text_size': [(42, 11), (18, 11), (36, 11), (36, 11)], 'box_location': [[1055.734619140625, 202.07749938964844, 1192.4129638671875, 285.2716064453125], [52.05858612060547, 187.84808349609375, 111.679443359375, 202.04779052734375], [745.234130859375, 175.86146545410156, 783.0155639648438, 228.64988708496094], [1048.40673828125, 163.9515380859375, 1155.3177490234375, 262.4689025878906]]}, 'detected': True}\n",
      "Object detected:4\n",
      "initialize\n"
     ]
    },
    {
     "ename": "NameError",
     "evalue": "name 'net_h' is not defined",
     "output_type": "error",
     "traceback": [
      "\u001b[0;31m---------------------------------------------------------------------------\u001b[0m",
      "\u001b[0;31mNameError\u001b[0m                                 Traceback (most recent call last)",
      "\u001b[0;32m<ipython-input-4-d1d1871a40c6>\u001b[0m in \u001b[0;36m<module>\u001b[0;34m\u001b[0m\n\u001b[0;32m----> 1\u001b[0;31m \u001b[0mdisplay\u001b[0m\u001b[0;34m.\u001b[0m\u001b[0mstart\u001b[0m\u001b[0;34m(\u001b[0m\u001b[0mverbose\u001b[0m\u001b[0;34m=\u001b[0m\u001b[0;32mTrue\u001b[0m\u001b[0;34m)\u001b[0m\u001b[0;34m\u001b[0m\u001b[0;34m\u001b[0m\u001b[0m\n\u001b[0m",
      "\u001b[0;32m~/opt/anaconda3/lib/python3.7/site-packages/pyCarDisplay-0.0.0-py3.7.egg/pyCarDisplay/pyCarDisplay.py\u001b[0m in \u001b[0;36mstart\u001b[0;34m(self, **parameters)\u001b[0m\n\u001b[1;32m     17\u001b[0m \u001b[0;34m\u001b[0m\u001b[0m\n\u001b[1;32m     18\u001b[0m         \u001b[0;31m# TODO: Perform any parameter/path checks here\u001b[0m\u001b[0;34m\u001b[0m\u001b[0;34m\u001b[0m\u001b[0;34m\u001b[0m\u001b[0m\n\u001b[0;32m---> 19\u001b[0;31m         \u001b[0mself\u001b[0m\u001b[0;34m.\u001b[0m\u001b[0mcar\u001b[0m\u001b[0;34m.\u001b[0m\u001b[0mrun\u001b[0m\u001b[0;34m(\u001b[0m\u001b[0;34m**\u001b[0m\u001b[0mparameters\u001b[0m\u001b[0;34m)\u001b[0m\u001b[0;34m\u001b[0m\u001b[0;34m\u001b[0m\u001b[0m\n\u001b[0m\u001b[1;32m     20\u001b[0m \u001b[0;34m\u001b[0m\u001b[0m\n\u001b[1;32m     21\u001b[0m     \u001b[0;32mdef\u001b[0m \u001b[0mget_params\u001b[0m\u001b[0;34m(\u001b[0m\u001b[0mself\u001b[0m\u001b[0;34m)\u001b[0m\u001b[0;34m:\u001b[0m\u001b[0;34m\u001b[0m\u001b[0;34m\u001b[0m\u001b[0m\n",
      "\u001b[0;32m~/opt/anaconda3/lib/python3.7/site-packages/pyCarDisplay-0.0.0-py3.7.egg/pyCarDisplay/car.py\u001b[0m in \u001b[0;36mrun\u001b[0;34m(self, verbose)\u001b[0m\n\u001b[1;32m    152\u001b[0m \u001b[0;34m\u001b[0m\u001b[0m\n\u001b[1;32m    153\u001b[0m             \u001b[0;31m# return data: PIL.Image\u001b[0m\u001b[0;34m\u001b[0m\u001b[0;34m\u001b[0m\u001b[0;34m\u001b[0m\u001b[0m\n\u001b[0;32m--> 154\u001b[0;31m             \u001b[0mdepth_image\u001b[0m \u001b[0;34m=\u001b[0m \u001b[0mself\u001b[0m\u001b[0;34m.\u001b[0m\u001b[0mdepth_detection_api\u001b[0m\u001b[0;34m.\u001b[0m\u001b[0mrun\u001b[0m\u001b[0;34m(\u001b[0m\u001b[0mself\u001b[0m\u001b[0;34m.\u001b[0m\u001b[0mverbose\u001b[0m\u001b[0;34m,\u001b[0m \u001b[0mimage\u001b[0m\u001b[0;34m,\u001b[0m \u001b[0;32mTrue\u001b[0m\u001b[0;34m)\u001b[0m\u001b[0;34m\u001b[0m\u001b[0;34m\u001b[0m\u001b[0m\n\u001b[0m\u001b[1;32m    155\u001b[0m \u001b[0;34m\u001b[0m\u001b[0m\n\u001b[1;32m    156\u001b[0m             \u001b[0;31m# return data: list\u001b[0m\u001b[0;34m\u001b[0m\u001b[0;34m\u001b[0m\u001b[0;34m\u001b[0m\u001b[0m\n",
      "\u001b[0;32m~/opt/anaconda3/lib/python3.7/site-packages/pyCarDisplay-0.0.0-py3.7.egg/pyCarDisplay/detection/depth_detection_api.py\u001b[0m in \u001b[0;36mrun\u001b[0;34m(self, verbose, pil_image, optimize)\u001b[0m\n\u001b[1;32m     93\u001b[0m \u001b[0;34m\u001b[0m\u001b[0m\n\u001b[1;32m     94\u001b[0m         \u001b[0;32mif\u001b[0m \u001b[0moptimize\u001b[0m\u001b[0;34m==\u001b[0m\u001b[0;32mTrue\u001b[0m\u001b[0;34m:\u001b[0m\u001b[0;34m\u001b[0m\u001b[0;34m\u001b[0m\u001b[0m\n\u001b[0;32m---> 95\u001b[0;31m             \u001b[0mrand_example\u001b[0m \u001b[0;34m=\u001b[0m \u001b[0mtorch\u001b[0m\u001b[0;34m.\u001b[0m\u001b[0mrand\u001b[0m\u001b[0;34m(\u001b[0m\u001b[0;36m1\u001b[0m\u001b[0;34m,\u001b[0m \u001b[0;36m3\u001b[0m\u001b[0;34m,\u001b[0m \u001b[0mnet_h\u001b[0m\u001b[0;34m,\u001b[0m \u001b[0mnet_w\u001b[0m\u001b[0;34m)\u001b[0m\u001b[0;34m\u001b[0m\u001b[0;34m\u001b[0m\u001b[0m\n\u001b[0m\u001b[1;32m     96\u001b[0m             \u001b[0mmodel\u001b[0m\u001b[0;34m(\u001b[0m\u001b[0mrand_example\u001b[0m\u001b[0;34m)\u001b[0m\u001b[0;34m\u001b[0m\u001b[0;34m\u001b[0m\u001b[0m\n\u001b[1;32m     97\u001b[0m             \u001b[0mtraced_script_module\u001b[0m \u001b[0;34m=\u001b[0m \u001b[0mtorch\u001b[0m\u001b[0;34m.\u001b[0m\u001b[0mjit\u001b[0m\u001b[0;34m.\u001b[0m\u001b[0mtrace\u001b[0m\u001b[0;34m(\u001b[0m\u001b[0mself\u001b[0m\u001b[0;34m.\u001b[0m\u001b[0mmodel\u001b[0m\u001b[0;34m,\u001b[0m \u001b[0mrand_example\u001b[0m\u001b[0;34m)\u001b[0m\u001b[0;34m\u001b[0m\u001b[0;34m\u001b[0m\u001b[0m\n",
      "\u001b[0;31mNameError\u001b[0m: name 'net_h' is not defined"
     ]
    }
   ],
   "source": [
    "display.start(verbose=True)"
   ]
  },
  {
   "cell_type": "code",
   "execution_count": null,
   "metadata": {},
   "outputs": [],
   "source": []
  },
  {
   "cell_type": "code",
   "execution_count": null,
   "metadata": {},
   "outputs": [],
   "source": []
  }
 ],
 "metadata": {
  "kernelspec": {
   "display_name": "Python 3",
   "language": "python",
   "name": "python3"
  },
  "language_info": {
   "codemirror_mode": {
    "name": "ipython",
    "version": 3
   },
   "file_extension": ".py",
   "mimetype": "text/x-python",
   "name": "python",
   "nbconvert_exporter": "python",
   "pygments_lexer": "ipython3",
   "version": "3.8.5"
  }
 },
 "nbformat": 4,
 "nbformat_minor": 4
}
