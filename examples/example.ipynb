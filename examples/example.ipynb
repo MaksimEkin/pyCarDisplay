{
 "cells": [
  {
   "cell_type": "code",
   "execution_count": 1,
   "metadata": {},
   "outputs": [],
   "source": [
    "from pyCarDisplay.pyCarDisplay import CarDisplay"
   ]
  },
  {
   "cell_type": "code",
   "execution_count": 2,
   "metadata": {},
   "outputs": [
    {
     "name": "stdout",
     "output_type": "stream",
     "text": [
      "Car configurations:\n",
      "car_images_path = ../data/2011_09_26/2011_09_26_drive_0005_sync/image_02/data/\n",
      "imu_sensor_path = ../data/2011_09_26/2011_09_26_drive_0005_sync/oxts/data/\n",
      "lidar_sensor_path = ../data/2011_09_26/2011_09_26_drive_0005_sync/velodyne_points/dat/a\n",
      "object_detection_model_path = ../data/checkpoint_ssd300.pth.tar\n",
      "depth_detection_model_path = ../data/model-f6b98070.pt\n",
      "img_resize_size = (300, 300)\n",
      "norm_mean = [0.485, 0.456, 0.406]\n",
      "norm_std = [0.229, 0.224, 0.225]\n",
      "R_covariance = 0.1\n",
      "add_noise = True\n",
      "IMU_name = None\n",
      "gui_speed = 1\n",
      "random_state = 42\n",
      "image_extension = png\n",
      "verbose = True\n",
      "Object detection is using: cpu\n",
      "Object detection API is loading the model: ../data/checkpoint_ssd300.pth.tar\n",
      "\n",
      "Loaded checkpoint from epoch 232.\n",
      "\n",
      "Object detection is using: cpu\n",
      "Loading weights:  ../data/model-f6b98070.pt\n"
     ]
    },
    {
     "name": "stderr",
     "output_type": "stream",
     "text": [
      "/opt/anaconda3/envs/pyCarDisplay/lib/python3.8/site-packages/torch-1.8.0-py3.8-macosx-10.9-x86_64.egg/torch/serialization.py:656: SourceChangeWarning: source code of class 'torch.nn.modules.conv.Conv2d' has changed. you can retrieve the original source code by accessing the object's source attribute or set `torch.nn.Module.dump_patches = True` and use the patch tool to revert the changes.\n",
      "  warnings.warn(msg, SourceChangeWarning)\n",
      "/opt/anaconda3/envs/pyCarDisplay/lib/python3.8/site-packages/torch-1.8.0-py3.8-macosx-10.9-x86_64.egg/torch/serialization.py:656: SourceChangeWarning: source code of class 'torch.nn.modules.pooling.MaxPool2d' has changed. you can retrieve the original source code by accessing the object's source attribute or set `torch.nn.Module.dump_patches = True` and use the patch tool to revert the changes.\n",
      "  warnings.warn(msg, SourceChangeWarning)\n",
      "Using cache found in /Users/maksimekineren/.cache/torch/hub/facebookresearch_WSL-Images_master\n"
     ]
    },
    {
     "name": "stdout",
     "output_type": "stream",
     "text": [
      "Loading the IMU data...\n",
      "<class 'pandas.core.frame.DataFrame'>\n",
      "Int64Index: 154 entries, 0 to 0\n",
      "Data columns (total 31 columns):\n",
      " #   Column        Non-Null Count  Dtype  \n",
      "---  ------        --------------  -----  \n",
      " 0   lat           154 non-null    float64\n",
      " 1   lon           154 non-null    float64\n",
      " 2   alt           154 non-null    float64\n",
      " 3   roll          154 non-null    float64\n",
      " 4   pitch         154 non-null    float64\n",
      " 5   yaw           154 non-null    float64\n",
      " 6   vn            154 non-null    float64\n",
      " 7   ve            154 non-null    float64\n",
      " 8   vf            154 non-null    float64\n",
      " 9   vl            154 non-null    float64\n",
      " 10  vu            154 non-null    float64\n",
      " 11  ax            154 non-null    float64\n",
      " 12  ay            154 non-null    float64\n",
      " 13  az            154 non-null    float64\n",
      " 14  af            154 non-null    float64\n",
      " 15  al            154 non-null    float64\n",
      " 16  au            154 non-null    float64\n",
      " 17  wx            154 non-null    float64\n",
      " 18  wy            154 non-null    float64\n",
      " 19  wz            154 non-null    float64\n",
      " 20  wf            154 non-null    float64\n",
      " 21  wl            154 non-null    float64\n",
      " 22  wu            154 non-null    float64\n",
      " 23  pos_accuracy  154 non-null    float64\n",
      " 24  vel_accuracy  154 non-null    float64\n",
      " 25  navstat       154 non-null    float64\n",
      " 26  numsats       154 non-null    float64\n",
      " 27  posmode       154 non-null    float64\n",
      " 28  velmode       154 non-null    float64\n",
      " 29  orimode       154 non-null    float64\n",
      " 30  frame         154 non-null    int64  \n",
      "dtypes: float64(30), int64(1)\n",
      "memory usage: 38.5 KB\n",
      "None\n",
      "Initilized IMU\n",
      "Current frame:0\n",
      "Total number of frames:154\n",
      "Total image frames loaded:154\n"
     ]
    }
   ],
   "source": [
    "display = CarDisplay(\n",
    "    car_images_path=\"../data/2011_09_26/2011_09_26_drive_0005_sync/image_02/data/\", \n",
    "    imu_sensor_path='../data/2011_09_26/2011_09_26_drive_0005_sync/oxts/data/',\n",
    "    lidar_sensor_path='../data/2011_09_26/2011_09_26_drive_0005_sync/velodyne_points/dat/a',\n",
    "    object_detection_model_path='../data/checkpoint_ssd300.pth.tar',\n",
    "    depth_detection_model_path='../data/model-f6b98070.pt',\n",
    "    verbose=True,\n",
    "    device=\"cpu\"\n",
    ")"
   ]
  },
  {
   "cell_type": "code",
   "execution_count": 3,
   "metadata": {},
   "outputs": [
    {
     "name": "stdout",
     "output_type": "stream",
     "text": [
      "Frame:0\n",
      "<PIL.Image.Image image mode=RGB size=1242x375 at 0x7FED87EFACA0>\n",
      "{'annotated_image': <PIL.Image.Image image mode=RGB size=1242x375 at 0x7FED87EFACA0>, 'box_info': {'text_size': [(42, 11), (18, 11), (18, 11), (36, 11), (36, 11)], 'box_location': [[892.24609375, 196.8868408203125, 970.1781616210938, 238.54507446289062], [294.5851745605469, 169.62484741210938, 453.1649169921875, 288.343994140625], [288.2861328125, 166.38729858398438, 456.9386901855469, 286.659912109375], [760.363525390625, 170.258544921875, 875.0740966796875, 366.2367248535156], [1106.48291015625, 173.97779846191406, 1212.439453125, 308.33612060546875]]}, 'detected': True}\n",
      "Object detected:5\n"
     ]
    },
    {
     "name": "stderr",
     "output_type": "stream",
     "text": [
      "/Users/maksimekineren/Desktop/Maksim/UMBC/Classes/Spring 2021/CMSC 611/Project/pyCarDisplay/examples/model.py:504: UserWarning: indexing with dtype torch.uint8 is now deprecated, please use a dtype torch.bool instead. (Triggered internally at  ../aten/src/ATen/native/IndexingUtils.h:30.)\n",
      "  image_boxes.append(class_decoded_locs[1 - suppress])\n",
      "/Users/maksimekineren/Desktop/Maksim/UMBC/Classes/Spring 2021/CMSC 611/Project/pyCarDisplay/examples/model.py:506: UserWarning: indexing with dtype torch.uint8 is now deprecated, please use a dtype torch.bool instead. (Triggered internally at  ../aten/src/ATen/native/IndexingUtils.h:30.)\n",
      "  image_scores.append(class_scores[1 - suppress])\n",
      "/Users/maksimekineren/Desktop/Maksim/UMBC/Classes/Spring 2021/CMSC 611/Project/pyCarDisplay/examples/model.py:504: UserWarning: indexing with dtype torch.uint8 is now deprecated, please use a dtype torch.bool instead. (Triggered internally at  ../aten/src/ATen/native/IndexingUtils.h:30.)\n",
      "  image_boxes.append(class_decoded_locs[1 - suppress])\n",
      "/Users/maksimekineren/Desktop/Maksim/UMBC/Classes/Spring 2021/CMSC 611/Project/pyCarDisplay/examples/model.py:506: UserWarning: indexing with dtype torch.uint8 is now deprecated, please use a dtype torch.bool instead. (Triggered internally at  ../aten/src/ATen/native/IndexingUtils.h:30.)\n",
      "  image_scores.append(class_scores[1 - suppress])\n",
      "/Users/maksimekineren/Desktop/Maksim/UMBC/Classes/Spring 2021/CMSC 611/Project/pyCarDisplay/examples/model.py:504: UserWarning: indexing with dtype torch.uint8 is now deprecated, please use a dtype torch.bool instead. (Triggered internally at  ../aten/src/ATen/native/IndexingUtils.h:30.)\n",
      "  image_boxes.append(class_decoded_locs[1 - suppress])\n",
      "/Users/maksimekineren/Desktop/Maksim/UMBC/Classes/Spring 2021/CMSC 611/Project/pyCarDisplay/examples/model.py:506: UserWarning: indexing with dtype torch.uint8 is now deprecated, please use a dtype torch.bool instead. (Triggered internally at  ../aten/src/ATen/native/IndexingUtils.h:30.)\n",
      "  image_scores.append(class_scores[1 - suppress])\n",
      "/Users/maksimekineren/Desktop/Maksim/UMBC/Classes/Spring 2021/CMSC 611/Project/pyCarDisplay/examples/model.py:504: UserWarning: indexing with dtype torch.uint8 is now deprecated, please use a dtype torch.bool instead. (Triggered internally at  ../aten/src/ATen/native/IndexingUtils.h:30.)\n",
      "  image_boxes.append(class_decoded_locs[1 - suppress])\n",
      "/Users/maksimekineren/Desktop/Maksim/UMBC/Classes/Spring 2021/CMSC 611/Project/pyCarDisplay/examples/model.py:506: UserWarning: indexing with dtype torch.uint8 is now deprecated, please use a dtype torch.bool instead. (Triggered internally at  ../aten/src/ATen/native/IndexingUtils.h:30.)\n",
      "  image_scores.append(class_scores[1 - suppress])\n"
     ]
    },
    {
     "ename": "AttributeError",
     "evalue": "'Car' object has no attribute 'device'",
     "output_type": "error",
     "traceback": [
      "\u001b[0;31m---------------------------------------------------------------------------\u001b[0m",
      "\u001b[0;31mAttributeError\u001b[0m                            Traceback (most recent call last)",
      "\u001b[0;32m<ipython-input-3-d1d1871a40c6>\u001b[0m in \u001b[0;36m<module>\u001b[0;34m\u001b[0m\n\u001b[0;32m----> 1\u001b[0;31m \u001b[0mdisplay\u001b[0m\u001b[0;34m.\u001b[0m\u001b[0mstart\u001b[0m\u001b[0;34m(\u001b[0m\u001b[0mverbose\u001b[0m\u001b[0;34m=\u001b[0m\u001b[0;32mTrue\u001b[0m\u001b[0;34m)\u001b[0m\u001b[0;34m\u001b[0m\u001b[0;34m\u001b[0m\u001b[0m\n\u001b[0m",
      "\u001b[0;32m/opt/anaconda3/envs/pyCarDisplay/lib/python3.8/site-packages/pyCarDisplay-0.0.0-py3.8.egg/pyCarDisplay/pyCarDisplay.py\u001b[0m in \u001b[0;36mstart\u001b[0;34m(self, **parameters)\u001b[0m\n\u001b[1;32m     23\u001b[0m \u001b[0;34m\u001b[0m\u001b[0m\n\u001b[1;32m     24\u001b[0m         \u001b[0;31m# TODO: Perform any parameter/path checks here\u001b[0m\u001b[0;34m\u001b[0m\u001b[0;34m\u001b[0m\u001b[0;34m\u001b[0m\u001b[0m\n\u001b[0;32m---> 25\u001b[0;31m         \u001b[0mself\u001b[0m\u001b[0;34m.\u001b[0m\u001b[0mcar\u001b[0m\u001b[0;34m.\u001b[0m\u001b[0mrun\u001b[0m\u001b[0;34m(\u001b[0m\u001b[0;34m**\u001b[0m\u001b[0mparameters\u001b[0m\u001b[0;34m)\u001b[0m\u001b[0;34m\u001b[0m\u001b[0;34m\u001b[0m\u001b[0m\n\u001b[0m\u001b[1;32m     26\u001b[0m \u001b[0;34m\u001b[0m\u001b[0m\n\u001b[1;32m     27\u001b[0m     \u001b[0;32mdef\u001b[0m \u001b[0mget_params\u001b[0m\u001b[0;34m(\u001b[0m\u001b[0mself\u001b[0m\u001b[0;34m)\u001b[0m\u001b[0;34m:\u001b[0m\u001b[0;34m\u001b[0m\u001b[0;34m\u001b[0m\u001b[0m\n",
      "\u001b[0;32m/opt/anaconda3/envs/pyCarDisplay/lib/python3.8/site-packages/pyCarDisplay-0.0.0-py3.8.egg/pyCarDisplay/car.py\u001b[0m in \u001b[0;36mrun\u001b[0;34m(self, verbose)\u001b[0m\n\u001b[1;32m    159\u001b[0m \u001b[0;34m\u001b[0m\u001b[0m\n\u001b[1;32m    160\u001b[0m             \u001b[0;31m# return data: PIL.Image\u001b[0m\u001b[0;34m\u001b[0m\u001b[0;34m\u001b[0m\u001b[0;34m\u001b[0m\u001b[0m\n\u001b[0;32m--> 161\u001b[0;31m             \u001b[0mdepth_image\u001b[0m \u001b[0;34m=\u001b[0m \u001b[0mself\u001b[0m\u001b[0;34m.\u001b[0m\u001b[0mdepth_detection_api\u001b[0m\u001b[0;34m.\u001b[0m\u001b[0mrun\u001b[0m\u001b[0;34m(\u001b[0m\u001b[0mself\u001b[0m\u001b[0;34m.\u001b[0m\u001b[0mverbose\u001b[0m\u001b[0;34m,\u001b[0m \u001b[0mimage\u001b[0m\u001b[0;34m,\u001b[0m \u001b[0;32mTrue\u001b[0m\u001b[0;34m,\u001b[0m \u001b[0mdevice\u001b[0m\u001b[0;34m=\u001b[0m\u001b[0mself\u001b[0m\u001b[0;34m.\u001b[0m\u001b[0mdevice\u001b[0m\u001b[0;34m)\u001b[0m\u001b[0;34m\u001b[0m\u001b[0;34m\u001b[0m\u001b[0m\n\u001b[0m\u001b[1;32m    162\u001b[0m \u001b[0;34m\u001b[0m\u001b[0m\n\u001b[1;32m    163\u001b[0m             \u001b[0;31m# return data: list\u001b[0m\u001b[0;34m\u001b[0m\u001b[0;34m\u001b[0m\u001b[0;34m\u001b[0m\u001b[0m\n",
      "\u001b[0;31mAttributeError\u001b[0m: 'Car' object has no attribute 'device'"
     ]
    }
   ],
   "source": [
    "display.start(verbose=True)"
   ]
  },
  {
   "cell_type": "code",
   "execution_count": null,
   "metadata": {},
   "outputs": [],
   "source": []
  },
  {
   "cell_type": "code",
   "execution_count": null,
   "metadata": {},
   "outputs": [],
   "source": []
  }
 ],
 "metadata": {
  "kernelspec": {
   "display_name": "Python 3",
   "language": "python",
   "name": "python3"
  },
  "language_info": {
   "codemirror_mode": {
    "name": "ipython",
    "version": 3
   },
   "file_extension": ".py",
   "mimetype": "text/x-python",
   "name": "python",
   "nbconvert_exporter": "python",
   "pygments_lexer": "ipython3",
   "version": "3.8.5"
  }
 },
 "nbformat": 4,
 "nbformat_minor": 4
}
